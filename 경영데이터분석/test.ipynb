{
 "cells": [
  {
   "cell_type": "code",
   "execution_count": 16,
   "id": "d489686e-e4b5-484e-b7d9-c23a755f9ad7",
   "metadata": {},
   "outputs": [],
   "source": [
    "import csv\n",
    "f = open('write.csv', 'w', encoding='cp949', newline='')\n",
    "\n",
    "# 주피터 노트북 인코딩 encoding='utf-8'\n",
    "wr = csv.writer(f)\n",
    "\n",
    "wr.writerow(['ID', '이름', '상징색', '취미', '특징'])\n",
    "wr.writerow(['001', '뽀로로', '파랑색', '낚시', '펭귄'])\n",
    "wr.writerow(['002', '에디', '주황색', '과학실험', '사막여우'])\n",
    "wr.writerow(['003', '크롱', '초록색', '눈싸움', '공룡'])\n",
    "wr.writerow(['004', '루피', '분홍색', '요리', '비버'])\n",
    "wr.writerow(['005', '패티', '보라색', '운동', '펭귄'])\n",
    "\n",
    "f.close()"
   ]
  },
  {
   "cell_type": "code",
   "execution_count": 17,
   "id": "0cd6d8e2-2e13-40a0-8ed3-0815e126a700",
   "metadata": {},
   "outputs": [],
   "source": [
    "f = open('write.csv', 'a', encoding = 'cp949', newline='')\n",
    "#a는 append를 말함 \n",
    "wr= csv.writer(f)\n",
    "wr.writerow(['006', '포비', '흰색', '춤', '북극곰'])\n",
    "\n",
    "f.close()"
   ]
  },
  {
   "cell_type": "code",
   "execution_count": 18,
   "id": "41390706-63a1-41ce-9c48-45c8bc83cb9d",
   "metadata": {},
   "outputs": [],
   "source": [
    "f = open('weather.csv', 'w', newline='')\n",
    "wr = csv.writer(f) #f라는 것을 wr변수에 담아준다. \n",
    "wr.writerow(['날짜', '요일', '날씨', '최저기온', '최고기온', '강수량'])\n",
    "wr.writerow(['20230101', '월', '맑음', -4.3, 3.8, 0])\n",
    "wr.writerow(['20230102', '화', '맑음', -7.4, 0.4, 0])\n",
    "wr.writerow(['20240103', '수', '맑음', -9.0, 0.6, 0])\n",
    "f.close()\n",
    "#엑셀로 잘 저장되어 잇는지 확인해보자 \n"
   ]
  },
  {
   "cell_type": "code",
   "execution_count": 19,
   "id": "e9518373-0464-4914-9af0-f2e33beadba3",
   "metadata": {},
   "outputs": [],
   "source": [
    "import openpyxl\n",
    "\n",
    "wb = openpyxl.load_workbook('characters.xlsx')"
   ]
  },
  {
   "cell_type": "code",
   "execution_count": 20,
   "id": "08bf6eab-57d0-4bc7-be9c-38441cdf4a0b",
   "metadata": {},
   "outputs": [
    {
     "name": "stdout",
     "output_type": "stream",
     "text": [
      "['Sheet1']\n"
     ]
    }
   ],
   "source": [
    "print(wb.sheetnames)"
   ]
  },
  {
   "cell_type": "code",
   "execution_count": 21,
   "id": "43914906-c52f-40f6-a1c6-babec0b14185",
   "metadata": {},
   "outputs": [
    {
     "name": "stdout",
     "output_type": "stream",
     "text": [
      "루피\n"
     ]
    }
   ],
   "source": [
    "sheet1 = wb['Sheet1']\n",
    "print(sheet1['B5'].value)"
   ]
  },
  {
   "cell_type": "code",
   "execution_count": 22,
   "id": "2c217938-c452-41ba-8b27-a82d91a57aac",
   "metadata": {},
   "outputs": [
    {
     "name": "stdout",
     "output_type": "stream",
     "text": [
      "['Sheet1', 'Sheet2']\n"
     ]
    }
   ],
   "source": [
    "# 새로운 워크시트 생성하기 \n",
    "wb.create_sheet('Sheet2')\n",
    "# 시트 이름을 출력하자 시트1, 시트2가 뜰거임\n",
    "print(wb.sheetnames)"
   ]
  },
  {
   "cell_type": "code",
   "execution_count": 23,
   "id": "dc927fbe-8640-43fb-9a01-bb07a8187c29",
   "metadata": {},
   "outputs": [
    {
     "name": "stdout",
     "output_type": "stream",
     "text": [
      "['캐릭터명단', '인기도조사']\n"
     ]
    }
   ],
   "source": [
    "sheet1 = wb['Sheet1']\n",
    "sheet2 = wb['Sheet2']\n",
    "sheet1.title = '캐릭터명단'\n",
    "sheet2.title = '인기도조사'\n",
    "print(wb.sheetnames)"
   ]
  },
  {
   "cell_type": "code",
   "execution_count": 25,
   "id": "cc979baa-f72e-4aab-b8dd-d58e8ea6b1d4",
   "metadata": {},
   "outputs": [
    {
     "name": "stdout",
     "output_type": "stream",
     "text": [
      "['캐릭터명단']\n"
     ]
    }
   ],
   "source": [
    "del wb['인기도조사']\n",
    "print(wb.sheetnames)"
   ]
  },
  {
   "cell_type": "code",
   "execution_count": 26,
   "id": "be129f52-9444-4ce3-a9b4-ea6e2c444ada",
   "metadata": {},
   "outputs": [],
   "source": [
    "wb.save('complete.xlsx')\n",
    "# 엑셀 파일 저장하기 "
   ]
  },
  {
   "cell_type": "code",
   "execution_count": 34,
   "id": "a4ae9c76-e0de-45e9-a158-56b5438c9474",
   "metadata": {},
   "outputs": [],
   "source": [
    "#공공데이터 \n",
    "\n",
    "wb = openpyxl.Workbook()\n",
    "ws = wb.active \n",
    "\n",
    "# data1.csv 파일 \n",
    "with open('data1.csv', encoding = 'cp949') as f:\n",
    "    reader = csv.reader(f)\n",
    "    for row in reader:\n",
    "         ws.append(row)\n",
    "\n",
    "ws2 = wb.create_sheet('Sheet2')\n",
    "\n",
    "with open('data2.csv', encoding = 'cp949') as f:\n",
    "    reader = csv.reader(f)\n",
    "    for row in reader:\n",
    "         ws2.append(row)\n",
    "\n",
    "ws3 = wb.create_sheet('Sheet3')\n",
    "\n",
    "with open('data3.csv', encoding = 'cp949') as f: \n",
    "     reader = csv.reader(f)\n",
    "     for row in reader:\n",
    "          ws3.append(row)\n",
    "         "
   ]
  },
  {
   "cell_type": "code",
   "execution_count": 35,
   "id": "fcc82346-c767-4060-a6fb-52cbd9086419",
   "metadata": {},
   "outputs": [],
   "source": [
    "ws.title = '경기도 의정부시_의정부경전철 혼잡도'\n",
    "ws2.title = '대전교통공사_열차 혼잡도 분석'\n",
    "ws3.title = '서울특별시_지하철 혼잡도 정보' \n",
    "\n",
    "wb.save('traffic.xlsx')\n"
   ]
  },
  {
   "cell_type": "code",
   "execution_count": null,
   "id": "1c7d3e69-1c2c-4683-a236-8f170f6c773d",
   "metadata": {},
   "outputs": [],
   "source": []
  },
  {
   "cell_type": "code",
   "execution_count": null,
   "id": "290a49d9-1d93-4d70-a08b-65a0b036dc55",
   "metadata": {},
   "outputs": [],
   "source": []
  },
  {
   "cell_type": "code",
   "execution_count": null,
   "id": "4a5aa140-1330-4ae0-a0de-2de8a86c67b8",
   "metadata": {},
   "outputs": [],
   "source": []
  }
 ],
 "metadata": {
  "kernelspec": {
   "display_name": "Python 3 (ipykernel)",
   "language": "python",
   "name": "python3"
  },
  "language_info": {
   "codemirror_mode": {
    "name": "ipython",
    "version": 3
   },
   "file_extension": ".py",
   "mimetype": "text/x-python",
   "name": "python",
   "nbconvert_exporter": "python",
   "pygments_lexer": "ipython3",
   "version": "3.11.7"
  }
 },
 "nbformat": 4,
 "nbformat_minor": 5
}
