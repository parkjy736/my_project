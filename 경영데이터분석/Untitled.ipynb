{
 "cells": [
  {
   "cell_type": "code",
   "execution_count": 1,
   "id": "4675b6d6-9c49-447e-ae5a-e7152bed0178",
   "metadata": {},
   "outputs": [],
   "source": [
    "from selenium import webdriver\n",
    "driver = webdriver.Chrome()"
   ]
  },
  {
   "cell_type": "code",
   "execution_count": 15,
   "id": "83014e6a-bb09-4a5b-9319-163998a7f31e",
   "metadata": {},
   "outputs": [],
   "source": [
    "# 원하는 페이지로 이동\n",
    "driver.get('https://www.naver.com/') # url 주소로 윈도우 창이 만들어짐"
   ]
  },
  {
   "cell_type": "code",
   "execution_count": 14,
   "id": "b643c8c7-46f1-4a5d-9e45-1f2450c3e68c",
   "metadata": {},
   "outputs": [
    {
     "ename": "NoSuchElementException",
     "evalue": "Message: no such element: Unable to locate element: {\"method\":\"xpath\",\"selector\":\"//*[@id=\"gnb\"]/div/ul/li[1]/a\"}\n  (Session info: chrome=129.0.6668.90); For documentation on this error, please visit: https://www.selenium.dev/documentation/webdriver/troubleshooting/errors#no-such-element-exception\nStacktrace:\n\tGetHandleVerifier [0x00007FF7A180B645+29573]\n\t(No symbol) [0x00007FF7A1780470]\n\t(No symbol) [0x00007FF7A163B6EA]\n\t(No symbol) [0x00007FF7A168F815]\n\t(No symbol) [0x00007FF7A168FA6C]\n\t(No symbol) [0x00007FF7A16DB917]\n\t(No symbol) [0x00007FF7A16B733F]\n\t(No symbol) [0x00007FF7A16D86BC]\n\t(No symbol) [0x00007FF7A16B70A3]\n\t(No symbol) [0x00007FF7A16812DF]\n\t(No symbol) [0x00007FF7A1682441]\n\tGetHandleVerifier [0x00007FF7A1B3C58D+3375821]\n\tGetHandleVerifier [0x00007FF7A1B87987+3684039]\n\tGetHandleVerifier [0x00007FF7A1B7CDAB+3640043]\n\tGetHandleVerifier [0x00007FF7A18CB7C6+816390]\n\t(No symbol) [0x00007FF7A178B77F]\n\t(No symbol) [0x00007FF7A17875A4]\n\t(No symbol) [0x00007FF7A1787740]\n\t(No symbol) [0x00007FF7A177659F]\n\tBaseThreadInitThunk [0x00007FF86301257D+29]\n\tRtlUserThreadStart [0x00007FF863CEAF28+40]\n",
     "output_type": "error",
     "traceback": [
      "\u001b[1;31m---------------------------------------------------------------------------\u001b[0m",
      "\u001b[1;31mNoSuchElementException\u001b[0m                    Traceback (most recent call last)",
      "Cell \u001b[1;32mIn[14], line 1\u001b[0m\n\u001b[1;32m----> 1\u001b[0m driver\u001b[38;5;241m.\u001b[39mfind_element(\u001b[38;5;124m'\u001b[39m\u001b[38;5;124mxpath\u001b[39m\u001b[38;5;124m'\u001b[39m, \u001b[38;5;124m'\u001b[39m\u001b[38;5;124m//*[@id=\u001b[39m\u001b[38;5;124m\"\u001b[39m\u001b[38;5;124mgnb\u001b[39m\u001b[38;5;124m\"\u001b[39m\u001b[38;5;124m]/div/ul/li[1]/a\u001b[39m\u001b[38;5;124m'\u001b[39m)\u001b[38;5;241m.\u001b[39mclick()\n",
      "File \u001b[1;32m~\\anaconda3\\Lib\\site-packages\\selenium\\webdriver\\remote\\webdriver.py:748\u001b[0m, in \u001b[0;36mWebDriver.find_element\u001b[1;34m(self, by, value)\u001b[0m\n\u001b[0;32m    745\u001b[0m     by \u001b[38;5;241m=\u001b[39m By\u001b[38;5;241m.\u001b[39mCSS_SELECTOR\n\u001b[0;32m    746\u001b[0m     value \u001b[38;5;241m=\u001b[39m \u001b[38;5;124mf\u001b[39m\u001b[38;5;124m'\u001b[39m\u001b[38;5;124m[name=\u001b[39m\u001b[38;5;124m\"\u001b[39m\u001b[38;5;132;01m{\u001b[39;00mvalue\u001b[38;5;132;01m}\u001b[39;00m\u001b[38;5;124m\"\u001b[39m\u001b[38;5;124m]\u001b[39m\u001b[38;5;124m'\u001b[39m\n\u001b[1;32m--> 748\u001b[0m \u001b[38;5;28;01mreturn\u001b[39;00m \u001b[38;5;28mself\u001b[39m\u001b[38;5;241m.\u001b[39mexecute(Command\u001b[38;5;241m.\u001b[39mFIND_ELEMENT, {\u001b[38;5;124m\"\u001b[39m\u001b[38;5;124musing\u001b[39m\u001b[38;5;124m\"\u001b[39m: by, \u001b[38;5;124m\"\u001b[39m\u001b[38;5;124mvalue\u001b[39m\u001b[38;5;124m\"\u001b[39m: value})[\u001b[38;5;124m\"\u001b[39m\u001b[38;5;124mvalue\u001b[39m\u001b[38;5;124m\"\u001b[39m]\n",
      "File \u001b[1;32m~\\anaconda3\\Lib\\site-packages\\selenium\\webdriver\\remote\\webdriver.py:354\u001b[0m, in \u001b[0;36mWebDriver.execute\u001b[1;34m(self, driver_command, params)\u001b[0m\n\u001b[0;32m    352\u001b[0m response \u001b[38;5;241m=\u001b[39m \u001b[38;5;28mself\u001b[39m\u001b[38;5;241m.\u001b[39mcommand_executor\u001b[38;5;241m.\u001b[39mexecute(driver_command, params)\n\u001b[0;32m    353\u001b[0m \u001b[38;5;28;01mif\u001b[39;00m response:\n\u001b[1;32m--> 354\u001b[0m     \u001b[38;5;28mself\u001b[39m\u001b[38;5;241m.\u001b[39merror_handler\u001b[38;5;241m.\u001b[39mcheck_response(response)\n\u001b[0;32m    355\u001b[0m     response[\u001b[38;5;124m\"\u001b[39m\u001b[38;5;124mvalue\u001b[39m\u001b[38;5;124m\"\u001b[39m] \u001b[38;5;241m=\u001b[39m \u001b[38;5;28mself\u001b[39m\u001b[38;5;241m.\u001b[39m_unwrap_value(response\u001b[38;5;241m.\u001b[39mget(\u001b[38;5;124m\"\u001b[39m\u001b[38;5;124mvalue\u001b[39m\u001b[38;5;124m\"\u001b[39m, \u001b[38;5;28;01mNone\u001b[39;00m))\n\u001b[0;32m    356\u001b[0m     \u001b[38;5;28;01mreturn\u001b[39;00m response\n",
      "File \u001b[1;32m~\\anaconda3\\Lib\\site-packages\\selenium\\webdriver\\remote\\errorhandler.py:229\u001b[0m, in \u001b[0;36mErrorHandler.check_response\u001b[1;34m(self, response)\u001b[0m\n\u001b[0;32m    227\u001b[0m         alert_text \u001b[38;5;241m=\u001b[39m value[\u001b[38;5;124m\"\u001b[39m\u001b[38;5;124malert\u001b[39m\u001b[38;5;124m\"\u001b[39m]\u001b[38;5;241m.\u001b[39mget(\u001b[38;5;124m\"\u001b[39m\u001b[38;5;124mtext\u001b[39m\u001b[38;5;124m\"\u001b[39m)\n\u001b[0;32m    228\u001b[0m     \u001b[38;5;28;01mraise\u001b[39;00m exception_class(message, screen, stacktrace, alert_text)  \u001b[38;5;66;03m# type: ignore[call-arg]  # mypy is not smart enough here\u001b[39;00m\n\u001b[1;32m--> 229\u001b[0m \u001b[38;5;28;01mraise\u001b[39;00m exception_class(message, screen, stacktrace)\n",
      "\u001b[1;31mNoSuchElementException\u001b[0m: Message: no such element: Unable to locate element: {\"method\":\"xpath\",\"selector\":\"//*[@id=\"gnb\"]/div/ul/li[1]/a\"}\n  (Session info: chrome=129.0.6668.90); For documentation on this error, please visit: https://www.selenium.dev/documentation/webdriver/troubleshooting/errors#no-such-element-exception\nStacktrace:\n\tGetHandleVerifier [0x00007FF7A180B645+29573]\n\t(No symbol) [0x00007FF7A1780470]\n\t(No symbol) [0x00007FF7A163B6EA]\n\t(No symbol) [0x00007FF7A168F815]\n\t(No symbol) [0x00007FF7A168FA6C]\n\t(No symbol) [0x00007FF7A16DB917]\n\t(No symbol) [0x00007FF7A16B733F]\n\t(No symbol) [0x00007FF7A16D86BC]\n\t(No symbol) [0x00007FF7A16B70A3]\n\t(No symbol) [0x00007FF7A16812DF]\n\t(No symbol) [0x00007FF7A1682441]\n\tGetHandleVerifier [0x00007FF7A1B3C58D+3375821]\n\tGetHandleVerifier [0x00007FF7A1B87987+3684039]\n\tGetHandleVerifier [0x00007FF7A1B7CDAB+3640043]\n\tGetHandleVerifier [0x00007FF7A18CB7C6+816390]\n\t(No symbol) [0x00007FF7A178B77F]\n\t(No symbol) [0x00007FF7A17875A4]\n\t(No symbol) [0x00007FF7A1787740]\n\t(No symbol) [0x00007FF7A177659F]\n\tBaseThreadInitThunk [0x00007FF86301257D+29]\n\tRtlUserThreadStart [0x00007FF863CEAF28+40]\n"
     ]
    }
   ],
   "source": [
    "driver.find_element('xpath', '//*[@id=\"gnb\"]/div/ul/li[1]/a').click()"
   ]
  }
 ],
 "metadata": {
  "kernelspec": {
   "display_name": "Python 3 (ipykernel)",
   "language": "python",
   "name": "python3"
  },
  "language_info": {
   "codemirror_mode": {
    "name": "ipython",
    "version": 3
   },
   "file_extension": ".py",
   "mimetype": "text/x-python",
   "name": "python",
   "nbconvert_exporter": "python",
   "pygments_lexer": "ipython3",
   "version": "3.11.7"
  }
 },
 "nbformat": 4,
 "nbformat_minor": 5
}
