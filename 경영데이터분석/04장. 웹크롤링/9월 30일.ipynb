{
 "cells": [
  {
   "cell_type": "markdown",
   "id": "b0d4e631-ad4d-4e49-b79e-d32dce616f99",
   "metadata": {},
   "source": [
    "### 9월 30일(월) 경영데이터분석 수업"
   ]
  },
  {
   "cell_type": "code",
   "execution_count": 24,
   "id": "1f42978e-62f9-4f4d-860f-5f1655e0549c",
   "metadata": {},
   "outputs": [],
   "source": [
    "#pip install selenium\n",
    "# 주의 : 설치한뒤, restart the kernal 을 눌러야함"
   ]
  },
  {
   "cell_type": "code",
   "execution_count": 7,
   "id": "a7a58a86-1536-4fff-aed6-576ef697e0d2",
   "metadata": {},
   "outputs": [],
   "source": [
    "from selenium import webdriver\n",
    "from selenium.webdriver.common.by import By\n",
    "\n",
    "# 웹드라이버란 내가 특정 브라우저를 조작할수 있는 객체를 말함\n",
    "# 웹드라이버로 크롬드라이버도 있고 edge드라이버도 있음 "
   ]
  },
  {
   "cell_type": "code",
   "execution_count": 42,
   "id": "ad705d2b-b11b-4597-bede-5b5f6d2a8815",
   "metadata": {
    "scrolled": true
   },
   "outputs": [],
   "source": [
    "# 이걸 위에다가 만들어줭\n",
    "# 크롬 드라이버 생성\n",
    "driver = webdriver.Chrome()\n",
    "# 원하는 페이지로 이동\n",
    "driver.get('http://ncov.kdca.go.kr/') # url 주소로 윈도우 창이 만들어짐"
   ]
  },
  {
   "cell_type": "code",
   "execution_count": 40,
   "id": "dd3cffb7-b5d3-475e-a82e-9db68154b57e",
   "metadata": {},
   "outputs": [],
   "source": [
    "# 감염소식 클릭\n",
    "driver.find_element(By.CSS_SELECTOR, \"#gnb > div > nav > ul > li:nth-child(2) > a\").click()"
   ]
  },
  {
   "cell_type": "code",
   "execution_count": 12,
   "id": "150a1436-3d7e-4525-b58b-4f9cf3d1e0ce",
   "metadata": {},
   "outputs": [
    {
     "name": "stdout",
     "output_type": "stream",
     "text": [
      "[2024년 9월] 추석 이후 가을철 열성질환 주의\n"
     ]
    }
   ],
   "source": [
    "# 강의에서 태그의 text뽑는방법 (선택자를 이용)\n",
    "topnews = driver.find_element(By.CSS_SELECTOR, '#content > div > div.table-board.mt50 > table > tbody > tr:nth-child(1) > td.cell-subject > a')\n",
    "# =원하는 태그의 선택자를 선택자를 이용해서 태그를 원하는 태그의 webelement를 찾기\n",
    "# webelement는 내가 데이터를 추출, 클릭, 입력을 할 수 있는 객체를 말함 \n",
    "print(topnews.text)"
   ]
  },
  {
   "cell_type": "code",
   "execution_count": 30,
   "id": "d37f9c7e-4056-40ac-8f90-8d3cfa55a0d2",
   "metadata": {},
   "outputs": [
    {
     "name": "stdout",
     "output_type": "stream",
     "text": [
      "[2024년 9월] 추석 이후 가을철 열성질환 주의\n"
     ]
    }
   ],
   "source": [
    "# 수업 때 태그의 text뽑는법 ( x_path를 이용)\n",
    "topnews=driver.find_element('xpath','//*[@id=\"content\"]/div/div[1]/table/tbody/tr[1]/td[2]/a')\n",
    "print(topnews.text) # 창이 열리면 그 창의 감염소식 들어간다음, 이 코드를 실행해봐라 "
   ]
  },
  {
   "cell_type": "code",
   "execution_count": 41,
   "id": "f5bc54fa-6540-4dd5-8187-42e0781eb44b",
   "metadata": {
    "scrolled": true
   },
   "outputs": [],
   "source": [
    "driver.find_element('xpath', '//*[@id=\"gnb\"]/div/ul/li[1]/a').click()"
   ]
  },
  {
   "cell_type": "markdown",
   "id": "75df2b73-2cd7-4e19-b2d4-be1ad911166e",
   "metadata": {},
   "source": [
    "객체란 데이터랑 명령어를 모두 가질 수 있는 자료를 뜻함 (데이터 + 명령어)"
   ]
  },
  {
   "cell_type": "code",
   "execution_count": 14,
   "id": "b87df833-820e-4c60-9eb6-d599635e3ace",
   "metadata": {},
   "outputs": [
    {
     "name": "stdout",
     "output_type": "stream",
     "text": [
      "['[2024년 9월] 추석 이후 가을철 열성질환 주의', '질병관리청 감염병 ALERT - 코로나19, 엠폭스, 오로푸치열', '[2024년 8월]호흡기 감염병 환자 급증 대비', '[2024년 7월] 해외 여행 후 발열 환자 주의', '[2024년 6월] 조류인플루엔자의 포유류 감염 위험성', '[감염병 뉴스레터 No.8. Issue 12.] 2023년 함께 해주셔서 감사합니다. 2024년에 새로운 모습으로 뵙겠습니다.', '[감염병 뉴스레터 수시] 마이코플라스마 폐렴 유행 증가', '[11.8.브리핑 보도자료] 감염병 유행으로부터 국민 건강 안전하게', '[감염병 뉴스레터 No.8. Issue 11.] 호흡기 감염을 유발하는 다양한 바이러스와 세균이 유행 중이므로 환자의 진단과 치료에 유의해 주세요', '[감염병 뉴스레터 No.8. Issue 10.] 가을철 열성질환 환자가 늘어나고 있으니 진단과 치료에 주의해주세요.']\n"
     ]
    }
   ],
   "source": [
    "# 선택자를 이용해서 여러 기사를 가져오는방법\n",
    "topnews = driver.find_elements(By.CSS_SELECTOR, \".cell-subject>a\")\n",
    "\n",
    "topnews = [topnew.text for topnew in topnews]\n",
    "print(topnews)"
   ]
  },
  {
   "cell_type": "code",
   "execution_count": null,
   "id": "25be187b-2a03-44cd-aafc-6d320d745259",
   "metadata": {},
   "outputs": [],
   "source": [
    "# xpath를 이용해서 여러 기사를 가져오는방법\n",
    "# 이제 여러개의 최신 뉴스를 한꺼번에 수집할것이다. 이땐 find_elements를 사용한다 \n",
    "topnews= driver.find_elements('')\n",
    "# 태그를 찾게된다면, webelement라는 객체를 반환해준다. \n",
    "\n",
    "# 해당 xpath 경로는 위에서 하나의기사가 아니라 , 하나의 기사들의 부모태그의 경로를 복사한것임\n",
    "# 그래야 해당 페이지에서 나온 기사'들'을 가져올수 있음 \n",
    "\n",
    "#여러개의 텍스트를 리스트 topnews에 정리하자 \n",
    "topnews = [topnew.text for topnew in topnews]\n",
    "print(topnews)\n",
    " # 해당문법은 리스트 컴프리핸션임. for 루프와 append를 간결하게 표현한것임\n",
    " #topnew_text = []\n",
    " #for topnew in topnews:\n",
    " #  topnew_text.append(topnew.text) 세줄을 한줄로 간단히 한 문법을 리스트컴프리헨션, 축약문법임"
   ]
  },
  {
   "cell_type": "code",
   "execution_count": 31,
   "id": "75f789c7-0b17-4f82-8ff1-7b5d9e817885",
   "metadata": {},
   "outputs": [
    {
     "name": "stdout",
     "output_type": "stream",
     "text": [
      "['4460 [2024년 9월] 추석 이후 가을철 열성질환 주의 질병감시전략담당관 2024.09.20 1309\\n4459 질병관리청 감염병 ALERT - 코로나19, 엠폭스, 오로푸치열 질병감시전략담당관 2024.08.23 5241\\n4458 [2024년 8월]호흡기 감염병 환자 급증 대비 질병감시전략담당관 2024.08.16 12074\\n4457 [2024년 7월] 해외 여행 후 발열 환자 주의 질병감시전략담당관 2024.07.22 12524\\n4456 [2024년 6월] 조류인플루엔자의 포유류 감염 위험성 질병감시전략담당관 2024.06.17 5894\\n4455 [감염병 뉴스레터 No.8. Issue 12.] 2023년 함께 해주셔서 감사합니다. 2024년에 새로운 모습으로 뵙겠습니다. 위기분석담당관 2023.12.27 10249\\n4454 [감염병 뉴스레터 수시] 마이코플라스마 폐렴 유행 증가 위기분석담당관 2023.12.18 6274\\n4453 [11.8.브리핑 보도자료] 감염병 유행으로부터 국민 건강 안전하게 중앙방역대책본부 총괄조정팀 2023.12.08 6498\\n4452 [감염병 뉴스레터 No.8. Issue 11.] 호흡기 감염을 유발하는 다양한 바이러스와 세균이 유행 중이므로 환자의 진단과 치료에 유의해 주세요 위기분석담당관 2023.11.24 3743\\n4451 [감염병 뉴스레터 No.8. Issue 10.] 가을철 열성질환 환자가 늘어나고 있으니 진단과 치료에 주의해주세요. 위기분석담당관 2023.10.30 2915']\n"
     ]
    }
   ],
   "source": [
    "# xpath를 이용해서 여러 기사를 가져오는방법\n",
    "# 이제 여러개의 최신 뉴스를 한꺼번에 수집할것이다. 이땐 find_elements를 사용한다 \n",
    "topnews= driver.find_elements('xpath', '//*[@id=\"content\"]/div/div[1]/table/tbody')\n",
    "# 태그를 찾게된다면, webelement라는 객체를 반환해준다. \n",
    "\n",
    "# 해당 xpath 경로는 위에서 하나의기사가 아니라 , 하나의 기사들의 부모태그의 경로를 복사한것임\n",
    "# 그래야 해당 페이지에서 나온 기사'들'을 가져올수 있음 \n",
    "\n",
    "#여러개의 텍스트를 리스트 topnews에 정리하자 \n",
    "topnews = [topnew.text for topnew in topnews]\n",
    "print(topnews)\n",
    " # 해당문법은 리스트 컴프리핸션임. for 루프와 append를 간결하게 표현한것임\n",
    " #topnew_text = []\n",
    " #for topnew in topnews:\n",
    " #  topnew_text.append(topnew.text) 세줄을 한줄로 간단히 한 문법을 리스트컴프리헨션, 축약문법임"
   ]
  },
  {
   "cell_type": "markdown",
   "id": "622e6542-56c6-4748-848c-2fea2971383a",
   "metadata": {},
   "source": [
    "#### **버튼 클릭하기**"
   ]
  },
  {
   "cell_type": "markdown",
   "id": "16a53c53-eb34-4f5b-af82-f26fe6876aa6",
   "metadata": {},
   "source": [
    "셀레니움에서도 돋보기 버튼을 찾아 클릭하는 작업을 자동화할 수 있다.   \n",
    "개발자 도구에서 돋보기 버튼의 XPath를 복사해보자  "
   ]
  },
  {
   "cell_type": "code",
   "execution_count": 33,
   "id": "eb18450a-71bf-4a2e-88a2-6ae8524ab358",
   "metadata": {},
   "outputs": [
    {
     "name": "stdout",
     "output_type": "stream",
     "text": [
      "검색\n"
     ]
    }
   ],
   "source": [
    "button = driver.find_element('xpath', '//*[@id=\"content\"]/section[1]/div/div[1]/div[2]/form/button')\n",
    "print(button.text)\n",
    "#해당 xpath은 맨처음 메인페이지의 돋보기 버튼의 xpath이다. \n",
    "button.click() \n",
    "#click함수를 쓰면 진짜 클릭이 된다..!!메인페이지에서 검색페이지로 이동함을 알 수 있음!! \n",
    "#밑에 검색이라고 적힌거는 print함수 땜에 그럼 "
   ]
  },
  {
   "cell_type": "code",
   "execution_count": 18,
   "id": "a415069e-a092-478d-9e9e-f6b8b8c9d726",
   "metadata": {},
   "outputs": [],
   "source": [
    "# 입력해야할생활에선 추가적으로 뭔가 불러와야함 \n",
    "# 선택자로 버튼클릭하기 \n",
    "from selenium.webdriver.common.keys import Keys\n",
    "\n",
    "button  = driver.find_element(By.CSS_SELECTOR, \"#search\")\n",
    "# 버튼을 마우스 클릭\n",
    "button.click()\n",
    "# 서울 입력하기\n",
    "button.send_keys(\"서울\")\n",
    "# ENTER 클릭하기\n",
    "button.send_keys(Keys.ENTER) "
   ]
  },
  {
   "cell_type": "code",
   "execution_count": null,
   "id": "853c845d-31dd-40ad-9b6f-c5813c8cb9a8",
   "metadata": {},
   "outputs": [],
   "source": []
  },
  {
   "cell_type": "code",
   "execution_count": null,
   "id": "cc09ae49-250c-42d3-bcdb-146fe76bf83d",
   "metadata": {},
   "outputs": [],
   "source": []
  },
  {
   "cell_type": "code",
   "execution_count": null,
   "id": "6feb56d6-25e8-4c43-b7d0-a0fca4c2025e",
   "metadata": {},
   "outputs": [],
   "source": []
  }
 ],
 "metadata": {
  "kernelspec": {
   "display_name": "Python 3 (ipykernel)",
   "language": "python",
   "name": "python3"
  },
  "language_info": {
   "codemirror_mode": {
    "name": "ipython",
    "version": 3
   },
   "file_extension": ".py",
   "mimetype": "text/x-python",
   "name": "python",
   "nbconvert_exporter": "python",
   "pygments_lexer": "ipython3",
   "version": "3.11.7"
  }
 },
 "nbformat": 4,
 "nbformat_minor": 5
}
