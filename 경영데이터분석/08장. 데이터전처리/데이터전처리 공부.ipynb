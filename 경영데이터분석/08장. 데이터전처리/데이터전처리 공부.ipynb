{
 "cells": [
  {
   "cell_type": "code",
   "execution_count": 23,
   "id": "8b19672b-6537-41f6-b5f0-3bd6f0ba4aba",
   "metadata": {},
   "outputs": [
    {
     "data": {
      "text/html": [
       "<div>\n",
       "<style scoped>\n",
       "    .dataframe tbody tr th:only-of-type {\n",
       "        vertical-align: middle;\n",
       "    }\n",
       "\n",
       "    .dataframe tbody tr th {\n",
       "        vertical-align: top;\n",
       "    }\n",
       "\n",
       "    .dataframe thead th {\n",
       "        text-align: right;\n",
       "    }\n",
       "</style>\n",
       "<table border=\"1\" class=\"dataframe\">\n",
       "  <thead>\n",
       "    <tr style=\"text-align: right;\">\n",
       "      <th></th>\n",
       "      <th>A</th>\n",
       "      <th>B</th>\n",
       "      <th>C</th>\n",
       "    </tr>\n",
       "  </thead>\n",
       "  <tbody>\n",
       "    <tr>\n",
       "      <th>0</th>\n",
       "      <td>1.0</td>\n",
       "      <td>6.0</td>\n",
       "      <td>11.0</td>\n",
       "    </tr>\n",
       "    <tr>\n",
       "      <th>1</th>\n",
       "      <td>2.0</td>\n",
       "      <td>7.0</td>\n",
       "      <td>12.0</td>\n",
       "    </tr>\n",
       "    <tr>\n",
       "      <th>2</th>\n",
       "      <td>NaN</td>\n",
       "      <td>8.0</td>\n",
       "      <td>13.0</td>\n",
       "    </tr>\n",
       "    <tr>\n",
       "      <th>3</th>\n",
       "      <td>4.0</td>\n",
       "      <td>NaN</td>\n",
       "      <td>NaN</td>\n",
       "    </tr>\n",
       "    <tr>\n",
       "      <th>4</th>\n",
       "      <td>5.0</td>\n",
       "      <td>10.0</td>\n",
       "      <td>NaN</td>\n",
       "    </tr>\n",
       "  </tbody>\n",
       "</table>\n",
       "</div>"
      ],
      "text/plain": [
       "     A     B     C\n",
       "0  1.0   6.0  11.0\n",
       "1  2.0   7.0  12.0\n",
       "2  NaN   8.0  13.0\n",
       "3  4.0   NaN   NaN\n",
       "4  5.0  10.0   NaN"
      ]
     },
     "execution_count": 23,
     "metadata": {},
     "output_type": "execute_result"
    }
   ],
   "source": [
    "import pandas as pd\n",
    "import numpy as np\n",
    "\n",
    "df = pd.DataFrame({'A' : [1, 2, np.nan, 4, 5], \n",
    "                   'B' : [6, 7, 8, np.nan, 10], \n",
    "                   'C' : [11, 12, 13, np.nan, np.nan]})\n",
    "\n",
    "df"
   ]
  },
  {
   "cell_type": "code",
   "execution_count": 24,
   "id": "3c58432e-6cfe-46d3-be52-73e302071f42",
   "metadata": {},
   "outputs": [
    {
     "data": {
      "text/html": [
       "<div>\n",
       "<style scoped>\n",
       "    .dataframe tbody tr th:only-of-type {\n",
       "        vertical-align: middle;\n",
       "    }\n",
       "\n",
       "    .dataframe tbody tr th {\n",
       "        vertical-align: top;\n",
       "    }\n",
       "\n",
       "    .dataframe thead th {\n",
       "        text-align: right;\n",
       "    }\n",
       "</style>\n",
       "<table border=\"1\" class=\"dataframe\">\n",
       "  <thead>\n",
       "    <tr style=\"text-align: right;\">\n",
       "      <th></th>\n",
       "      <th>A</th>\n",
       "      <th>B</th>\n",
       "      <th>C</th>\n",
       "    </tr>\n",
       "  </thead>\n",
       "  <tbody>\n",
       "    <tr>\n",
       "      <th>0</th>\n",
       "      <td>False</td>\n",
       "      <td>False</td>\n",
       "      <td>False</td>\n",
       "    </tr>\n",
       "    <tr>\n",
       "      <th>1</th>\n",
       "      <td>False</td>\n",
       "      <td>False</td>\n",
       "      <td>False</td>\n",
       "    </tr>\n",
       "    <tr>\n",
       "      <th>2</th>\n",
       "      <td>True</td>\n",
       "      <td>False</td>\n",
       "      <td>False</td>\n",
       "    </tr>\n",
       "    <tr>\n",
       "      <th>3</th>\n",
       "      <td>False</td>\n",
       "      <td>True</td>\n",
       "      <td>True</td>\n",
       "    </tr>\n",
       "    <tr>\n",
       "      <th>4</th>\n",
       "      <td>False</td>\n",
       "      <td>False</td>\n",
       "      <td>True</td>\n",
       "    </tr>\n",
       "  </tbody>\n",
       "</table>\n",
       "</div>"
      ],
      "text/plain": [
       "       A      B      C\n",
       "0  False  False  False\n",
       "1  False  False  False\n",
       "2   True  False  False\n",
       "3  False   True   True\n",
       "4  False  False   True"
      ]
     },
     "execution_count": 24,
     "metadata": {},
     "output_type": "execute_result"
    }
   ],
   "source": [
    "pd.isna(df)"
   ]
  },
  {
   "cell_type": "code",
   "execution_count": 25,
   "id": "7b2e34c3-c0c5-4d8f-a133-9e78e2cb8bdf",
   "metadata": {},
   "outputs": [
    {
     "data": {
      "text/plain": [
       "A    1\n",
       "B    1\n",
       "C    2\n",
       "dtype: int64"
      ]
     },
     "execution_count": 25,
     "metadata": {},
     "output_type": "execute_result"
    }
   ],
   "source": [
    "pd.isna(df).sum()"
   ]
  },
  {
   "cell_type": "code",
   "execution_count": null,
   "id": "ad3b24c4-0ed2-40d2-9dcf-16cc3d401265",
   "metadata": {},
   "outputs": [],
   "source": []
  },
  {
   "cell_type": "code",
   "execution_count": 26,
   "id": "974416e6-3e3f-4e99-a1e7-35df7861c22b",
   "metadata": {},
   "outputs": [
    {
     "data": {
      "text/html": [
       "<div>\n",
       "<style scoped>\n",
       "    .dataframe tbody tr th:only-of-type {\n",
       "        vertical-align: middle;\n",
       "    }\n",
       "\n",
       "    .dataframe tbody tr th {\n",
       "        vertical-align: top;\n",
       "    }\n",
       "\n",
       "    .dataframe thead th {\n",
       "        text-align: right;\n",
       "    }\n",
       "</style>\n",
       "<table border=\"1\" class=\"dataframe\">\n",
       "  <thead>\n",
       "    <tr style=\"text-align: right;\">\n",
       "      <th></th>\n",
       "      <th>A</th>\n",
       "      <th>B</th>\n",
       "      <th>C</th>\n",
       "    </tr>\n",
       "  </thead>\n",
       "  <tbody>\n",
       "    <tr>\n",
       "      <th>0</th>\n",
       "      <td>1.0</td>\n",
       "      <td>6.0</td>\n",
       "      <td>11.0</td>\n",
       "    </tr>\n",
       "    <tr>\n",
       "      <th>1</th>\n",
       "      <td>2.0</td>\n",
       "      <td>7.0</td>\n",
       "      <td>12.0</td>\n",
       "    </tr>\n",
       "  </tbody>\n",
       "</table>\n",
       "</div>"
      ],
      "text/plain": [
       "     A    B     C\n",
       "0  1.0  6.0  11.0\n",
       "1  2.0  7.0  12.0"
      ]
     },
     "execution_count": 26,
     "metadata": {},
     "output_type": "execute_result"
    }
   ],
   "source": [
    "df_drop_nan = df.dropna()\n",
    "df_drop_nan"
   ]
  },
  {
   "cell_type": "code",
   "execution_count": 27,
   "id": "f93976de-578e-49e7-9276-8a6cd778f968",
   "metadata": {},
   "outputs": [
    {
     "name": "stdout",
     "output_type": "stream",
     "text": [
      "0    11.0\n",
      "1    12.0\n",
      "2    13.0\n",
      "3     0.0\n",
      "4     0.0\n",
      "Name: C, dtype: float64\n"
     ]
    }
   ],
   "source": [
    "df_0 = df['C'].fillna(0)\n",
    "print(df_0)"
   ]
  },
  {
   "cell_type": "code",
   "execution_count": 28,
   "id": "d98183dd-242c-4bf9-bee1-7121530956ca",
   "metadata": {},
   "outputs": [
    {
     "data": {
      "text/plain": [
       "0        1.0\n",
       "1        2.0\n",
       "2    missing\n",
       "3        4.0\n",
       "4        5.0\n",
       "Name: A, dtype: object"
      ]
     },
     "execution_count": 28,
     "metadata": {},
     "output_type": "execute_result"
    }
   ],
   "source": [
    "df_missing = df['A'].fillna('missing')\n",
    "df_missing"
   ]
  },
  {
   "cell_type": "code",
   "execution_count": 29,
   "id": "efdf6967-1d95-4967-9df6-1326b95f6cd8",
   "metadata": {},
   "outputs": [
    {
     "name": "stdout",
     "output_type": "stream",
     "text": [
      "     A     B     C\n",
      "0  1.0   6.0  11.0\n",
      "1  2.0   7.0  12.0\n",
      "2  NaN   8.0  13.0\n",
      "3  4.0   NaN   NaN\n",
      "4  5.0  10.0   NaN \n",
      "\n",
      "     A      B     C\n",
      "0  1.0   6.00  11.0\n",
      "1  2.0   7.00  12.0\n",
      "2  3.0   8.00  13.0\n",
      "3  4.0   7.75  12.0\n",
      "4  5.0  10.00  12.0\n"
     ]
    }
   ],
   "source": [
    "df_mean = df.fillna(df.mean())\n",
    "print(df, '\\n')\n",
    "print(df_mean)"
   ]
  },
  {
   "cell_type": "code",
   "execution_count": 30,
   "id": "cbbfef34-9a8b-458a-b09b-de09de3adeb9",
   "metadata": {},
   "outputs": [
    {
     "data": {
      "text/html": [
       "<div>\n",
       "<style scoped>\n",
       "    .dataframe tbody tr th:only-of-type {\n",
       "        vertical-align: middle;\n",
       "    }\n",
       "\n",
       "    .dataframe tbody tr th {\n",
       "        vertical-align: top;\n",
       "    }\n",
       "\n",
       "    .dataframe thead th {\n",
       "        text-align: right;\n",
       "    }\n",
       "</style>\n",
       "<table border=\"1\" class=\"dataframe\">\n",
       "  <thead>\n",
       "    <tr style=\"text-align: right;\">\n",
       "      <th></th>\n",
       "      <th>A</th>\n",
       "      <th>B</th>\n",
       "      <th>C</th>\n",
       "    </tr>\n",
       "  </thead>\n",
       "  <tbody>\n",
       "    <tr>\n",
       "      <th>0</th>\n",
       "      <td>1.0</td>\n",
       "      <td>6.0</td>\n",
       "      <td>11.0</td>\n",
       "    </tr>\n",
       "    <tr>\n",
       "      <th>1</th>\n",
       "      <td>2.0</td>\n",
       "      <td>7.0</td>\n",
       "      <td>12.0</td>\n",
       "    </tr>\n",
       "    <tr>\n",
       "      <th>2</th>\n",
       "      <td>3.0</td>\n",
       "      <td>8.0</td>\n",
       "      <td>13.0</td>\n",
       "    </tr>\n",
       "    <tr>\n",
       "      <th>3</th>\n",
       "      <td>4.0</td>\n",
       "      <td>12/25</td>\n",
       "      <td>missing</td>\n",
       "    </tr>\n",
       "    <tr>\n",
       "      <th>4</th>\n",
       "      <td>5.0</td>\n",
       "      <td>10.0</td>\n",
       "      <td>missing</td>\n",
       "    </tr>\n",
       "  </tbody>\n",
       "</table>\n",
       "</div>"
      ],
      "text/plain": [
       "     A      B        C\n",
       "0  1.0    6.0     11.0\n",
       "1  2.0    7.0     12.0\n",
       "2  3.0    8.0     13.0\n",
       "3  4.0  12/25  missing\n",
       "4  5.0   10.0  missing"
      ]
     },
     "execution_count": 30,
     "metadata": {},
     "output_type": "execute_result"
    }
   ],
   "source": [
    "fill_dict= {'A' : df['A'].mean(), 'B' : '12/25', 'C' : 'missing'}\n",
    "df_filled = df.fillna(value = fill_dict)\n",
    "df_filled"
   ]
  },
  {
   "cell_type": "markdown",
   "id": "d2dea332-d35d-4b21-a6ae-eae0505d5fa1",
   "metadata": {},
   "source": [
    "## ***지하수 데이터 수집***"
   ]
  },
  {
   "cell_type": "code",
   "execution_count": 31,
   "id": "179e67b3-ef1a-457c-9a58-f4a5ff474efb",
   "metadata": {},
   "outputs": [],
   "source": [
    "import os\n",
    "import pandas as pd\n",
    "import numpy as np\n",
    "import matplotlib.pyplot as plt\n",
    "\n",
    "import warnings\n",
    "from datetime import datetime, date, time\n",
    "\n",
    "warnings.filterwarnings('ignore')"
   ]
  },
  {
   "cell_type": "code",
   "execution_count": 32,
   "id": "bedcf373-a76c-40d9-9fbc-add945af85aa",
   "metadata": {},
   "outputs": [
    {
     "data": {
      "text/plain": [
       "['대전태평(암반)_2009_hr.xlsx',\n",
       " '대전태평(암반)_2010_hr.xlsx',\n",
       " '대전태평(암반)_2011_hr.xlsx',\n",
       " '대전태평(암반)_2012_hr.xlsx',\n",
       " '대전태평(암반)_2013_hr.xlsx',\n",
       " '대전태평(암반)_2014_hr.xlsx',\n",
       " '대전태평(암반)_2015_hr.xlsx',\n",
       " '대전태평(암반)_2016_hr.xlsx']"
      ]
     },
     "execution_count": 32,
     "metadata": {},
     "output_type": "execute_result"
    }
   ],
   "source": [
    "#8개의 파일이 들어있는 폴더를 하나의 파일로 병합하는 데이터병합\n",
    "path = 'C://sweet/대전태평(암반)/'\n",
    "#path에 데이터가 업로드 된 경로를 할당\n",
    "file_list = os.listdir(path)\n",
    "# os.listdir(path)는 해당 경로에 있는 모든 파일을 리스트형태로 반환\n",
    "file_list_py = [file for file in file_list if file.endswith('.xlsx')]\n",
    "#file_list의 8개의 파일들을 하나씩 file=[]에 담되, xlsx확장자가 나타난 파일만 보여준다. \n",
    "file_list_py"
   ]
  },
  {
   "cell_type": "code",
   "execution_count": 33,
   "id": "b84a6851-0b4a-41f5-8434-b5d790f7de73",
   "metadata": {},
   "outputs": [
    {
     "data": {
      "text/html": [
       "<div>\n",
       "<style scoped>\n",
       "    .dataframe tbody tr th:only-of-type {\n",
       "        vertical-align: middle;\n",
       "    }\n",
       "\n",
       "    .dataframe tbody tr th {\n",
       "        vertical-align: top;\n",
       "    }\n",
       "\n",
       "    .dataframe thead th {\n",
       "        text-align: right;\n",
       "    }\n",
       "</style>\n",
       "<table border=\"1\" class=\"dataframe\">\n",
       "  <thead>\n",
       "    <tr style=\"text-align: right;\">\n",
       "      <th></th>\n",
       "      <th>관측소</th>\n",
       "      <th>구분</th>\n",
       "      <th>날짜</th>\n",
       "      <th>시간</th>\n",
       "      <th>수온(℃)</th>\n",
       "      <th>수위(el.m)</th>\n",
       "      <th>EC(㎲/㎝)</th>\n",
       "    </tr>\n",
       "  </thead>\n",
       "  <tbody>\n",
       "    <tr>\n",
       "      <th>0</th>\n",
       "      <td>대전태평</td>\n",
       "      <td>(암반)</td>\n",
       "      <td>20090101</td>\n",
       "      <td>0</td>\n",
       "      <td>16.1</td>\n",
       "      <td>44.47</td>\n",
       "      <td>749</td>\n",
       "    </tr>\n",
       "    <tr>\n",
       "      <th>1</th>\n",
       "      <td>대전태평</td>\n",
       "      <td>(암반)</td>\n",
       "      <td>20090101</td>\n",
       "      <td>1</td>\n",
       "      <td>16.1</td>\n",
       "      <td>44.47</td>\n",
       "      <td>749</td>\n",
       "    </tr>\n",
       "    <tr>\n",
       "      <th>2</th>\n",
       "      <td>대전태평</td>\n",
       "      <td>(암반)</td>\n",
       "      <td>20090101</td>\n",
       "      <td>2</td>\n",
       "      <td>16.1</td>\n",
       "      <td>44.47</td>\n",
       "      <td>749</td>\n",
       "    </tr>\n",
       "    <tr>\n",
       "      <th>3</th>\n",
       "      <td>대전태평</td>\n",
       "      <td>(암반)</td>\n",
       "      <td>20090101</td>\n",
       "      <td>3</td>\n",
       "      <td>16.1</td>\n",
       "      <td>44.47</td>\n",
       "      <td>749</td>\n",
       "    </tr>\n",
       "    <tr>\n",
       "      <th>4</th>\n",
       "      <td>대전태평</td>\n",
       "      <td>(암반)</td>\n",
       "      <td>20090101</td>\n",
       "      <td>4</td>\n",
       "      <td>16.1</td>\n",
       "      <td>44.47</td>\n",
       "      <td>749</td>\n",
       "    </tr>\n",
       "    <tr>\n",
       "      <th>...</th>\n",
       "      <td>...</td>\n",
       "      <td>...</td>\n",
       "      <td>...</td>\n",
       "      <td>...</td>\n",
       "      <td>...</td>\n",
       "      <td>...</td>\n",
       "      <td>...</td>\n",
       "    </tr>\n",
       "    <tr>\n",
       "      <th>8761</th>\n",
       "      <td>대전태평</td>\n",
       "      <td>(암반)</td>\n",
       "      <td>20161231</td>\n",
       "      <td>19</td>\n",
       "      <td>16.2</td>\n",
       "      <td>44.49</td>\n",
       "      <td>725</td>\n",
       "    </tr>\n",
       "    <tr>\n",
       "      <th>8762</th>\n",
       "      <td>대전태평</td>\n",
       "      <td>(암반)</td>\n",
       "      <td>20161231</td>\n",
       "      <td>20</td>\n",
       "      <td>16.2</td>\n",
       "      <td>44.49</td>\n",
       "      <td>725</td>\n",
       "    </tr>\n",
       "    <tr>\n",
       "      <th>8763</th>\n",
       "      <td>대전태평</td>\n",
       "      <td>(암반)</td>\n",
       "      <td>20161231</td>\n",
       "      <td>21</td>\n",
       "      <td>16.2</td>\n",
       "      <td>44.49</td>\n",
       "      <td>725</td>\n",
       "    </tr>\n",
       "    <tr>\n",
       "      <th>8764</th>\n",
       "      <td>대전태평</td>\n",
       "      <td>(암반)</td>\n",
       "      <td>20161231</td>\n",
       "      <td>22</td>\n",
       "      <td>16.2</td>\n",
       "      <td>44.49</td>\n",
       "      <td>725</td>\n",
       "    </tr>\n",
       "    <tr>\n",
       "      <th>8765</th>\n",
       "      <td>대전태평</td>\n",
       "      <td>(암반)</td>\n",
       "      <td>20161231</td>\n",
       "      <td>23</td>\n",
       "      <td>16.2</td>\n",
       "      <td>44.49</td>\n",
       "      <td>725</td>\n",
       "    </tr>\n",
       "  </tbody>\n",
       "</table>\n",
       "<p>69548 rows × 7 columns</p>\n",
       "</div>"
      ],
      "text/plain": [
       "       관측소    구분        날짜  시간  수온(℃)  수위(el.m)  EC(㎲/㎝)\n",
       "0     대전태평  (암반)  20090101   0   16.1     44.47      749\n",
       "1     대전태평  (암반)  20090101   1   16.1     44.47      749\n",
       "2     대전태평  (암반)  20090101   2   16.1     44.47      749\n",
       "3     대전태평  (암반)  20090101   3   16.1     44.47      749\n",
       "4     대전태평  (암반)  20090101   4   16.1     44.47      749\n",
       "...    ...   ...       ...  ..    ...       ...      ...\n",
       "8761  대전태평  (암반)  20161231  19   16.2     44.49      725\n",
       "8762  대전태평  (암반)  20161231  20   16.2     44.49      725\n",
       "8763  대전태평  (암반)  20161231  21   16.2     44.49      725\n",
       "8764  대전태평  (암반)  20161231  22   16.2     44.49      725\n",
       "8765  대전태평  (암반)  20161231  23   16.2     44.49      725\n",
       "\n",
       "[69548 rows x 7 columns]"
      ]
     },
     "execution_count": 33,
     "metadata": {},
     "output_type": "execute_result"
    }
   ],
   "source": [
    "#데이터프레임 하나로 병합\n",
    "df = pd.DataFrame()\n",
    "#빈 데이터프레임 객체 df를 만든다. \n",
    "for i in file_list_py: #8개의 파일을 하나하나반복\n",
    " data = pd.read_excel(path + i) #i는 각각 파일명이다 path/파일명하면 제대로 그 파일을 불러올수있음\n",
    " df = pd.concat([df, data]) #df에 변수 data의 내용을 추가한다. (합치라는 명령어)\n",
    "\n",
    "df"
   ]
  },
  {
   "cell_type": "code",
   "execution_count": 34,
   "id": "ce395961-32c5-4aed-a5bf-aeb583f5574a",
   "metadata": {},
   "outputs": [],
   "source": [
    "#pd.concat([df, data]) 기본적으로 axis=0이므로, 행단위로 데이터가 아래에 추가됨 \n",
    "# 기존의 df에 새로운 data가 추가된다. "
   ]
  },
  {
   "cell_type": "code",
   "execution_count": 35,
   "id": "26271862-a934-432d-8653-fdadb0750037",
   "metadata": {},
   "outputs": [
    {
     "data": {
      "text/html": [
       "<div>\n",
       "<style scoped>\n",
       "    .dataframe tbody tr th:only-of-type {\n",
       "        vertical-align: middle;\n",
       "    }\n",
       "\n",
       "    .dataframe tbody tr th {\n",
       "        vertical-align: top;\n",
       "    }\n",
       "\n",
       "    .dataframe thead th {\n",
       "        text-align: right;\n",
       "    }\n",
       "</style>\n",
       "<table border=\"1\" class=\"dataframe\">\n",
       "  <thead>\n",
       "    <tr style=\"text-align: right;\">\n",
       "      <th></th>\n",
       "      <th>관측소</th>\n",
       "      <th>구분</th>\n",
       "      <th>날짜</th>\n",
       "      <th>시간</th>\n",
       "      <th>수온(℃)</th>\n",
       "      <th>수위(el.m)</th>\n",
       "      <th>EC(㎲/㎝)</th>\n",
       "    </tr>\n",
       "  </thead>\n",
       "  <tbody>\n",
       "    <tr>\n",
       "      <th>0</th>\n",
       "      <td>대전태평</td>\n",
       "      <td>(암반)</td>\n",
       "      <td>20090101</td>\n",
       "      <td>0</td>\n",
       "      <td>16.1</td>\n",
       "      <td>44.47</td>\n",
       "      <td>749</td>\n",
       "    </tr>\n",
       "    <tr>\n",
       "      <th>1</th>\n",
       "      <td>대전태평</td>\n",
       "      <td>(암반)</td>\n",
       "      <td>20090101</td>\n",
       "      <td>1</td>\n",
       "      <td>16.1</td>\n",
       "      <td>44.47</td>\n",
       "      <td>749</td>\n",
       "    </tr>\n",
       "    <tr>\n",
       "      <th>2</th>\n",
       "      <td>대전태평</td>\n",
       "      <td>(암반)</td>\n",
       "      <td>20090101</td>\n",
       "      <td>2</td>\n",
       "      <td>16.1</td>\n",
       "      <td>44.47</td>\n",
       "      <td>749</td>\n",
       "    </tr>\n",
       "    <tr>\n",
       "      <th>3</th>\n",
       "      <td>대전태평</td>\n",
       "      <td>(암반)</td>\n",
       "      <td>20090101</td>\n",
       "      <td>3</td>\n",
       "      <td>16.1</td>\n",
       "      <td>44.47</td>\n",
       "      <td>749</td>\n",
       "    </tr>\n",
       "    <tr>\n",
       "      <th>4</th>\n",
       "      <td>대전태평</td>\n",
       "      <td>(암반)</td>\n",
       "      <td>20090101</td>\n",
       "      <td>4</td>\n",
       "      <td>16.1</td>\n",
       "      <td>44.47</td>\n",
       "      <td>749</td>\n",
       "    </tr>\n",
       "    <tr>\n",
       "      <th>...</th>\n",
       "      <td>...</td>\n",
       "      <td>...</td>\n",
       "      <td>...</td>\n",
       "      <td>...</td>\n",
       "      <td>...</td>\n",
       "      <td>...</td>\n",
       "      <td>...</td>\n",
       "    </tr>\n",
       "    <tr>\n",
       "      <th>69543</th>\n",
       "      <td>대전태평</td>\n",
       "      <td>(암반)</td>\n",
       "      <td>20161231</td>\n",
       "      <td>19</td>\n",
       "      <td>16.2</td>\n",
       "      <td>44.49</td>\n",
       "      <td>725</td>\n",
       "    </tr>\n",
       "    <tr>\n",
       "      <th>69544</th>\n",
       "      <td>대전태평</td>\n",
       "      <td>(암반)</td>\n",
       "      <td>20161231</td>\n",
       "      <td>20</td>\n",
       "      <td>16.2</td>\n",
       "      <td>44.49</td>\n",
       "      <td>725</td>\n",
       "    </tr>\n",
       "    <tr>\n",
       "      <th>69545</th>\n",
       "      <td>대전태평</td>\n",
       "      <td>(암반)</td>\n",
       "      <td>20161231</td>\n",
       "      <td>21</td>\n",
       "      <td>16.2</td>\n",
       "      <td>44.49</td>\n",
       "      <td>725</td>\n",
       "    </tr>\n",
       "    <tr>\n",
       "      <th>69546</th>\n",
       "      <td>대전태평</td>\n",
       "      <td>(암반)</td>\n",
       "      <td>20161231</td>\n",
       "      <td>22</td>\n",
       "      <td>16.2</td>\n",
       "      <td>44.49</td>\n",
       "      <td>725</td>\n",
       "    </tr>\n",
       "    <tr>\n",
       "      <th>69547</th>\n",
       "      <td>대전태평</td>\n",
       "      <td>(암반)</td>\n",
       "      <td>20161231</td>\n",
       "      <td>23</td>\n",
       "      <td>16.2</td>\n",
       "      <td>44.49</td>\n",
       "      <td>725</td>\n",
       "    </tr>\n",
       "  </tbody>\n",
       "</table>\n",
       "<p>69548 rows × 7 columns</p>\n",
       "</div>"
      ],
      "text/plain": [
       "        관측소    구분        날짜  시간  수온(℃)  수위(el.m)  EC(㎲/㎝)\n",
       "0      대전태평  (암반)  20090101   0   16.1     44.47      749\n",
       "1      대전태평  (암반)  20090101   1   16.1     44.47      749\n",
       "2      대전태평  (암반)  20090101   2   16.1     44.47      749\n",
       "3      대전태평  (암반)  20090101   3   16.1     44.47      749\n",
       "4      대전태평  (암반)  20090101   4   16.1     44.47      749\n",
       "...     ...   ...       ...  ..    ...       ...      ...\n",
       "69543  대전태평  (암반)  20161231  19   16.2     44.49      725\n",
       "69544  대전태평  (암반)  20161231  20   16.2     44.49      725\n",
       "69545  대전태평  (암반)  20161231  21   16.2     44.49      725\n",
       "69546  대전태평  (암반)  20161231  22   16.2     44.49      725\n",
       "69547  대전태평  (암반)  20161231  23   16.2     44.49      725\n",
       "\n",
       "[69548 rows x 7 columns]"
      ]
     },
     "execution_count": 35,
     "metadata": {},
     "output_type": "execute_result"
    }
   ],
   "source": [
    "#행의 인덱스 재설정 reset_index(drop= True) 이용 ,drop=True는 기존에 있던것을 없애버린다는말\n",
    "df = df.reset_index(drop= True)\n",
    "df"
   ]
  },
  {
   "cell_type": "markdown",
   "id": "e24a5432-6abf-4343-83c3-949f07b37f2e",
   "metadata": {},
   "source": [
    "df.info() : 데이터 프레임의 전체적인 정보를 보는 함수  \n",
    "중요한 점은 결측치를 확인하는 것 "
   ]
  },
  {
   "cell_type": "code",
   "execution_count": 36,
   "id": "5fd409f8-480d-4853-aece-c904f07ce5f4",
   "metadata": {},
   "outputs": [
    {
     "name": "stdout",
     "output_type": "stream",
     "text": [
      "<class 'pandas.core.frame.DataFrame'>\n",
      "RangeIndex: 69548 entries, 0 to 69547\n",
      "Data columns (total 7 columns):\n",
      " #   Column    Non-Null Count  Dtype  \n",
      "---  ------    --------------  -----  \n",
      " 0   관측소       69548 non-null  object \n",
      " 1   구분        69548 non-null  object \n",
      " 2   날짜        69548 non-null  int64  \n",
      " 3   시간        69548 non-null  int64  \n",
      " 4   수온(℃)     69548 non-null  float64\n",
      " 5   수위(el.m)  69548 non-null  float64\n",
      " 6   EC(㎲/㎝)   69548 non-null  int64  \n",
      "dtypes: float64(2), int64(3), object(2)\n",
      "memory usage: 3.7+ MB\n"
     ]
    }
   ],
   "source": [
    "df.info()"
   ]
  },
  {
   "cell_type": "markdown",
   "id": "2279a1b5-c02b-459e-971e-07c9ef037e02",
   "metadata": {},
   "source": [
    "시간에 따른 데이터를 그래프로 표현하기전 \n",
    "x축이 연속적인 시간이 되어야함  \n",
    "이를 위해서 날짜와 시간 컬럼을 합쳐야한다  \n",
    "측정시각 열 생성  "
   ]
  },
  {
   "cell_type": "code",
   "execution_count": 38,
   "id": "e6cf8e9a-ee10-4e19-b630-42f09759e4ea",
   "metadata": {},
   "outputs": [
    {
     "data": {
      "text/html": [
       "<div>\n",
       "<style scoped>\n",
       "    .dataframe tbody tr th:only-of-type {\n",
       "        vertical-align: middle;\n",
       "    }\n",
       "\n",
       "    .dataframe tbody tr th {\n",
       "        vertical-align: top;\n",
       "    }\n",
       "\n",
       "    .dataframe thead th {\n",
       "        text-align: right;\n",
       "    }\n",
       "</style>\n",
       "<table border=\"1\" class=\"dataframe\">\n",
       "  <thead>\n",
       "    <tr style=\"text-align: right;\">\n",
       "      <th></th>\n",
       "      <th>관측소</th>\n",
       "      <th>구분</th>\n",
       "      <th>날짜</th>\n",
       "      <th>시간</th>\n",
       "      <th>수온(℃)</th>\n",
       "      <th>수위(el.m)</th>\n",
       "      <th>EC(㎲/㎝)</th>\n",
       "      <th>Data</th>\n",
       "      <th>Date</th>\n",
       "    </tr>\n",
       "    <tr>\n",
       "      <th>Date</th>\n",
       "      <th></th>\n",
       "      <th></th>\n",
       "      <th></th>\n",
       "      <th></th>\n",
       "      <th></th>\n",
       "      <th></th>\n",
       "      <th></th>\n",
       "      <th></th>\n",
       "      <th></th>\n",
       "    </tr>\n",
       "  </thead>\n",
       "  <tbody>\n",
       "    <tr>\n",
       "      <th>2009-01-01 00:00:00</th>\n",
       "      <td>대전태평</td>\n",
       "      <td>(암반)</td>\n",
       "      <td>20090101</td>\n",
       "      <td>0</td>\n",
       "      <td>16.1</td>\n",
       "      <td>44.47</td>\n",
       "      <td>749</td>\n",
       "      <td>2009-01-01 00:00:00</td>\n",
       "      <td>2009-01-01 00:00:00</td>\n",
       "    </tr>\n",
       "    <tr>\n",
       "      <th>2009-01-01 01:00:00</th>\n",
       "      <td>대전태평</td>\n",
       "      <td>(암반)</td>\n",
       "      <td>20090101</td>\n",
       "      <td>1</td>\n",
       "      <td>16.1</td>\n",
       "      <td>44.47</td>\n",
       "      <td>749</td>\n",
       "      <td>2009-01-01 01:00:00</td>\n",
       "      <td>2009-01-01 01:00:00</td>\n",
       "    </tr>\n",
       "    <tr>\n",
       "      <th>2009-01-01 02:00:00</th>\n",
       "      <td>대전태평</td>\n",
       "      <td>(암반)</td>\n",
       "      <td>20090101</td>\n",
       "      <td>2</td>\n",
       "      <td>16.1</td>\n",
       "      <td>44.47</td>\n",
       "      <td>749</td>\n",
       "      <td>2009-01-01 02:00:00</td>\n",
       "      <td>2009-01-01 02:00:00</td>\n",
       "    </tr>\n",
       "  </tbody>\n",
       "</table>\n",
       "</div>"
      ],
      "text/plain": [
       "                      관측소    구분        날짜  시간  수온(℃)  수위(el.m)  EC(㎲/㎝)  \\\n",
       "Date                                                                      \n",
       "2009-01-01 00:00:00  대전태평  (암반)  20090101   0   16.1     44.47      749   \n",
       "2009-01-01 01:00:00  대전태평  (암반)  20090101   1   16.1     44.47      749   \n",
       "2009-01-01 02:00:00  대전태평  (암반)  20090101   2   16.1     44.47      749   \n",
       "\n",
       "                                   Data                Date  \n",
       "Date                                                         \n",
       "2009-01-01 00:00:00 2009-01-01 00:00:00 2009-01-01 00:00:00  \n",
       "2009-01-01 01:00:00 2009-01-01 01:00:00 2009-01-01 01:00:00  \n",
       "2009-01-01 02:00:00 2009-01-01 02:00:00 2009-01-01 02:00:00  "
      ]
     },
     "execution_count": 38,
     "metadata": {},
     "output_type": "execute_result"
    }
   ],
   "source": [
    "df['Date'] = pd.to_datetime(df['날짜'], format='%Y%m%d')+\\\n",
    "             pd.to_timedelta(df['시간'].astype(int), unit = 'h') \n",
    "\n",
    "df.set_index(df['Date'], inplace = True) #date열을 인덱스로 지정\n",
    "df.head(3)"
   ]
  },
  {
   "cell_type": "markdown",
   "id": "ccebd536-ff41-4c19-b105-ee50151c3d66",
   "metadata": {},
   "source": [
    "이제 수온, 수위 , EC 속성만 분석하고 싶다  \n",
    "EC는 전기전도도이다. 수질이 좋을 수록 전기전도도가 낮다.  \n",
    "새로운 데이터프레임 df1에 3개의 컬럼을 할당한다.  "
   ]
  },
  {
   "cell_type": "code",
   "execution_count": 39,
   "id": "5792444f-c5ff-4ad4-aa20-d693b83b5d00",
   "metadata": {},
   "outputs": [
    {
     "data": {
      "text/html": [
       "<div>\n",
       "<style scoped>\n",
       "    .dataframe tbody tr th:only-of-type {\n",
       "        vertical-align: middle;\n",
       "    }\n",
       "\n",
       "    .dataframe tbody tr th {\n",
       "        vertical-align: top;\n",
       "    }\n",
       "\n",
       "    .dataframe thead th {\n",
       "        text-align: right;\n",
       "    }\n",
       "</style>\n",
       "<table border=\"1\" class=\"dataframe\">\n",
       "  <thead>\n",
       "    <tr style=\"text-align: right;\">\n",
       "      <th></th>\n",
       "      <th>temp</th>\n",
       "      <th>level</th>\n",
       "      <th>EC</th>\n",
       "    </tr>\n",
       "    <tr>\n",
       "      <th>Date</th>\n",
       "      <th></th>\n",
       "      <th></th>\n",
       "      <th></th>\n",
       "    </tr>\n",
       "  </thead>\n",
       "  <tbody>\n",
       "    <tr>\n",
       "      <th>2009-01-01 00:00:00</th>\n",
       "      <td>16.1</td>\n",
       "      <td>44.47</td>\n",
       "      <td>749</td>\n",
       "    </tr>\n",
       "    <tr>\n",
       "      <th>2009-01-01 01:00:00</th>\n",
       "      <td>16.1</td>\n",
       "      <td>44.47</td>\n",
       "      <td>749</td>\n",
       "    </tr>\n",
       "    <tr>\n",
       "      <th>2009-01-01 02:00:00</th>\n",
       "      <td>16.1</td>\n",
       "      <td>44.47</td>\n",
       "      <td>749</td>\n",
       "    </tr>\n",
       "  </tbody>\n",
       "</table>\n",
       "</div>"
      ],
      "text/plain": [
       "                     temp  level   EC\n",
       "Date                                 \n",
       "2009-01-01 00:00:00  16.1  44.47  749\n",
       "2009-01-01 01:00:00  16.1  44.47  749\n",
       "2009-01-01 02:00:00  16.1  44.47  749"
      ]
     },
     "execution_count": 39,
     "metadata": {},
     "output_type": "execute_result"
    }
   ],
   "source": [
    "df1 = df[['수온(℃)', '수위(el.m)','EC(㎲/㎝)']]\n",
    "df1.columns = ['temp', 'level', 'EC'] #열이름을 영어로 변경한다. 한글이나 기호가 있다면 활용할때 까다롭기 때문이다. \n",
    "df1.head(3)"
   ]
  },
  {
   "cell_type": "code",
   "execution_count": 40,
   "id": "a41819e8-9f3d-4d3e-ad77-c1f2a5c9c6a9",
   "metadata": {},
   "outputs": [
    {
     "data": {
      "text/plain": [
       "temp     0\n",
       "level    0\n",
       "EC       0\n",
       "dtype: int64"
      ]
     },
     "execution_count": 40,
     "metadata": {},
     "output_type": "execute_result"
    }
   ],
   "source": [
    "#결측치 유무도 확인해주자 \n",
    "df1.isnull().sum()"
   ]
  },
  {
   "cell_type": "code",
   "execution_count": 41,
   "id": "d77cd015-e93f-4b47-b855-ce79a01473d1",
   "metadata": {},
   "outputs": [],
   "source": [
    "#isnull()함수는 데이터프레임에서 null의 개수를 반환한다. 모든 열에 결측치가 없는것이 확인된다. "
   ]
  },
  {
   "cell_type": "code",
   "execution_count": 42,
   "id": "56f9b15d-c776-4209-b93b-ea04284ed530",
   "metadata": {},
   "outputs": [],
   "source": [
    "df1.to_csv('./대전지하수.csv', encoding= 'cp949')"
   ]
  },
  {
   "cell_type": "markdown",
   "id": "43bc43a3-5109-4274-a08f-442aa9eae060",
   "metadata": {},
   "source": [
    "### ***이상치 확인 및 제거해보자*** "
   ]
  },
  {
   "cell_type": "markdown",
   "id": "d01aa029-3e82-4a71-980d-809f8f06a947",
   "metadata": {},
   "source": [
    "통계량과 그래프를 이용하여 데이터에 이상치가 있는지 빠르게 판단하자 "
   ]
  },
  {
   "cell_type": "code",
   "execution_count": 43,
   "id": "63cf4fdf-f5f8-4489-b83b-b9e15e2132b4",
   "metadata": {},
   "outputs": [
    {
     "data": {
      "text/html": [
       "<div>\n",
       "<style scoped>\n",
       "    .dataframe tbody tr th:only-of-type {\n",
       "        vertical-align: middle;\n",
       "    }\n",
       "\n",
       "    .dataframe tbody tr th {\n",
       "        vertical-align: top;\n",
       "    }\n",
       "\n",
       "    .dataframe thead th {\n",
       "        text-align: right;\n",
       "    }\n",
       "</style>\n",
       "<table border=\"1\" class=\"dataframe\">\n",
       "  <thead>\n",
       "    <tr style=\"text-align: right;\">\n",
       "      <th></th>\n",
       "      <th>temp</th>\n",
       "      <th>level</th>\n",
       "      <th>EC</th>\n",
       "    </tr>\n",
       "  </thead>\n",
       "  <tbody>\n",
       "    <tr>\n",
       "      <th>count</th>\n",
       "      <td>69548.000000</td>\n",
       "      <td>69548.000000</td>\n",
       "      <td>69548.000000</td>\n",
       "    </tr>\n",
       "    <tr>\n",
       "      <th>mean</th>\n",
       "      <td>16.262491</td>\n",
       "      <td>44.295353</td>\n",
       "      <td>727.024027</td>\n",
       "    </tr>\n",
       "    <tr>\n",
       "      <th>std</th>\n",
       "      <td>0.089778</td>\n",
       "      <td>2.539464</td>\n",
       "      <td>51.544590</td>\n",
       "    </tr>\n",
       "    <tr>\n",
       "      <th>min</th>\n",
       "      <td>15.800000</td>\n",
       "      <td>11.530000</td>\n",
       "      <td>13.000000</td>\n",
       "    </tr>\n",
       "    <tr>\n",
       "      <th>25%</th>\n",
       "      <td>16.200000</td>\n",
       "      <td>44.370000</td>\n",
       "      <td>722.000000</td>\n",
       "    </tr>\n",
       "    <tr>\n",
       "      <th>50%</th>\n",
       "      <td>16.300000</td>\n",
       "      <td>44.460000</td>\n",
       "      <td>730.000000</td>\n",
       "    </tr>\n",
       "    <tr>\n",
       "      <th>75%</th>\n",
       "      <td>16.300000</td>\n",
       "      <td>44.550000</td>\n",
       "      <td>742.000000</td>\n",
       "    </tr>\n",
       "    <tr>\n",
       "      <th>max</th>\n",
       "      <td>16.500000</td>\n",
       "      <td>45.900000</td>\n",
       "      <td>778.000000</td>\n",
       "    </tr>\n",
       "  </tbody>\n",
       "</table>\n",
       "</div>"
      ],
      "text/plain": [
       "               temp         level            EC\n",
       "count  69548.000000  69548.000000  69548.000000\n",
       "mean      16.262491     44.295353    727.024027\n",
       "std        0.089778      2.539464     51.544590\n",
       "min       15.800000     11.530000     13.000000\n",
       "25%       16.200000     44.370000    722.000000\n",
       "50%       16.300000     44.460000    730.000000\n",
       "75%       16.300000     44.550000    742.000000\n",
       "max       16.500000     45.900000    778.000000"
      ]
     },
     "execution_count": 43,
     "metadata": {},
     "output_type": "execute_result"
    }
   ],
   "source": [
    "df = pd.read_csv('./대전지하수.csv', index_col= 'Date', parse_dates = True, encoding = 'cp949')\n",
    "df.describe() \n",
    "#통게량은 describe()함수를 이용한다. "
   ]
  },
  {
   "cell_type": "markdown",
   "id": "f668b772-7cec-45ae-82a8-4c245fe267b2",
   "metadata": {},
   "source": [
    "해석! : min행 은 최솟값 행, 25%행은 1사분위수 행이다.  \n",
    "level 열과 EC열에서 최솟값과 1사분위수의 차이가 크다.  \n",
    "그래서 최솟값이 이상치일 가능성이높다.  "
   ]
  },
  {
   "cell_type": "markdown",
   "id": "db616a13-9fe0-4073-989e-837389d1ef4b",
   "metadata": {},
   "source": [
    "히스토그램으로 데이터의 분포를 확인하여 이상치가 있는지 빠르게 확인해보자  ㅡ"
   ]
  },
  {
   "cell_type": "code",
   "execution_count": 44,
   "id": "70c4e60a-7da8-4184-891b-c2efbe11dd22",
   "metadata": {},
   "outputs": [
    {
     "data": {
      "image/png": "[encoded data removed]",
      "text/plain": [
       "<Figure size 1000x600 with 4 Axes>"
      ]
     },
     "metadata": {},
     "output_type": "display_data"
    }
   ],
   "source": [
    "df.hist(bins=50, figsize=(10, 6))\n",
    "plt.show()"
   ]
  },
  {
   "cell_type": "markdown",
   "id": "909c383e-14ef-421c-af52-7337775e0fd2",
   "metadata": {},
   "source": [
    "3개의 열별 데이터를 각각 50개의 구간으로 나누어 히스토그램을 3개 만들었다.  \n",
    "전체적으로 오른쪽으로 치우쳐 있다. 이럴 때 분포의 왼쪽 끝이 이상치일 가능성이 높다  "
   ]
  },
  {
   "cell_type": "markdown",
   "id": "be82bc66-2bdb-4f33-921c-7acf15b7c9bf",
   "metadata": {},
   "source": [
    "상자그래프로도 이상치를 확인해보자  "
   ]
  },
  {
   "cell_type": "code",
   "execution_count": 45,
   "id": "b5129677-0994-48c0-9a58-f34b6b820b78",
   "metadata": {},
   "outputs": [
    {
     "data": {
      "text/plain": [
       "<Axes: >"
      ]
     },
     "execution_count": 45,
     "metadata": {},
     "output_type": "execute_result"
    },
    {
     "data": {
      "image/png": "[encoded data removed]",
      "text/plain": [
       "<Figure size 640x480 with 1 Axes>"
      ]
     },
     "metadata": {},
     "output_type": "display_data"
    }
   ],
   "source": [
    "df.boxplot()"
   ]
  },
  {
   "cell_type": "code",
   "execution_count": null,
   "id": "5625f780-3638-4b39-9873-78a1c0795901",
   "metadata": {},
   "outputs": [],
   "source": [
    "# 지금 EC데이터들이 상대적으로 temp, level 데이터보다 값이 크기때문에 \n",
    "# temp 과 level의 이상치를 확인하기 어려워서 다중그래프로 이상치를 확인해보자. "
   ]
  },
  {
   "cell_type": "code",
   "execution_count": 48,
   "id": "e20ab5b3-1c6f-424e-ae78-a7ee4342e7f3",
   "metadata": {},
   "outputs": [
    {
     "data": {
      "image/png": "[encoded data removed]",
      "text/plain": [
       "<Figure size 640x480 with 3 Axes>"
      ]
     },
     "metadata": {},
     "output_type": "display_data"
    }
   ],
   "source": [
    "plt.subplot(1, 3, 1)\n",
    "df.boxplot(column= 'temp', return_type='both' )\n",
    "plt.subplot(1, 3, 2)\n",
    "df.boxplot(column= 'level', return_type='both')\n",
    "plt.subplot(1, 3, 3)\n",
    "df.boxplot(column= 'EC', return_type='both')\n",
    "plt.show()"
   ]
  },
  {
   "cell_type": "markdown",
   "id": "08abdaa3-b8b6-44ab-914b-84d285b67fdf",
   "metadata": {},
   "source": [
    "낮은 영역에 이상치가 있음을 확인할 수있다. "
   ]
  },
  {
   "cell_type": "markdown",
   "id": "dccfdcea-7e52-4baa-9212-d6b3feb65018",
   "metadata": {},
   "source": [
    "시간에 따른 데이터의 변화를 나타내는 그래프를 그려서 이상치를 확인할 수 있다.   \n",
    "이 그래프를 시계열 그래프라고 한다. 역시 시계열 그래프를 다중그래프로 확인해보자   "
   ]
  },
  {
   "cell_type": "code",
   "execution_count": 49,
   "id": "ecc761d6-a897-4c7a-8e1a-0db25f90a043",
   "metadata": {},
   "outputs": [
    {
     "data": {
      "image/png": "[encoded data removed]",
      "text/plain": [
       "<Figure size 640x480 with 3 Axes>"
      ]
     },
     "metadata": {},
     "output_type": "display_data"
    }
   ],
   "source": [
    "plt.subplot(3, 1, 1)\n",
    "df['temp'].plot()\n",
    "plt.subplot(3,1, 2)\n",
    "df['level'].plot()\n",
    "plt.subplot(3, 1, 3)\n",
    "df['EC'].plot()\n",
    "plt.show()"
   ]
  },
  {
   "cell_type": "markdown",
   "id": "aaa32aa8-e610-4d70-a168-714e5b43f377",
   "metadata": {},
   "source": [
    "–지하수온이2012년후반과2014년후반에  \n",
    "평소보다확연히낮은데, 연속적으로  \n",
    "변하는값이므로이상치일가능성이높음  \n",
    "\n",
    "-지하수위는 2013년에 비정상적으로 낮게 나타났다.   \n",
    "지하수위는 여름철에 비가많이올떄, 서서히 상승하고  \n",
    "겨울철에 낮아지는다  \n",
    "\n",
    "-전기전도도는 2014년에 비정상적으로 낮아진 시기가 있다  "
   ]
  },
  {
   "cell_type": "markdown",
   "id": "7d09998c-a946-465c-ac0b-068cd15acdcf",
   "metadata": {},
   "source": [
    "사분범위(IQR)을 계산하고, 이를 이용하여 이상치를 탐지해본다.  "
   ]
  },
  {
   "cell_type": "markdown",
   "id": "53c80841-bc64-4008-a3ed-1f086ef02b09",
   "metadata": {},
   "source": [
    "'사분위수'는 quantile()함수로 계산한다.  \n",
    "describe라는 기초통계량을 보여준 함수의 결과에서 사분위수를 볼수 있지만 quantile로 직접계산해볼수 있다.  \n",
    "quantile(q=0.75) = 3사분위수 라는 뜻이고 quantile(q=0.25) = 1사분위수 라는 뜻이다 "
   ]
  },
  {
   "cell_type": "code",
   "execution_count": 51,
   "id": "fc810654-ae6e-4e68-aaed-93b0916217ed",
   "metadata": {},
   "outputs": [
    {
     "name": "stdout",
     "output_type": "stream",
     "text": [
      "0.17999999999999972\n"
     ]
    }
   ],
   "source": [
    "q3_level = df['level'].quantile(q=0.75)\n",
    "q1_level = df['level'].quantile(q=0.25)\n",
    "iqr_level = q3_level - q1_level\n",
    "print(iqr_level)"
   ]
  },
  {
   "cell_type": "code",
   "execution_count": 52,
   "id": "1463bc9b-d47c-4805-b0a8-d6d9c7cee637",
   "metadata": {},
   "outputs": [
    {
     "name": "stdout",
     "output_type": "stream",
     "text": [
      "44.81999999999999 / 44.099999999999994\n",
      "4492\n",
      "1273\n"
     ]
    }
   ],
   "source": [
    "upper_level = q3_level +1.5*iqr_level \n",
    "lower_level = q1_level - 1.5*iqr_level\n",
    "print(upper_level, '/' , lower_level)\n",
    "print((df['level'] > upper_level).sum())\n",
    "print((df['level'] < lower_level).sum())"
   ]
  },
  {
   "cell_type": "markdown",
   "id": "48a0bafc-e835-4980-812f-5bc28508c53d",
   "metadata": {},
   "source": [
    "level 데이터에서 상한값을 벗어나는 수치는 4492개이고, 하한값을 벗어나는 이상치는 1273개이다.  "
   ]
  },
  {
   "cell_type": "markdown",
   "id": "78c2837e-f932-4761-97ce-778cd74a05ed",
   "metadata": {},
   "source": [
    "이상치를 제거할건데 iqr를 이용하여 조건만을 가져온다라는 식으로 코드를 짜면,  \n",
    "이상치를 제외한 데이터를 조회함으로써 이상치를 제거할 수 있음  "
   ]
  },
  {
   "cell_type": "code",
   "execution_count": 53,
   "id": "fa8f4e77-aa14-4363-91c0-96845e960a06",
   "metadata": {},
   "outputs": [
    {
     "data": {
      "text/plain": [
       "<Axes: xlabel='Date'>"
      ]
     },
     "execution_count": 53,
     "metadata": {},
     "output_type": "execute_result"
    },
    {
     "data": {
      "image/png": "[encoded data removed]",
      "text/plain": [
       "<Figure size 640x480 with 1 Axes>"
      ]
     },
     "metadata": {},
     "output_type": "display_data"
    }
   ],
   "source": [
    "df_iqr_level =df[(df['level']< upper_level) & (df['level'] > lower_level)]\n",
    "df_iqr_level['level'].plot()"
   ]
  },
  {
   "cell_type": "markdown",
   "id": "c154f640-1071-4676-aac0-50209abb4659",
   "metadata": {},
   "source": [
    "이상치를 제외한 지하수위의 시계열 그래프이다. 이상치가 포함된 시계열데이터와 비교했을떄,  \n",
    "연중 변화가 명확히 드러나게 되었음을 알 수 있다.  "
   ]
  },
  {
   "cell_type": "code",
   "execution_count": null,
   "id": "fc05d6a2-47d8-45eb-9ba7-240965f5813e",
   "metadata": {},
   "outputs": [],
   "source": [
    "이제 이 단계를.. 지하수온에도 적용해본다.  "
   ]
  },
  {
   "cell_type": "code",
   "execution_count": 56,
   "id": "2a1d858f-92d5-40ed-9ad2-d6a383ec3315",
   "metadata": {},
   "outputs": [
    {
     "name": "stdout",
     "output_type": "stream",
     "text": [
      "IQR :  0.10000000000000142\n",
      "16.450000000000003 / 16.049999999999997\n",
      "227\n",
      "15\n"
     ]
    }
   ],
   "source": [
    "q3_temp = df['temp'].quantile(q=0.75)\n",
    "q1_temp = df['temp'].quantile(q=0.25)\n",
    "iqr_temp = q3_temp - q1_temp \n",
    "print( 'IQR : ' , iqr_temp)\n",
    "\n",
    "upper_temp = q3_temp + 1.5*iqr_temp\n",
    "lower_temp = q1_temp - 1.5*iqr_temp\n",
    "print( upper_temp , '/' , lower_temp)\n",
    "print( (df['temp'] > upper_temp).sum() ) \n",
    "print( (df['temp'] < lower_temp).sum() ) "
   ]
  },
  {
   "cell_type": "markdown",
   "id": "dc8b57f7-576d-47f9-a1e8-365ab93da803",
   "metadata": {},
   "source": [
    "지하수온의 데이터가 대략 69548개 있다는점을 고려했을 떄 이상치의 갯수는 매우 적어 ,   \n",
    "연중 지하수온의 변화가 거의 없음을 알 수 있다 "
   ]
  },
  {
   "cell_type": "markdown",
   "id": "1f7a9b60-b587-4f76-9a46-eda3278140fd",
   "metadata": {},
   "source": [
    "이제 이 단계를 전기전도도에도 적용해본다  "
   ]
  },
  {
   "cell_type": "code",
   "execution_count": 57,
   "id": "612b1a5e-6dd1-4d92-ad4a-eb738cf2540f",
   "metadata": {},
   "outputs": [
    {
     "name": "stdout",
     "output_type": "stream",
     "text": [
      "IQR :  20.0\n",
      "772.0 / 692.0\n",
      "831\n",
      "788\n"
     ]
    }
   ],
   "source": [
    "q3_ec = df['EC'].quantile(q=0.75)\n",
    "q1_ec = df['EC'].quantile(q=0.25)\n",
    "iqr_ec = q3_ec - q1_ec\n",
    "print( 'IQR : ' , iqr_ec)\n",
    "upper_ec = q3_ec + iqr_ec*1.5\n",
    "lower_ec = q1_ec - iqr_ec*1.5\n",
    "\n",
    "print(upper_ec, '/' , lower_ec)\n",
    "print( (df['EC'] > upper_ec).sum() ) \n",
    "print( (df['EC'] < lower_ec).sum() ) \n",
    "\n"
   ]
  },
  {
   "cell_type": "code",
   "execution_count": 58,
   "id": "65ba61e1-f3a9-4210-807f-16c5c08357a8",
   "metadata": {},
   "outputs": [],
   "source": [
    "df_iqr = df[(df['temp'] < upper_temp) & (df['temp'] > lower_temp) &\\\n",
    " (df['level'] < upper_level) & (df['level'] > lower_level) &\\\n",
    " (df['EC'] < upper_ec) & (df['EC'] > lower_ec)]"
   ]
  },
  {
   "cell_type": "code",
   "execution_count": 59,
   "id": "77fe266f-036b-4f33-9451-f3022394be17",
   "metadata": {},
   "outputs": [
    {
     "data": {
      "text/html": [
       "<div>\n",
       "<style scoped>\n",
       "    .dataframe tbody tr th:only-of-type {\n",
       "        vertical-align: middle;\n",
       "    }\n",
       "\n",
       "    .dataframe tbody tr th {\n",
       "        vertical-align: top;\n",
       "    }\n",
       "\n",
       "    .dataframe thead th {\n",
       "        text-align: right;\n",
       "    }\n",
       "</style>\n",
       "<table border=\"1\" class=\"dataframe\">\n",
       "  <thead>\n",
       "    <tr style=\"text-align: right;\">\n",
       "      <th></th>\n",
       "      <th>temp</th>\n",
       "      <th>level</th>\n",
       "      <th>EC</th>\n",
       "    </tr>\n",
       "  </thead>\n",
       "  <tbody>\n",
       "    <tr>\n",
       "      <th>count</th>\n",
       "      <td>61814.000000</td>\n",
       "      <td>61814.000000</td>\n",
       "      <td>61814.000000</td>\n",
       "    </tr>\n",
       "    <tr>\n",
       "      <th>mean</th>\n",
       "      <td>16.256793</td>\n",
       "      <td>44.459701</td>\n",
       "      <td>731.698612</td>\n",
       "    </tr>\n",
       "    <tr>\n",
       "      <th>std</th>\n",
       "      <td>0.089692</td>\n",
       "      <td>0.128256</td>\n",
       "      <td>13.882905</td>\n",
       "    </tr>\n",
       "    <tr>\n",
       "      <th>min</th>\n",
       "      <td>16.100000</td>\n",
       "      <td>44.100000</td>\n",
       "      <td>693.000000</td>\n",
       "    </tr>\n",
       "    <tr>\n",
       "      <th>25%</th>\n",
       "      <td>16.200000</td>\n",
       "      <td>44.370000</td>\n",
       "      <td>722.000000</td>\n",
       "    </tr>\n",
       "    <tr>\n",
       "      <th>50%</th>\n",
       "      <td>16.300000</td>\n",
       "      <td>44.450000</td>\n",
       "      <td>730.000000</td>\n",
       "    </tr>\n",
       "    <tr>\n",
       "      <th>75%</th>\n",
       "      <td>16.300000</td>\n",
       "      <td>44.520000</td>\n",
       "      <td>742.000000</td>\n",
       "    </tr>\n",
       "    <tr>\n",
       "      <th>max</th>\n",
       "      <td>16.400000</td>\n",
       "      <td>44.810000</td>\n",
       "      <td>771.000000</td>\n",
       "    </tr>\n",
       "  </tbody>\n",
       "</table>\n",
       "</div>"
      ],
      "text/plain": [
       "               temp         level            EC\n",
       "count  61814.000000  61814.000000  61814.000000\n",
       "mean      16.256793     44.459701    731.698612\n",
       "std        0.089692      0.128256     13.882905\n",
       "min       16.100000     44.100000    693.000000\n",
       "25%       16.200000     44.370000    722.000000\n",
       "50%       16.300000     44.450000    730.000000\n",
       "75%       16.300000     44.520000    742.000000\n",
       "max       16.400000     44.810000    771.000000"
      ]
     },
     "execution_count": 59,
     "metadata": {},
     "output_type": "execute_result"
    }
   ],
   "source": [
    "df_iqr.describe()"
   ]
  },
  {
   "cell_type": "markdown",
   "id": "55b712ac-e6ab-41ca-9764-f0ebb9229397",
   "metadata": {},
   "source": [
    "이상치를 제거한만큼 데이터의 갯수가 줄었고,  \n",
    "데이터를 흐트려지게 만든 이상치를 제거하였으므로 산포가 줄어들었다.  \n",
    "추가적으로 최솟값과 1사분위수의 차이도 전과 비교할때 크지 않게되었다.  "
   ]
  },
  {
   "cell_type": "code",
   "execution_count": 61,
   "id": "d45b2b0c-8ace-4963-ad9b-d6d799c91f5b",
   "metadata": {
    "scrolled": true
   },
   "outputs": [
    {
     "data": {
      "image/png": "[encoded data removed]",
      "text/plain": [
       "<Figure size 1000x600 with 4 Axes>"
      ]
     },
     "metadata": {},
     "output_type": "display_data"
    }
   ],
   "source": [
    "#이상치 제거후 히스토그램\n",
    "df_iqr.hist(bins=50, figsize = (10, 6))\n",
    "plt.show()"
   ]
  },
  {
   "cell_type": "markdown",
   "id": "0302b90e-b0b9-4f6f-925b-bc4b82991643",
   "metadata": {},
   "source": [
    "이상치를 제거하고 나니,  \n",
    "전에는 오른쪽으로 쏠려있었지만 지금은 정규분포와 가까우며 한쪽으로 치우치지 않게 되었다.  "
   ]
  },
  {
   "cell_type": "markdown",
   "id": "3dae3782-e382-47a5-adaa-d36cfd855347",
   "metadata": {},
   "source": [
    "이상치 제거후 상자그래프를 그려보자 "
   ]
  },
  {
   "cell_type": "code",
   "execution_count": 64,
   "id": "c2860c48-9eb7-48bd-aa06-7c356a32428f",
   "metadata": {},
   "outputs": [
    {
     "data": {
      "image/png": "[encoded data removed]",
      "text/plain": [
       "<Figure size 640x480 with 3 Axes>"
      ]
     },
     "metadata": {},
     "output_type": "display_data"
    }
   ],
   "source": [
    "plt.subplot(1,3, 1) \n",
    "df_iqr.boxplot(column= 'temp', return_type= 'both')\n",
    "plt.subplot(1, 3, 2) \n",
    "df_iqr.boxplot(column = 'level', return_type = 'both')\n",
    "plt.subplot(1, 3, 3)\n",
    "df_iqr.boxplot(column = 'EC', return_type = 'both') \n",
    "plt.show()"
   ]
  },
  {
   "cell_type": "markdown",
   "id": "74cd4993-c70d-4abe-9833-14946e7fb0b0",
   "metadata": {},
   "source": [
    "지하수위는 상한값 위와 하한값 아래에 이상치가 조금씩 나타난다. "
   ]
  },
  {
   "cell_type": "markdown",
   "id": "75da3086-8bdb-4890-8ec8-cd7d119059f6",
   "metadata": {},
   "source": [
    "이상치 제거 후 시계열 그래프를 살펴보자 "
   ]
  },
  {
   "cell_type": "code",
   "execution_count": 65,
   "id": "81e5868a-c649-47e8-939d-8e58745c3ac9",
   "metadata": {},
   "outputs": [
    {
     "data": {
      "image/png": "[encoded data removed]",
      "text/plain": [
       "<Figure size 640x480 with 3 Axes>"
      ]
     },
     "metadata": {},
     "output_type": "display_data"
    }
   ],
   "source": [
    "plt.subplot(3, 1, 1)\n",
    "df_iqr['temp'].plot()\n",
    "plt.subplot(3, 1, 2) \n",
    "df_iqr['level'].plot()\n",
    "plt.subplot(3, 1, 3)\n",
    "df_iqr['EC'].plot()\n",
    "plt.show()"
   ]
  },
  {
   "cell_type": "markdown",
   "id": "548e5b42-2198-4830-90dc-478891a3a5be",
   "metadata": {},
   "source": [
    "정제된 데이터를 나중에도 사용할 수 있게 csv파일로 저장한다. "
   ]
  },
  {
   "cell_type": "code",
   "execution_count": 66,
   "id": "4f8204ba-f038-4ea1-8f6a-2596146bdcca",
   "metadata": {},
   "outputs": [],
   "source": [
    "df_iqr.to_csv('대전지하수_정제.csv', encoding = 'cp949')"
   ]
  },
  {
   "cell_type": "markdown",
   "id": "274edc11-3818-4f9f-8c67-fa42b1914c99",
   "metadata": {},
   "source": [
    "### ***표준화와 정규화***"
   ]
  },
  {
   "cell_type": "code",
   "execution_count": 67,
   "id": "438a81e4-a907-4132-95fe-ca52bc536e4a",
   "metadata": {},
   "outputs": [
    {
     "data": {
      "text/html": [
       "<div>\n",
       "<style scoped>\n",
       "    .dataframe tbody tr th:only-of-type {\n",
       "        vertical-align: middle;\n",
       "    }\n",
       "\n",
       "    .dataframe tbody tr th {\n",
       "        vertical-align: top;\n",
       "    }\n",
       "\n",
       "    .dataframe thead th {\n",
       "        text-align: right;\n",
       "    }\n",
       "</style>\n",
       "<table border=\"1\" class=\"dataframe\">\n",
       "  <thead>\n",
       "    <tr style=\"text-align: right;\">\n",
       "      <th></th>\n",
       "      <th>Date</th>\n",
       "      <th>temp</th>\n",
       "      <th>level</th>\n",
       "      <th>EC</th>\n",
       "    </tr>\n",
       "  </thead>\n",
       "  <tbody>\n",
       "    <tr>\n",
       "      <th>0</th>\n",
       "      <td>2009-01-01 00:00:00</td>\n",
       "      <td>16.1</td>\n",
       "      <td>44.47</td>\n",
       "      <td>749</td>\n",
       "    </tr>\n",
       "    <tr>\n",
       "      <th>1</th>\n",
       "      <td>2009-01-01 01:00:00</td>\n",
       "      <td>16.1</td>\n",
       "      <td>44.47</td>\n",
       "      <td>749</td>\n",
       "    </tr>\n",
       "    <tr>\n",
       "      <th>2</th>\n",
       "      <td>2009-01-01 02:00:00</td>\n",
       "      <td>16.1</td>\n",
       "      <td>44.47</td>\n",
       "      <td>749</td>\n",
       "    </tr>\n",
       "    <tr>\n",
       "      <th>3</th>\n",
       "      <td>2009-01-01 03:00:00</td>\n",
       "      <td>16.1</td>\n",
       "      <td>44.47</td>\n",
       "      <td>749</td>\n",
       "    </tr>\n",
       "    <tr>\n",
       "      <th>4</th>\n",
       "      <td>2009-01-01 04:00:00</td>\n",
       "      <td>16.1</td>\n",
       "      <td>44.47</td>\n",
       "      <td>749</td>\n",
       "    </tr>\n",
       "  </tbody>\n",
       "</table>\n",
       "</div>"
      ],
      "text/plain": [
       "                  Date  temp  level   EC\n",
       "0  2009-01-01 00:00:00  16.1  44.47  749\n",
       "1  2009-01-01 01:00:00  16.1  44.47  749\n",
       "2  2009-01-01 02:00:00  16.1  44.47  749\n",
       "3  2009-01-01 03:00:00  16.1  44.47  749\n",
       "4  2009-01-01 04:00:00  16.1  44.47  749"
      ]
     },
     "execution_count": 67,
     "metadata": {},
     "output_type": "execute_result"
    }
   ],
   "source": [
    "import pandas as pd\n",
    "import numpy as np \n",
    "import matplotlib.pyplot as plt\n",
    "\n",
    "df = pd.read_csv('./대전지하수_정제.csv')\n",
    "df.head()"
   ]
  },
  {
   "cell_type": "markdown",
   "id": "30fb7f4c-a76a-483a-99bf-833458dbeabe",
   "metadata": {},
   "source": [
    "정제된 데이터를 불러와 열별로 데이터의 범위를 확인해보자 "
   ]
  },
  {
   "cell_type": "markdown",
   "id": "16748880-4bde-42c0-bef6-37fe67182859",
   "metadata": {},
   "source": [
    "두열을 선택해서 스케일링 해본다 "
   ]
  },
  {
   "cell_type": "code",
   "execution_count": 68,
   "id": "6e298be0-4821-4f40-97c1-6b99db13a1fb",
   "metadata": {},
   "outputs": [
    {
     "data": {
      "text/html": [
       "<div>\n",
       "<style scoped>\n",
       "    .dataframe tbody tr th:only-of-type {\n",
       "        vertical-align: middle;\n",
       "    }\n",
       "\n",
       "    .dataframe tbody tr th {\n",
       "        vertical-align: top;\n",
       "    }\n",
       "\n",
       "    .dataframe thead th {\n",
       "        text-align: right;\n",
       "    }\n",
       "</style>\n",
       "<table border=\"1\" class=\"dataframe\">\n",
       "  <thead>\n",
       "    <tr style=\"text-align: right;\">\n",
       "      <th></th>\n",
       "      <th>level</th>\n",
       "      <th>EC</th>\n",
       "    </tr>\n",
       "  </thead>\n",
       "  <tbody>\n",
       "    <tr>\n",
       "      <th>count</th>\n",
       "      <td>61814.000000</td>\n",
       "      <td>61814.000000</td>\n",
       "    </tr>\n",
       "    <tr>\n",
       "      <th>mean</th>\n",
       "      <td>44.459701</td>\n",
       "      <td>731.698612</td>\n",
       "    </tr>\n",
       "    <tr>\n",
       "      <th>std</th>\n",
       "      <td>0.128256</td>\n",
       "      <td>13.882905</td>\n",
       "    </tr>\n",
       "    <tr>\n",
       "      <th>min</th>\n",
       "      <td>44.100000</td>\n",
       "      <td>693.000000</td>\n",
       "    </tr>\n",
       "    <tr>\n",
       "      <th>25%</th>\n",
       "      <td>44.370000</td>\n",
       "      <td>722.000000</td>\n",
       "    </tr>\n",
       "    <tr>\n",
       "      <th>50%</th>\n",
       "      <td>44.450000</td>\n",
       "      <td>730.000000</td>\n",
       "    </tr>\n",
       "    <tr>\n",
       "      <th>75%</th>\n",
       "      <td>44.520000</td>\n",
       "      <td>742.000000</td>\n",
       "    </tr>\n",
       "    <tr>\n",
       "      <th>max</th>\n",
       "      <td>44.810000</td>\n",
       "      <td>771.000000</td>\n",
       "    </tr>\n",
       "  </tbody>\n",
       "</table>\n",
       "</div>"
      ],
      "text/plain": [
       "              level            EC\n",
       "count  61814.000000  61814.000000\n",
       "mean      44.459701    731.698612\n",
       "std        0.128256     13.882905\n",
       "min       44.100000    693.000000\n",
       "25%       44.370000    722.000000\n",
       "50%       44.450000    730.000000\n",
       "75%       44.520000    742.000000\n",
       "max       44.810000    771.000000"
      ]
     },
     "execution_count": 68,
     "metadata": {},
     "output_type": "execute_result"
    }
   ],
   "source": [
    "df = df[['level', 'EC']]\n",
    "df.describe()"
   ]
  },
  {
   "cell_type": "markdown",
   "id": "421bb0d4-3d3c-4d00-bc44-d3bdffad2f48",
   "metadata": {},
   "source": [
    "std 표준편차에 주목해보자.  \n",
    "지하수위의 표준편차는 0.128이지만 EC의 표준편차는 13.883이다  \n",
    "즉 지하수 전기전도도는 지하수위 보다 100배이상으로 산포가 크다고 말할 수 있다.  \n",
    "그러나!\n",
    "\n",
    "데이터의 크기가 다르면 표준편차 값만으로 산포를 비교하는 것은 부적절하다\n",
    "따라서 표준화를 해야한다 "
   ]
  },
  {
   "cell_type": "code",
   "execution_count": 69,
   "id": "827f23de-8d98-43ee-b05d-9f9a95e9b25f",
   "metadata": {},
   "outputs": [
    {
     "data": {
      "image/png": "[encoded data removed]",
      "text/plain": [
       "<Figure size 640x480 with 2 Axes>"
      ]
     },
     "metadata": {},
     "output_type": "display_data"
    }
   ],
   "source": [
    "df.hist()\n",
    "plt.show()"
   ]
  },
  {
   "cell_type": "code",
   "execution_count": 70,
   "id": "f25cf4dc-adc0-4556-a427-80baecf04a87",
   "metadata": {},
   "outputs": [
    {
     "data": {
      "text/html": [
       "<div>\n",
       "<style scoped>\n",
       "    .dataframe tbody tr th:only-of-type {\n",
       "        vertical-align: middle;\n",
       "    }\n",
       "\n",
       "    .dataframe tbody tr th {\n",
       "        vertical-align: top;\n",
       "    }\n",
       "\n",
       "    .dataframe thead th {\n",
       "        text-align: right;\n",
       "    }\n",
       "</style>\n",
       "<table border=\"1\" class=\"dataframe\">\n",
       "  <thead>\n",
       "    <tr style=\"text-align: right;\">\n",
       "      <th></th>\n",
       "      <th>level</th>\n",
       "      <th>EC</th>\n",
       "    </tr>\n",
       "  </thead>\n",
       "  <tbody>\n",
       "    <tr>\n",
       "      <th>0</th>\n",
       "      <td>44.47</td>\n",
       "      <td>749</td>\n",
       "    </tr>\n",
       "    <tr>\n",
       "      <th>1</th>\n",
       "      <td>44.47</td>\n",
       "      <td>749</td>\n",
       "    </tr>\n",
       "    <tr>\n",
       "      <th>2</th>\n",
       "      <td>44.47</td>\n",
       "      <td>749</td>\n",
       "    </tr>\n",
       "  </tbody>\n",
       "</table>\n",
       "</div>"
      ],
      "text/plain": [
       "   level   EC\n",
       "0  44.47  749\n",
       "1  44.47  749\n",
       "2  44.47  749"
      ]
     },
     "execution_count": 70,
     "metadata": {},
     "output_type": "execute_result"
    }
   ],
   "source": [
    "df1 = df.copy()\n",
    "df1.head(3)"
   ]
  },
  {
   "cell_type": "code",
   "execution_count": 71,
   "id": "4b400038-d760-4903-9c24-8f48ad85636f",
   "metadata": {},
   "outputs": [
    {
     "data": {
      "text/html": [
       "<div>\n",
       "<style scoped>\n",
       "    .dataframe tbody tr th:only-of-type {\n",
       "        vertical-align: middle;\n",
       "    }\n",
       "\n",
       "    .dataframe tbody tr th {\n",
       "        vertical-align: top;\n",
       "    }\n",
       "\n",
       "    .dataframe thead th {\n",
       "        text-align: right;\n",
       "    }\n",
       "</style>\n",
       "<table border=\"1\" class=\"dataframe\">\n",
       "  <thead>\n",
       "    <tr style=\"text-align: right;\">\n",
       "      <th></th>\n",
       "      <th>level</th>\n",
       "      <th>EC</th>\n",
       "      <th>level_z_score</th>\n",
       "      <th>EC_z_score</th>\n",
       "    </tr>\n",
       "  </thead>\n",
       "  <tbody>\n",
       "    <tr>\n",
       "      <th>0</th>\n",
       "      <td>44.47</td>\n",
       "      <td>749</td>\n",
       "      <td>0.0803</td>\n",
       "      <td>1.246237</td>\n",
       "    </tr>\n",
       "    <tr>\n",
       "      <th>1</th>\n",
       "      <td>44.47</td>\n",
       "      <td>749</td>\n",
       "      <td>0.0803</td>\n",
       "      <td>1.246237</td>\n",
       "    </tr>\n",
       "    <tr>\n",
       "      <th>2</th>\n",
       "      <td>44.47</td>\n",
       "      <td>749</td>\n",
       "      <td>0.0803</td>\n",
       "      <td>1.246237</td>\n",
       "    </tr>\n",
       "  </tbody>\n",
       "</table>\n",
       "</div>"
      ],
      "text/plain": [
       "   level   EC  level_z_score  EC_z_score\n",
       "0  44.47  749         0.0803    1.246237\n",
       "1  44.47  749         0.0803    1.246237\n",
       "2  44.47  749         0.0803    1.246237"
      ]
     },
     "execution_count": 71,
     "metadata": {},
     "output_type": "execute_result"
    }
   ],
   "source": [
    "df1['level_z_score'] = (df1['level'] - df1['level'].mean())/df1['level'].std()\n",
    "df1['EC_z_score'] = (df1['EC'] - df1['EC'].mean()) / df1['EC'].std()\n",
    "df1.head(3)"
   ]
  },
  {
   "cell_type": "markdown",
   "id": "c59fea13-2b4a-4505-8563-284f69a6e8e0",
   "metadata": {},
   "source": [
    "표준화 후 통계량"
   ]
  },
  {
   "cell_type": "code",
   "execution_count": 72,
   "id": "5b020789-6c1f-4a2d-b148-4fdb12418dce",
   "metadata": {},
   "outputs": [
    {
     "data": {
      "text/html": [
       "<div>\n",
       "<style scoped>\n",
       "    .dataframe tbody tr th:only-of-type {\n",
       "        vertical-align: middle;\n",
       "    }\n",
       "\n",
       "    .dataframe tbody tr th {\n",
       "        vertical-align: top;\n",
       "    }\n",
       "\n",
       "    .dataframe thead th {\n",
       "        text-align: right;\n",
       "    }\n",
       "</style>\n",
       "<table border=\"1\" class=\"dataframe\">\n",
       "  <thead>\n",
       "    <tr style=\"text-align: right;\">\n",
       "      <th></th>\n",
       "      <th>level</th>\n",
       "      <th>EC</th>\n",
       "      <th>level_z_score</th>\n",
       "      <th>EC_z_score</th>\n",
       "    </tr>\n",
       "  </thead>\n",
       "  <tbody>\n",
       "    <tr>\n",
       "      <th>count</th>\n",
       "      <td>61814.000000</td>\n",
       "      <td>61814.000000</td>\n",
       "      <td>6.181400e+04</td>\n",
       "      <td>6.181400e+04</td>\n",
       "    </tr>\n",
       "    <tr>\n",
       "      <th>mean</th>\n",
       "      <td>44.459701</td>\n",
       "      <td>731.698612</td>\n",
       "      <td>6.867484e-14</td>\n",
       "      <td>-2.067234e-15</td>\n",
       "    </tr>\n",
       "    <tr>\n",
       "      <th>std</th>\n",
       "      <td>0.128256</td>\n",
       "      <td>13.882905</td>\n",
       "      <td>1.000000e+00</td>\n",
       "      <td>1.000000e+00</td>\n",
       "    </tr>\n",
       "    <tr>\n",
       "      <th>min</th>\n",
       "      <td>44.100000</td>\n",
       "      <td>693.000000</td>\n",
       "      <td>-2.804553e+00</td>\n",
       "      <td>-2.787501e+00</td>\n",
       "    </tr>\n",
       "    <tr>\n",
       "      <th>25%</th>\n",
       "      <td>44.370000</td>\n",
       "      <td>722.000000</td>\n",
       "      <td>-6.993901e-01</td>\n",
       "      <td>-6.986011e-01</td>\n",
       "    </tr>\n",
       "    <tr>\n",
       "      <th>50%</th>\n",
       "      <td>44.450000</td>\n",
       "      <td>730.000000</td>\n",
       "      <td>-7.563803e-02</td>\n",
       "      <td>-1.223528e-01</td>\n",
       "    </tr>\n",
       "    <tr>\n",
       "      <th>75%</th>\n",
       "      <td>44.520000</td>\n",
       "      <td>742.000000</td>\n",
       "      <td>4.701450e-01</td>\n",
       "      <td>7.420196e-01</td>\n",
       "    </tr>\n",
       "    <tr>\n",
       "      <th>max</th>\n",
       "      <td>44.810000</td>\n",
       "      <td>771.000000</td>\n",
       "      <td>2.731246e+00</td>\n",
       "      <td>2.830920e+00</td>\n",
       "    </tr>\n",
       "  </tbody>\n",
       "</table>\n",
       "</div>"
      ],
      "text/plain": [
       "              level            EC  level_z_score    EC_z_score\n",
       "count  61814.000000  61814.000000   6.181400e+04  6.181400e+04\n",
       "mean      44.459701    731.698612   6.867484e-14 -2.067234e-15\n",
       "std        0.128256     13.882905   1.000000e+00  1.000000e+00\n",
       "min       44.100000    693.000000  -2.804553e+00 -2.787501e+00\n",
       "25%       44.370000    722.000000  -6.993901e-01 -6.986011e-01\n",
       "50%       44.450000    730.000000  -7.563803e-02 -1.223528e-01\n",
       "75%       44.520000    742.000000   4.701450e-01  7.420196e-01\n",
       "max       44.810000    771.000000   2.731246e+00  2.830920e+00"
      ]
     },
     "execution_count": 72,
     "metadata": {},
     "output_type": "execute_result"
    }
   ],
   "source": [
    "df1.describe()"
   ]
  },
  {
   "cell_type": "markdown",
   "id": "27313cfe-314e-47f6-af5d-c95b7e0cfe49",
   "metadata": {},
   "source": [
    "std 행과 mean행을 집중해서 보자  \n",
    "두 변수의 평균이 0에 가깝고 표준편차는 1이다.  \n",
    "또한 두 변수의 최댓값과 최솟값의 범위도 비슷해졌다.  "
   ]
  },
  {
   "cell_type": "code",
   "execution_count": 73,
   "id": "b0b4e430-5735-4951-bb3e-03269c0172ff",
   "metadata": {},
   "outputs": [
    {
     "data": {
      "image/png": "[encoded data removed]",
      "text/plain": [
       "<Figure size 800x500 with 4 Axes>"
      ]
     },
     "metadata": {},
     "output_type": "display_data"
    }
   ],
   "source": [
    "df1.hist(figsize = (8,5))\n",
    "plt.show()"
   ]
  },
  {
   "cell_type": "markdown",
   "id": "5c33072c-e6e8-4430-a7fc-9fc315aab4bb",
   "metadata": {},
   "source": [
    "x축에 주목하자. 표준화 후 데이터가 평균 0을 중심으로 비슷한 범위에 분포한다  "
   ]
  },
  {
   "cell_type": "markdown",
   "id": "426c0078-272b-43df-8456-921b926f333e",
   "metadata": {},
   "source": [
    "df1['level_z_score'] = (df1['level'] - df1['level'].mean())/df1['level'].std()  \n",
    "df1['EC_z_score'] = (df1['EC'] - df1['EC'].mean()) / df1['EC'].std()  \n",
    "df1.head(3)   \n",
    "여기 코드를 보자 . z점수를 계산할때, 열이름을 입력해서 계산했지만   \n",
    "일일이 열이름을 다 입력하지 않아도 된다.   \n",
    "열이름 대신 아예 데이터프레임 변수 이름을 그대로 입력하면 한꺼번에 여러열을 계싼할 수 있따.   "
   ]
  },
  {
   "cell_type": "code",
   "execution_count": 74,
   "id": "0d4fbe70-3caf-4fb2-8e1a-c1b23bc624b5",
   "metadata": {},
   "outputs": [
    {
     "data": {
      "text/html": [
       "<div>\n",
       "<style scoped>\n",
       "    .dataframe tbody tr th:only-of-type {\n",
       "        vertical-align: middle;\n",
       "    }\n",
       "\n",
       "    .dataframe tbody tr th {\n",
       "        vertical-align: top;\n",
       "    }\n",
       "\n",
       "    .dataframe thead th {\n",
       "        text-align: right;\n",
       "    }\n",
       "</style>\n",
       "<table border=\"1\" class=\"dataframe\">\n",
       "  <thead>\n",
       "    <tr style=\"text-align: right;\">\n",
       "      <th></th>\n",
       "      <th>level</th>\n",
       "      <th>EC</th>\n",
       "    </tr>\n",
       "  </thead>\n",
       "  <tbody>\n",
       "    <tr>\n",
       "      <th>0</th>\n",
       "      <td>0.0803</td>\n",
       "      <td>1.246237</td>\n",
       "    </tr>\n",
       "    <tr>\n",
       "      <th>1</th>\n",
       "      <td>0.0803</td>\n",
       "      <td>1.246237</td>\n",
       "    </tr>\n",
       "    <tr>\n",
       "      <th>2</th>\n",
       "      <td>0.0803</td>\n",
       "      <td>1.246237</td>\n",
       "    </tr>\n",
       "  </tbody>\n",
       "</table>\n",
       "</div>"
      ],
      "text/plain": [
       "    level        EC\n",
       "0  0.0803  1.246237\n",
       "1  0.0803  1.246237\n",
       "2  0.0803  1.246237"
      ]
     },
     "execution_count": 74,
     "metadata": {},
     "output_type": "execute_result"
    }
   ],
   "source": [
    "df2 = df.copy()\n",
    "df2_standard = (df2- df2.mean()) / df2.std()\n",
    "df2_standard.head(3)"
   ]
  },
  {
   "cell_type": "markdown",
   "id": "8a4d0ce4-3d9a-46aa-9d88-4ea7b382e65c",
   "metadata": {},
   "source": [
    "정규화를 해보자 "
   ]
  },
  {
   "cell_type": "code",
   "execution_count": 75,
   "id": "8f0ce419-a643-45ae-a720-3319cd5aa504",
   "metadata": {},
   "outputs": [
    {
     "data": {
      "text/html": [
       "<div>\n",
       "<style scoped>\n",
       "    .dataframe tbody tr th:only-of-type {\n",
       "        vertical-align: middle;\n",
       "    }\n",
       "\n",
       "    .dataframe tbody tr th {\n",
       "        vertical-align: top;\n",
       "    }\n",
       "\n",
       "    .dataframe thead th {\n",
       "        text-align: right;\n",
       "    }\n",
       "</style>\n",
       "<table border=\"1\" class=\"dataframe\">\n",
       "  <thead>\n",
       "    <tr style=\"text-align: right;\">\n",
       "      <th></th>\n",
       "      <th>level</th>\n",
       "      <th>EC</th>\n",
       "      <th>level_minmax</th>\n",
       "      <th>EC_minmax</th>\n",
       "    </tr>\n",
       "  </thead>\n",
       "  <tbody>\n",
       "    <tr>\n",
       "      <th>0</th>\n",
       "      <td>44.47</td>\n",
       "      <td>749</td>\n",
       "      <td>0.521127</td>\n",
       "      <td>0.717949</td>\n",
       "    </tr>\n",
       "    <tr>\n",
       "      <th>1</th>\n",
       "      <td>44.47</td>\n",
       "      <td>749</td>\n",
       "      <td>0.521127</td>\n",
       "      <td>0.717949</td>\n",
       "    </tr>\n",
       "    <tr>\n",
       "      <th>2</th>\n",
       "      <td>44.47</td>\n",
       "      <td>749</td>\n",
       "      <td>0.521127</td>\n",
       "      <td>0.717949</td>\n",
       "    </tr>\n",
       "  </tbody>\n",
       "</table>\n",
       "</div>"
      ],
      "text/plain": [
       "   level   EC  level_minmax  EC_minmax\n",
       "0  44.47  749      0.521127   0.717949\n",
       "1  44.47  749      0.521127   0.717949\n",
       "2  44.47  749      0.521127   0.717949"
      ]
     },
     "execution_count": 75,
     "metadata": {},
     "output_type": "execute_result"
    }
   ],
   "source": [
    "df3 = df.copy()\n",
    "\n",
    "df3['level_minmax'] = (df3['level'] - df3['level'].min())/ (df3['level'].max() - df3['level'].min())\n",
    "df3['EC_minmax'] = (df3['EC'] - df3['EC'].min())/ (df3['EC'].max() - df3['EC'].min())\n",
    "\n",
    "df3.head(3)"
   ]
  },
  {
   "cell_type": "code",
   "execution_count": 76,
   "id": "dc79e694-1d13-4b78-ba66-7829cd914afb",
   "metadata": {},
   "outputs": [
    {
     "data": {
      "text/html": [
       "<div>\n",
       "<style scoped>\n",
       "    .dataframe tbody tr th:only-of-type {\n",
       "        vertical-align: middle;\n",
       "    }\n",
       "\n",
       "    .dataframe tbody tr th {\n",
       "        vertical-align: top;\n",
       "    }\n",
       "\n",
       "    .dataframe thead th {\n",
       "        text-align: right;\n",
       "    }\n",
       "</style>\n",
       "<table border=\"1\" class=\"dataframe\">\n",
       "  <thead>\n",
       "    <tr style=\"text-align: right;\">\n",
       "      <th></th>\n",
       "      <th>level</th>\n",
       "      <th>EC</th>\n",
       "      <th>level_minmax</th>\n",
       "      <th>EC_minmax</th>\n",
       "    </tr>\n",
       "  </thead>\n",
       "  <tbody>\n",
       "    <tr>\n",
       "      <th>count</th>\n",
       "      <td>61814.000000</td>\n",
       "      <td>61814.000000</td>\n",
       "      <td>61814.000000</td>\n",
       "      <td>61814.000000</td>\n",
       "    </tr>\n",
       "    <tr>\n",
       "      <th>mean</th>\n",
       "      <td>44.459701</td>\n",
       "      <td>731.698612</td>\n",
       "      <td>0.506621</td>\n",
       "      <td>0.496136</td>\n",
       "    </tr>\n",
       "    <tr>\n",
       "      <th>std</th>\n",
       "      <td>0.128256</td>\n",
       "      <td>13.882905</td>\n",
       "      <td>0.180642</td>\n",
       "      <td>0.177986</td>\n",
       "    </tr>\n",
       "    <tr>\n",
       "      <th>min</th>\n",
       "      <td>44.100000</td>\n",
       "      <td>693.000000</td>\n",
       "      <td>0.000000</td>\n",
       "      <td>0.000000</td>\n",
       "    </tr>\n",
       "    <tr>\n",
       "      <th>25%</th>\n",
       "      <td>44.370000</td>\n",
       "      <td>722.000000</td>\n",
       "      <td>0.380282</td>\n",
       "      <td>0.371795</td>\n",
       "    </tr>\n",
       "    <tr>\n",
       "      <th>50%</th>\n",
       "      <td>44.450000</td>\n",
       "      <td>730.000000</td>\n",
       "      <td>0.492958</td>\n",
       "      <td>0.474359</td>\n",
       "    </tr>\n",
       "    <tr>\n",
       "      <th>75%</th>\n",
       "      <td>44.520000</td>\n",
       "      <td>742.000000</td>\n",
       "      <td>0.591549</td>\n",
       "      <td>0.628205</td>\n",
       "    </tr>\n",
       "    <tr>\n",
       "      <th>max</th>\n",
       "      <td>44.810000</td>\n",
       "      <td>771.000000</td>\n",
       "      <td>1.000000</td>\n",
       "      <td>1.000000</td>\n",
       "    </tr>\n",
       "  </tbody>\n",
       "</table>\n",
       "</div>"
      ],
      "text/plain": [
       "              level            EC  level_minmax     EC_minmax\n",
       "count  61814.000000  61814.000000  61814.000000  61814.000000\n",
       "mean      44.459701    731.698612      0.506621      0.496136\n",
       "std        0.128256     13.882905      0.180642      0.177986\n",
       "min       44.100000    693.000000      0.000000      0.000000\n",
       "25%       44.370000    722.000000      0.380282      0.371795\n",
       "50%       44.450000    730.000000      0.492958      0.474359\n",
       "75%       44.520000    742.000000      0.591549      0.628205\n",
       "max       44.810000    771.000000      1.000000      1.000000"
      ]
     },
     "execution_count": 76,
     "metadata": {},
     "output_type": "execute_result"
    }
   ],
   "source": [
    "df3.describe()"
   ]
  },
  {
   "cell_type": "markdown",
   "id": "28cc20b5-6336-4da6-bdd7-6815a5ed339b",
   "metadata": {},
   "source": [
    "두 변수의 최댓값과 최솟값이 1, 0 이 되었고   \n",
    "두 변수의 평균과 표준편차가 거의 같아 졌음을 확인 할 수 있따  "
   ]
  },
  {
   "cell_type": "code",
   "execution_count": 78,
   "id": "05c660d8-43c9-44e9-ad5e-069e355f990e",
   "metadata": {},
   "outputs": [
    {
     "data": {
      "image/png": "[encoded data removed]",
      "text/plain": [
       "<Figure size 800x600 with 4 Axes>"
      ]
     },
     "metadata": {},
     "output_type": "display_data"
    }
   ],
   "source": [
    "df3.hist(figsize = (8,6))\n",
    "plt.show()"
   ]
  },
  {
   "cell_type": "markdown",
   "id": "7bfef4b4-3814-4688-bcfb-e2bd0955c169",
   "metadata": {},
   "source": [
    "### ***타이타닉 호 탑승자 데이터 전처리***"
   ]
  },
  {
   "cell_type": "code",
   "execution_count": 79,
   "id": "5885fe57-3439-4a70-91c2-a3bfd02561ed",
   "metadata": {},
   "outputs": [
    {
     "data": {
      "text/plain": [
       "(891, 12)"
      ]
     },
     "execution_count": 79,
     "metadata": {},
     "output_type": "execute_result"
    }
   ],
   "source": [
    "df = pd.read_csv('./titanic.csv')\n",
    "df.shape"
   ]
  },
  {
   "cell_type": "code",
   "execution_count": 80,
   "id": "aa0fe7e9-8b14-433d-8c12-e304afed75aa",
   "metadata": {},
   "outputs": [
    {
     "data": {
      "text/plain": [
       "PassengerId      0\n",
       "Survived         0\n",
       "Pclass           0\n",
       "Name             0\n",
       "Sex              0\n",
       "Age            177\n",
       "SibSp            0\n",
       "Parch            0\n",
       "Ticket           0\n",
       "Fare             0\n",
       "Cabin          687\n",
       "Embarked         2\n",
       "dtype: int64"
      ]
     },
     "execution_count": 80,
     "metadata": {},
     "output_type": "execute_result"
    }
   ],
   "source": [
    "df.isnull().sum()"
   ]
  },
  {
   "cell_type": "code",
   "execution_count": 81,
   "id": "4f531a64-268f-471d-ad55-0cba49096346",
   "metadata": {},
   "outputs": [
    {
     "data": {
      "text/plain": [
       "(116, 0)"
      ]
     },
     "execution_count": 81,
     "metadata": {},
     "output_type": "execute_result"
    }
   ],
   "source": [
    "q1 = df['Fare'].quantile(q=0.25)\n",
    "q3 = df['Fare'].quantile(q=0.75)\n",
    "IQR = q3 - q1\n",
    "\n",
    "out1 = df[df['Fare'] > q3+1.5*IQR] \n",
    "out2 = df[df['Fare'] < q1-1.5*IQR]\n",
    "len(out1) , len(out2)"
   ]
  },
  {
   "cell_type": "markdown",
   "id": "629e382e-a493-4765-8a3b-24116d3d4169",
   "metadata": {},
   "source": [
    "상한값보다 큰 이상치가 116개가 있다. \n",
    "부자라서 돈을 더 줬나보다 "
   ]
  },
  {
   "cell_type": "code",
   "execution_count": 82,
   "id": "b198dec9-40c9-4a7e-9fd4-5790d4723cea",
   "metadata": {},
   "outputs": [
    {
     "data": {
      "text/plain": [
       "46"
      ]
     },
     "execution_count": 82,
     "metadata": {},
     "output_type": "execute_result"
    }
   ],
   "source": [
    "sum(out1['Sex'] == 'male')"
   ]
  },
  {
   "cell_type": "markdown",
   "id": "f770a47c-2a14-4013-8f27-7e67e94c8493",
   "metadata": {},
   "source": [
    "돈을 더 낸사람들 중에서도 남성이 46명, 그리고 116명 - 46명 = 70명  \n",
    "돈을 더 낸사람들 중에서도 여성이 70명이다.  "
   ]
  },
  {
   "cell_type": "code",
   "execution_count": null,
   "id": "f5245f72-b34d-4633-bf77-c900d03105d9",
   "metadata": {},
   "outputs": [],
   "source": []
  },
  {
   "cell_type": "code",
   "execution_count": null,
   "id": "dbba3892-c841-4551-89c1-e6009f444879",
   "metadata": {},
   "outputs": [],
   "source": []
  },
  {
   "cell_type": "code",
   "execution_count": null,
   "id": "8c39445b-a542-4fb9-bbca-d6197007cc7c",
   "metadata": {},
   "outputs": [],
   "source": []
  },
  {
   "cell_type": "code",
   "execution_count": null,
   "id": "34d0b42a-5847-48ef-b355-aba6ae65a795",
   "metadata": {},
   "outputs": [],
   "source": []
  },
  {
   "cell_type": "code",
   "execution_count": null,
   "id": "857cae80-881b-48c8-9683-c705e0d042f2",
   "metadata": {},
   "outputs": [],
   "source": []
  },
  {
   "cell_type": "code",
   "execution_count": null,
   "id": "1a79627e-365f-455d-9838-8515ca1c0324",
   "metadata": {},
   "outputs": [],
   "source": []
  }
 ],
 "metadata": {
  "kernelspec": {
   "display_name": "Python 3 (ipykernel)",
   "language": "python",
   "name": "python3"
  },
  "language_info": {
   "codemirror_mode": {
    "name": "ipython",
    "version": 3
   },
   "file_extension": ".py",
   "mimetype": "text/x-python",
   "name": "python",
   "nbconvert_exporter": "python",
   "pygments_lexer": "ipython3",
   "version": "3.11.7"
  }
 },
 "nbformat": 4,
 "nbformat_minor": 5
}
