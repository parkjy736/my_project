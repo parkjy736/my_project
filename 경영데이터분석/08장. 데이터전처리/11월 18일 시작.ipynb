{
 "cells": [
  {
   "cell_type": "markdown",
   "id": "1ffe28b1-e51c-4ebe-ab82-6f2ecac7cc95",
   "metadata": {},
   "source": [
    "결측치 처리 "
   ]
  },
  {
   "cell_type": "markdown",
   "id": "f636bb32-1d4f-4bdc-bb00-8089f9f8bdaf",
   "metadata": {},
   "source": [
    "값이 아예 비어져있는 것을 결측치  \n",
    "넘파이 배열에서는 결측치를 np.nan으로 표현한다.  \n",
    "판다스 데이터프레임에서는 결측치를 NaN으로 표현한다.  "
   ]
  },
  {
   "cell_type": "code",
   "execution_count": 51,
   "id": "49d0a965-b370-4dfa-a9a6-71b4650e8654",
   "metadata": {},
   "outputs": [
    {
     "data": {
      "text/html": [
       "<div>\n",
       "<style scoped>\n",
       "    .dataframe tbody tr th:only-of-type {\n",
       "        vertical-align: middle;\n",
       "    }\n",
       "\n",
       "    .dataframe tbody tr th {\n",
       "        vertical-align: top;\n",
       "    }\n",
       "\n",
       "    .dataframe thead th {\n",
       "        text-align: right;\n",
       "    }\n",
       "</style>\n",
       "<table border=\"1\" class=\"dataframe\">\n",
       "  <thead>\n",
       "    <tr style=\"text-align: right;\">\n",
       "      <th></th>\n",
       "      <th>A</th>\n",
       "      <th>B</th>\n",
       "      <th>C</th>\n",
       "    </tr>\n",
       "  </thead>\n",
       "  <tbody>\n",
       "    <tr>\n",
       "      <th>0</th>\n",
       "      <td>1.0</td>\n",
       "      <td>6.0</td>\n",
       "      <td>11.0</td>\n",
       "    </tr>\n",
       "    <tr>\n",
       "      <th>1</th>\n",
       "      <td>2.0</td>\n",
       "      <td>7.0</td>\n",
       "      <td>12.0</td>\n",
       "    </tr>\n",
       "    <tr>\n",
       "      <th>2</th>\n",
       "      <td>NaN</td>\n",
       "      <td>8.0</td>\n",
       "      <td>13.0</td>\n",
       "    </tr>\n",
       "    <tr>\n",
       "      <th>3</th>\n",
       "      <td>4.0</td>\n",
       "      <td>NaN</td>\n",
       "      <td>NaN</td>\n",
       "    </tr>\n",
       "    <tr>\n",
       "      <th>4</th>\n",
       "      <td>5.0</td>\n",
       "      <td>10.0</td>\n",
       "      <td>NaN</td>\n",
       "    </tr>\n",
       "  </tbody>\n",
       "</table>\n",
       "</div>"
      ],
      "text/plain": [
       "     A     B     C\n",
       "0  1.0   6.0  11.0\n",
       "1  2.0   7.0  12.0\n",
       "2  NaN   8.0  13.0\n",
       "3  4.0   NaN   NaN\n",
       "4  5.0  10.0   NaN"
      ]
     },
     "execution_count": 51,
     "metadata": {},
     "output_type": "execute_result"
    }
   ],
   "source": [
    "import pandas as pd \n",
    "import numpy as np \n",
    "\n",
    "df = pd.DataFrame( {'A' : [1,2, np.nan, 4, 5], \n",
    "                    'B' : [6,7,8,np.nan, 10], \n",
    "                    'C' : [11, 12, 13, np.nan, np.nan]})\n",
    "\n",
    "df"
   ]
  },
  {
   "cell_type": "markdown",
   "id": "569775b9-8c99-4c2b-8c44-807c0124fa28",
   "metadata": {},
   "source": [
    "결측치의 위치를 확인하는법"
   ]
  },
  {
   "cell_type": "markdown",
   "id": "dd6790f5-9199-4ae1-9dee-a2de0a39bc53",
   "metadata": {},
   "source": [
    "판다스의 isna() 함수로 데이터프레임에서 결측치가 어디에 있는지 빠르게 확인  \n",
    "데이터가 있으면 False로 표시, 결측치는 True로 표시된다. "
   ]
  },
  {
   "cell_type": "code",
   "execution_count": 52,
   "id": "2613063e-6639-4956-bbff-bb1d72025951",
   "metadata": {},
   "outputs": [
    {
     "data": {
      "text/html": [
       "<div>\n",
       "<style scoped>\n",
       "    .dataframe tbody tr th:only-of-type {\n",
       "        vertical-align: middle;\n",
       "    }\n",
       "\n",
       "    .dataframe tbody tr th {\n",
       "        vertical-align: top;\n",
       "    }\n",
       "\n",
       "    .dataframe thead th {\n",
       "        text-align: right;\n",
       "    }\n",
       "</style>\n",
       "<table border=\"1\" class=\"dataframe\">\n",
       "  <thead>\n",
       "    <tr style=\"text-align: right;\">\n",
       "      <th></th>\n",
       "      <th>A</th>\n",
       "      <th>B</th>\n",
       "      <th>C</th>\n",
       "    </tr>\n",
       "  </thead>\n",
       "  <tbody>\n",
       "    <tr>\n",
       "      <th>0</th>\n",
       "      <td>False</td>\n",
       "      <td>False</td>\n",
       "      <td>False</td>\n",
       "    </tr>\n",
       "    <tr>\n",
       "      <th>1</th>\n",
       "      <td>False</td>\n",
       "      <td>False</td>\n",
       "      <td>False</td>\n",
       "    </tr>\n",
       "    <tr>\n",
       "      <th>2</th>\n",
       "      <td>True</td>\n",
       "      <td>False</td>\n",
       "      <td>False</td>\n",
       "    </tr>\n",
       "    <tr>\n",
       "      <th>3</th>\n",
       "      <td>False</td>\n",
       "      <td>True</td>\n",
       "      <td>True</td>\n",
       "    </tr>\n",
       "    <tr>\n",
       "      <th>4</th>\n",
       "      <td>False</td>\n",
       "      <td>False</td>\n",
       "      <td>True</td>\n",
       "    </tr>\n",
       "  </tbody>\n",
       "</table>\n",
       "</div>"
      ],
      "text/plain": [
       "       A      B      C\n",
       "0  False  False  False\n",
       "1  False  False  False\n",
       "2   True  False  False\n",
       "3  False   True   True\n",
       "4  False  False   True"
      ]
     },
     "execution_count": 52,
     "metadata": {},
     "output_type": "execute_result"
    }
   ],
   "source": [
    "pd.isna(df)"
   ]
  },
  {
   "cell_type": "markdown",
   "id": "2a13c160-ccc5-40c7-916f-d87591369a00",
   "metadata": {},
   "source": [
    "열별로 결측치 개수를 확인하는법 \n",
    "> sum() 함수를 이용한다. "
   ]
  },
  {
   "cell_type": "code",
   "execution_count": 53,
   "id": "b06afe90-895d-45c8-b922-5bce8840a228",
   "metadata": {},
   "outputs": [
    {
     "data": {
      "text/plain": [
       "A    1\n",
       "B    1\n",
       "C    2\n",
       "dtype: int64"
      ]
     },
     "execution_count": 53,
     "metadata": {},
     "output_type": "execute_result"
    }
   ],
   "source": [
    "pd.isna(df).sum( ) "
   ]
  },
  {
   "cell_type": "markdown",
   "id": "b57f97b7-3545-45ca-bdd1-294f0c45f721",
   "metadata": {},
   "source": [
    "True의 값을 세우는 것 같다!"
   ]
  },
  {
   "cell_type": "markdown",
   "id": "b2252068-1409-418c-8360-032346687d71",
   "metadata": {},
   "source": [
    "행별로 모든 결측치를 제거한다 "
   ]
  },
  {
   "cell_type": "code",
   "execution_count": 54,
   "id": "0f27b4ff-4cc9-48a9-9163-6299c3f1e50c",
   "metadata": {},
   "outputs": [
    {
     "data": {
      "text/html": [
       "<div>\n",
       "<style scoped>\n",
       "    .dataframe tbody tr th:only-of-type {\n",
       "        vertical-align: middle;\n",
       "    }\n",
       "\n",
       "    .dataframe tbody tr th {\n",
       "        vertical-align: top;\n",
       "    }\n",
       "\n",
       "    .dataframe thead th {\n",
       "        text-align: right;\n",
       "    }\n",
       "</style>\n",
       "<table border=\"1\" class=\"dataframe\">\n",
       "  <thead>\n",
       "    <tr style=\"text-align: right;\">\n",
       "      <th></th>\n",
       "      <th>A</th>\n",
       "      <th>B</th>\n",
       "      <th>C</th>\n",
       "    </tr>\n",
       "  </thead>\n",
       "  <tbody>\n",
       "    <tr>\n",
       "      <th>0</th>\n",
       "      <td>1.0</td>\n",
       "      <td>6.0</td>\n",
       "      <td>11.0</td>\n",
       "    </tr>\n",
       "    <tr>\n",
       "      <th>1</th>\n",
       "      <td>2.0</td>\n",
       "      <td>7.0</td>\n",
       "      <td>12.0</td>\n",
       "    </tr>\n",
       "  </tbody>\n",
       "</table>\n",
       "</div>"
      ],
      "text/plain": [
       "     A    B     C\n",
       "0  1.0  6.0  11.0\n",
       "1  2.0  7.0  12.0"
      ]
     },
     "execution_count": 54,
     "metadata": {},
     "output_type": "execute_result"
    }
   ],
   "source": [
    "df_drop_nan = df.dropna( ) \n",
    "df_drop_nan"
   ]
  },
  {
   "cell_type": "markdown",
   "id": "e7bcd7be-07d5-45e0-983d-8122e86c449f",
   "metadata": {},
   "source": [
    "결측치 대체 "
   ]
  },
  {
   "cell_type": "code",
   "execution_count": 55,
   "id": "85ef4305-6d16-4582-be9e-a58a9fcb74b7",
   "metadata": {},
   "outputs": [
    {
     "name": "stdout",
     "output_type": "stream",
     "text": [
      "0    11.0\n",
      "1    12.0\n",
      "2    13.0\n",
      "3     0.0\n",
      "4     0.0\n",
      "Name: C, dtype: float64\n"
     ]
    }
   ],
   "source": [
    "df_0 = df['C'].fillna(0)\n",
    "print(df_0)\n",
    "\n",
    "#C열에 있는 결측치를 0으로 대체한다. fillna() 함수를 사용함 "
   ]
  },
  {
   "cell_type": "code",
   "execution_count": 56,
   "id": "659f63d3-80fa-408c-ac89-5c0de71e2eb9",
   "metadata": {},
   "outputs": [
    {
     "data": {
      "text/plain": [
       "0        1.0\n",
       "1        2.0\n",
       "2    missing\n",
       "3        4.0\n",
       "4        5.0\n",
       "Name: A, dtype: object"
      ]
     },
     "execution_count": 56,
     "metadata": {},
     "output_type": "execute_result"
    }
   ],
   "source": [
    "#문자로 결측치를 대체하기 fillna인자에 문자 입력하면된다. \n",
    "df_missing = df['A'].fillna('missing')\n",
    "df_missing"
   ]
  },
  {
   "cell_type": "code",
   "execution_count": 57,
   "id": "fd6a92bf-16e7-4f95-8d52-34f0ed5df30c",
   "metadata": {},
   "outputs": [],
   "source": [
    "# 평균으로 결측치 대체하는법"
   ]
  },
  {
   "cell_type": "code",
   "execution_count": 58,
   "id": "b6c9d1c8-26a8-48a3-8eb9-6d155fee3a4d",
   "metadata": {},
   "outputs": [
    {
     "name": "stdout",
     "output_type": "stream",
     "text": [
      "     A     B     C\n",
      "0  1.0   6.0  11.0\n",
      "1  2.0   7.0  12.0\n",
      "2  NaN   8.0  13.0\n",
      "3  4.0   NaN   NaN\n",
      "4  5.0  10.0   NaN \n",
      "\n",
      "     A      B     C\n",
      "0  1.0   6.00  11.0\n",
      "1  2.0   7.00  12.0\n",
      "2  3.0   8.00  13.0\n",
      "3  4.0   7.75  12.0\n",
      "4  5.0  10.00  12.0\n"
     ]
    }
   ],
   "source": [
    "df_mean = df.fillna(df.mean( ))\n",
    "print(df, '\\n')\n",
    "print(df_mean)"
   ]
  },
  {
   "cell_type": "code",
   "execution_count": 59,
   "id": "2d022897-5fda-47db-ba53-7fdfbb29dfee",
   "metadata": {},
   "outputs": [
    {
     "name": "stdout",
     "output_type": "stream",
     "text": [
      "     A     B     C\n",
      "0  1.0   6.0  11.0\n",
      "1  2.0   7.0  12.0\n",
      "2  NaN   8.0  13.0\n",
      "3  4.0   NaN   NaN\n",
      "4  5.0  10.0   NaN \n",
      "\n",
      "     A     B     C\n",
      "0  1.0   6.0  11.0\n",
      "1  2.0   7.0  12.0\n",
      "2  2.0   8.0  13.0\n",
      "3  4.0   8.0  13.0\n",
      "4  5.0  10.0  13.0 \n",
      "\n",
      "     A     B     C\n",
      "0  1.0   6.0  11.0\n",
      "1  2.0   7.0  12.0\n",
      "2  4.0   8.0  13.0\n",
      "3  4.0  10.0   NaN\n",
      "4  5.0  10.0   NaN\n"
     ]
    }
   ],
   "source": [
    "# 결측치 바로 위나 아래 행의 값으로 대체할 수 있다. \n",
    "print(df, '\\n')\n",
    "\n",
    "df_ffill = df.fillna(method='ffill') #결측치의 위에있는 값으로 대체할려면 fillna함수에 method='ffill'\n",
    "print(df_ffill, '\\n')\n",
    "\n",
    "df_bfill = df.fillna(method= 'bfill') #결측치의 아래에 있는 값으로 대체하기 위해서\n",
    "print(df_bfill)"
   ]
  },
  {
   "cell_type": "code",
   "execution_count": 60,
   "id": "355427a2-4de1-46e3-bd50-a1f2cc5be84d",
   "metadata": {},
   "outputs": [
    {
     "data": {
      "text/html": [
       "<div>\n",
       "<style scoped>\n",
       "    .dataframe tbody tr th:only-of-type {\n",
       "        vertical-align: middle;\n",
       "    }\n",
       "\n",
       "    .dataframe tbody tr th {\n",
       "        vertical-align: top;\n",
       "    }\n",
       "\n",
       "    .dataframe thead th {\n",
       "        text-align: right;\n",
       "    }\n",
       "</style>\n",
       "<table border=\"1\" class=\"dataframe\">\n",
       "  <thead>\n",
       "    <tr style=\"text-align: right;\">\n",
       "      <th></th>\n",
       "      <th>A</th>\n",
       "      <th>B</th>\n",
       "      <th>C</th>\n",
       "    </tr>\n",
       "  </thead>\n",
       "  <tbody>\n",
       "    <tr>\n",
       "      <th>0</th>\n",
       "      <td>1.0</td>\n",
       "      <td>6.0</td>\n",
       "      <td>11.0</td>\n",
       "    </tr>\n",
       "    <tr>\n",
       "      <th>1</th>\n",
       "      <td>2.0</td>\n",
       "      <td>7.0</td>\n",
       "      <td>12.0</td>\n",
       "    </tr>\n",
       "    <tr>\n",
       "      <th>2</th>\n",
       "      <td>3.0</td>\n",
       "      <td>8.0</td>\n",
       "      <td>13.0</td>\n",
       "    </tr>\n",
       "    <tr>\n",
       "      <th>3</th>\n",
       "      <td>4.0</td>\n",
       "      <td>12/25</td>\n",
       "      <td>missing</td>\n",
       "    </tr>\n",
       "    <tr>\n",
       "      <th>4</th>\n",
       "      <td>5.0</td>\n",
       "      <td>10.0</td>\n",
       "      <td>missing</td>\n",
       "    </tr>\n",
       "  </tbody>\n",
       "</table>\n",
       "</div>"
      ],
      "text/plain": [
       "     A      B        C\n",
       "0  1.0    6.0     11.0\n",
       "1  2.0    7.0     12.0\n",
       "2  3.0    8.0     13.0\n",
       "3  4.0  12/25  missing\n",
       "4  5.0   10.0  missing"
      ]
     },
     "execution_count": 60,
     "metadata": {},
     "output_type": "execute_result"
    }
   ],
   "source": [
    "#구체적으로 결측치에 들어간 값을 지정해준다. \n",
    "fill_dict = {'A': df['A'].mean( ), 'B': '12/25', 'C': 'missing'}\n",
    "df_filled = df.fillna(value=fill_dict)\n",
    "df_filled"
   ]
  },
  {
   "cell_type": "markdown",
   "id": "c427081f-2fa3-4ec4-9a39-e76fe94cdc4b",
   "metadata": {},
   "source": [
    "### 11월 20일"
   ]
  },
  {
   "cell_type": "markdown",
   "id": "db6a703a-2d19-452f-984f-643be119ae13",
   "metadata": {},
   "source": [
    "이상치"
   ]
  },
  {
   "cell_type": "markdown",
   "id": "fb2d3bd5-0d9f-40d7-9dd8-0a6d1cf72b30",
   "metadata": {},
   "source": [
    "중앙값이 평균값보다 더 잘 대변해줄수있다. "
   ]
  },
  {
   "cell_type": "markdown",
   "id": "5de84443-6079-4c68-b659-5c762e990c1e",
   "metadata": {},
   "source": [
    "이상치의 원인 \n",
    "> 데이터 입력 오류 : 수집을 잘못해서  \n",
    "> 측정 오류 : 기계가 오류나서 -> 이상치의 가장 일반적인 원인  \n",
    "> 자연 이상치 : 원인을 알 수없는 뭔가 이상한데 얘기하기 어려운거  "
   ]
  },
  {
   "cell_type": "markdown",
   "id": "60ee48b2-eec8-4386-b71c-43c962d0fd42",
   "metadata": {},
   "source": [
    "이상치의 제거 "
   ]
  },
  {
   "cell_type": "markdown",
   "id": "0e52e4c2-70c2-45c0-8165-592cd9dc93cf",
   "metadata": {},
   "source": [
    "표준화와 정규화 \n",
    "> 데이터에서 특성 또는 특징이란 분석 대상에 영향을 주는 속성을 말함  \n",
    "> 데이터를 분석하려면 특성들이 모두 비슷한 정도로 대상에 영향력을 행사하도록 값을 변환"
   ]
  },
  {
   "cell_type": "code",
   "execution_count": 61,
   "id": "e6d25b31-bdd1-4dab-8421-7f15b114ac69",
   "metadata": {},
   "outputs": [],
   "source": [
    "#z score "
   ]
  },
  {
   "cell_type": "markdown",
   "id": "f6c2d71f-d242-4934-b609-1de5cb211bd6",
   "metadata": {},
   "source": [
    "### 지하수 데이터 "
   ]
  },
  {
   "cell_type": "markdown",
   "id": "a7fee688-5afb-47d4-aef8-0f6f8cdad2bb",
   "metadata": {},
   "source": [
    "ppt 33쪽"
   ]
  },
  {
   "cell_type": "markdown",
   "id": "1090bbd9-6029-4ccc-997a-702a58ba90c3",
   "metadata": {},
   "source": [
    "라이브러리 가져오기"
   ]
  },
  {
   "cell_type": "code",
   "execution_count": 62,
   "id": "6e611c7c-b54b-40f0-af30-19613218bd71",
   "metadata": {},
   "outputs": [],
   "source": [
    "import os #os는 패스를 지정할때 사용 \n",
    "import pandas as pd\n",
    "import numpy as np\n",
    "import matplotlib.pyplot as plt\n",
    "import warnings #엑셀파일을 불러올때, 엑셀파일안에 기본스타일이 지정되어있지않다면(색깔글꼴) 경고메시지가 뜨는데 뜨는 경고를 없애기 위한 라이브러리임\n",
    "from datetime import datetime, date, time\n",
    "\n",
    "\n",
    "warnings.filterwarnings('ignore') #경고메시지 없애줌 "
   ]
  },
  {
   "cell_type": "code",
   "execution_count": 63,
   "id": "cb8007f8-c473-4077-8f49-3bdbbd2615f3",
   "metadata": {},
   "outputs": [
    {
     "data": {
      "text/plain": [
       "['대전태평(암반)_2009_hr.xlsx',\n",
       " '대전태평(암반)_2010_hr.xlsx',\n",
       " '대전태평(암반)_2011_hr.xlsx',\n",
       " '대전태평(암반)_2012_hr.xlsx',\n",
       " '대전태평(암반)_2013_hr.xlsx',\n",
       " '대전태평(암반)_2015_hr.xlsx',\n",
       " '대전태평(암반)_2016_hr.xlsx']"
      ]
     },
     "execution_count": 63,
     "metadata": {},
     "output_type": "execute_result"
    }
   ],
   "source": [
    "path = 'C://sweet/대전태평(암반)/' \n",
    "file_list = os.listdir(path) \n",
    "file_list_py = [file for file in file_list if file.endswith('.xlsx')] #xlsx확장자가 나타난 파일만 보여준다.\n",
    "file_list_py"
   ]
  },
  {
   "cell_type": "code",
   "execution_count": 64,
   "id": "68f00e0d-7762-46a5-95da-e54d9a7042ba",
   "metadata": {},
   "outputs": [
    {
     "data": {
      "text/html": [
       "<div>\n",
       "<style scoped>\n",
       "    .dataframe tbody tr th:only-of-type {\n",
       "        vertical-align: middle;\n",
       "    }\n",
       "\n",
       "    .dataframe tbody tr th {\n",
       "        vertical-align: top;\n",
       "    }\n",
       "\n",
       "    .dataframe thead th {\n",
       "        text-align: right;\n",
       "    }\n",
       "</style>\n",
       "<table border=\"1\" class=\"dataframe\">\n",
       "  <thead>\n",
       "    <tr style=\"text-align: right;\">\n",
       "      <th></th>\n",
       "      <th>관측소</th>\n",
       "      <th>구분</th>\n",
       "      <th>날짜</th>\n",
       "      <th>시간</th>\n",
       "      <th>수온(℃)</th>\n",
       "      <th>수위(el.m)</th>\n",
       "      <th>EC(㎲/㎝)</th>\n",
       "    </tr>\n",
       "  </thead>\n",
       "  <tbody>\n",
       "    <tr>\n",
       "      <th>0</th>\n",
       "      <td>대전태평</td>\n",
       "      <td>(암반)</td>\n",
       "      <td>20090101</td>\n",
       "      <td>0</td>\n",
       "      <td>16.1</td>\n",
       "      <td>44.47</td>\n",
       "      <td>749</td>\n",
       "    </tr>\n",
       "    <tr>\n",
       "      <th>1</th>\n",
       "      <td>대전태평</td>\n",
       "      <td>(암반)</td>\n",
       "      <td>20090101</td>\n",
       "      <td>1</td>\n",
       "      <td>16.1</td>\n",
       "      <td>44.47</td>\n",
       "      <td>749</td>\n",
       "    </tr>\n",
       "    <tr>\n",
       "      <th>2</th>\n",
       "      <td>대전태평</td>\n",
       "      <td>(암반)</td>\n",
       "      <td>20090101</td>\n",
       "      <td>2</td>\n",
       "      <td>16.1</td>\n",
       "      <td>44.47</td>\n",
       "      <td>749</td>\n",
       "    </tr>\n",
       "    <tr>\n",
       "      <th>3</th>\n",
       "      <td>대전태평</td>\n",
       "      <td>(암반)</td>\n",
       "      <td>20090101</td>\n",
       "      <td>3</td>\n",
       "      <td>16.1</td>\n",
       "      <td>44.47</td>\n",
       "      <td>749</td>\n",
       "    </tr>\n",
       "    <tr>\n",
       "      <th>4</th>\n",
       "      <td>대전태평</td>\n",
       "      <td>(암반)</td>\n",
       "      <td>20090101</td>\n",
       "      <td>4</td>\n",
       "      <td>16.1</td>\n",
       "      <td>44.47</td>\n",
       "      <td>749</td>\n",
       "    </tr>\n",
       "    <tr>\n",
       "      <th>...</th>\n",
       "      <td>...</td>\n",
       "      <td>...</td>\n",
       "      <td>...</td>\n",
       "      <td>...</td>\n",
       "      <td>...</td>\n",
       "      <td>...</td>\n",
       "      <td>...</td>\n",
       "    </tr>\n",
       "    <tr>\n",
       "      <th>8761</th>\n",
       "      <td>대전태평</td>\n",
       "      <td>(암반)</td>\n",
       "      <td>20161231</td>\n",
       "      <td>19</td>\n",
       "      <td>16.2</td>\n",
       "      <td>44.49</td>\n",
       "      <td>725</td>\n",
       "    </tr>\n",
       "    <tr>\n",
       "      <th>8762</th>\n",
       "      <td>대전태평</td>\n",
       "      <td>(암반)</td>\n",
       "      <td>20161231</td>\n",
       "      <td>20</td>\n",
       "      <td>16.2</td>\n",
       "      <td>44.49</td>\n",
       "      <td>725</td>\n",
       "    </tr>\n",
       "    <tr>\n",
       "      <th>8763</th>\n",
       "      <td>대전태평</td>\n",
       "      <td>(암반)</td>\n",
       "      <td>20161231</td>\n",
       "      <td>21</td>\n",
       "      <td>16.2</td>\n",
       "      <td>44.49</td>\n",
       "      <td>725</td>\n",
       "    </tr>\n",
       "    <tr>\n",
       "      <th>8764</th>\n",
       "      <td>대전태평</td>\n",
       "      <td>(암반)</td>\n",
       "      <td>20161231</td>\n",
       "      <td>22</td>\n",
       "      <td>16.2</td>\n",
       "      <td>44.49</td>\n",
       "      <td>725</td>\n",
       "    </tr>\n",
       "    <tr>\n",
       "      <th>8765</th>\n",
       "      <td>대전태평</td>\n",
       "      <td>(암반)</td>\n",
       "      <td>20161231</td>\n",
       "      <td>23</td>\n",
       "      <td>16.2</td>\n",
       "      <td>44.49</td>\n",
       "      <td>725</td>\n",
       "    </tr>\n",
       "  </tbody>\n",
       "</table>\n",
       "<p>60854 rows × 7 columns</p>\n",
       "</div>"
      ],
      "text/plain": [
       "       관측소    구분        날짜  시간  수온(℃)  수위(el.m)  EC(㎲/㎝)\n",
       "0     대전태평  (암반)  20090101   0   16.1     44.47      749\n",
       "1     대전태평  (암반)  20090101   1   16.1     44.47      749\n",
       "2     대전태평  (암반)  20090101   2   16.1     44.47      749\n",
       "3     대전태평  (암반)  20090101   3   16.1     44.47      749\n",
       "4     대전태평  (암반)  20090101   4   16.1     44.47      749\n",
       "...    ...   ...       ...  ..    ...       ...      ...\n",
       "8761  대전태평  (암반)  20161231  19   16.2     44.49      725\n",
       "8762  대전태평  (암반)  20161231  20   16.2     44.49      725\n",
       "8763  대전태평  (암반)  20161231  21   16.2     44.49      725\n",
       "8764  대전태평  (암반)  20161231  22   16.2     44.49      725\n",
       "8765  대전태평  (암반)  20161231  23   16.2     44.49      725\n",
       "\n",
       "[60854 rows x 7 columns]"
      ]
     },
     "execution_count": 64,
     "metadata": {},
     "output_type": "execute_result"
    }
   ],
   "source": [
    "df = pd.DataFrame()\n",
    "for i in file_list_py:\n",
    " data = pd.read_excel(path + i)\n",
    " df = pd.concat([df, data]) #합치라는 명령어임 \n",
    "df\n",
    "\n",
    "#요부분은 다시 봐야할듯 "
   ]
  },
  {
   "cell_type": "code",
   "execution_count": 65,
   "id": "459af919-5299-4e54-a284-387997d2315b",
   "metadata": {},
   "outputs": [
    {
     "data": {
      "text/html": [
       "<div>\n",
       "<style scoped>\n",
       "    .dataframe tbody tr th:only-of-type {\n",
       "        vertical-align: middle;\n",
       "    }\n",
       "\n",
       "    .dataframe tbody tr th {\n",
       "        vertical-align: top;\n",
       "    }\n",
       "\n",
       "    .dataframe thead th {\n",
       "        text-align: right;\n",
       "    }\n",
       "</style>\n",
       "<table border=\"1\" class=\"dataframe\">\n",
       "  <thead>\n",
       "    <tr style=\"text-align: right;\">\n",
       "      <th></th>\n",
       "      <th>관측소</th>\n",
       "      <th>구분</th>\n",
       "      <th>날짜</th>\n",
       "      <th>시간</th>\n",
       "      <th>수온(℃)</th>\n",
       "      <th>수위(el.m)</th>\n",
       "      <th>EC(㎲/㎝)</th>\n",
       "    </tr>\n",
       "  </thead>\n",
       "  <tbody>\n",
       "    <tr>\n",
       "      <th>0</th>\n",
       "      <td>대전태평</td>\n",
       "      <td>(암반)</td>\n",
       "      <td>20090101</td>\n",
       "      <td>0</td>\n",
       "      <td>16.1</td>\n",
       "      <td>44.47</td>\n",
       "      <td>749</td>\n",
       "    </tr>\n",
       "    <tr>\n",
       "      <th>1</th>\n",
       "      <td>대전태평</td>\n",
       "      <td>(암반)</td>\n",
       "      <td>20090101</td>\n",
       "      <td>1</td>\n",
       "      <td>16.1</td>\n",
       "      <td>44.47</td>\n",
       "      <td>749</td>\n",
       "    </tr>\n",
       "    <tr>\n",
       "      <th>2</th>\n",
       "      <td>대전태평</td>\n",
       "      <td>(암반)</td>\n",
       "      <td>20090101</td>\n",
       "      <td>2</td>\n",
       "      <td>16.1</td>\n",
       "      <td>44.47</td>\n",
       "      <td>749</td>\n",
       "    </tr>\n",
       "    <tr>\n",
       "      <th>3</th>\n",
       "      <td>대전태평</td>\n",
       "      <td>(암반)</td>\n",
       "      <td>20090101</td>\n",
       "      <td>3</td>\n",
       "      <td>16.1</td>\n",
       "      <td>44.47</td>\n",
       "      <td>749</td>\n",
       "    </tr>\n",
       "    <tr>\n",
       "      <th>4</th>\n",
       "      <td>대전태평</td>\n",
       "      <td>(암반)</td>\n",
       "      <td>20090101</td>\n",
       "      <td>4</td>\n",
       "      <td>16.1</td>\n",
       "      <td>44.47</td>\n",
       "      <td>749</td>\n",
       "    </tr>\n",
       "    <tr>\n",
       "      <th>...</th>\n",
       "      <td>...</td>\n",
       "      <td>...</td>\n",
       "      <td>...</td>\n",
       "      <td>...</td>\n",
       "      <td>...</td>\n",
       "      <td>...</td>\n",
       "      <td>...</td>\n",
       "    </tr>\n",
       "    <tr>\n",
       "      <th>60849</th>\n",
       "      <td>대전태평</td>\n",
       "      <td>(암반)</td>\n",
       "      <td>20161231</td>\n",
       "      <td>19</td>\n",
       "      <td>16.2</td>\n",
       "      <td>44.49</td>\n",
       "      <td>725</td>\n",
       "    </tr>\n",
       "    <tr>\n",
       "      <th>60850</th>\n",
       "      <td>대전태평</td>\n",
       "      <td>(암반)</td>\n",
       "      <td>20161231</td>\n",
       "      <td>20</td>\n",
       "      <td>16.2</td>\n",
       "      <td>44.49</td>\n",
       "      <td>725</td>\n",
       "    </tr>\n",
       "    <tr>\n",
       "      <th>60851</th>\n",
       "      <td>대전태평</td>\n",
       "      <td>(암반)</td>\n",
       "      <td>20161231</td>\n",
       "      <td>21</td>\n",
       "      <td>16.2</td>\n",
       "      <td>44.49</td>\n",
       "      <td>725</td>\n",
       "    </tr>\n",
       "    <tr>\n",
       "      <th>60852</th>\n",
       "      <td>대전태평</td>\n",
       "      <td>(암반)</td>\n",
       "      <td>20161231</td>\n",
       "      <td>22</td>\n",
       "      <td>16.2</td>\n",
       "      <td>44.49</td>\n",
       "      <td>725</td>\n",
       "    </tr>\n",
       "    <tr>\n",
       "      <th>60853</th>\n",
       "      <td>대전태평</td>\n",
       "      <td>(암반)</td>\n",
       "      <td>20161231</td>\n",
       "      <td>23</td>\n",
       "      <td>16.2</td>\n",
       "      <td>44.49</td>\n",
       "      <td>725</td>\n",
       "    </tr>\n",
       "  </tbody>\n",
       "</table>\n",
       "<p>60854 rows × 7 columns</p>\n",
       "</div>"
      ],
      "text/plain": [
       "        관측소    구분        날짜  시간  수온(℃)  수위(el.m)  EC(㎲/㎝)\n",
       "0      대전태평  (암반)  20090101   0   16.1     44.47      749\n",
       "1      대전태평  (암반)  20090101   1   16.1     44.47      749\n",
       "2      대전태평  (암반)  20090101   2   16.1     44.47      749\n",
       "3      대전태평  (암반)  20090101   3   16.1     44.47      749\n",
       "4      대전태평  (암반)  20090101   4   16.1     44.47      749\n",
       "...     ...   ...       ...  ..    ...       ...      ...\n",
       "60849  대전태평  (암반)  20161231  19   16.2     44.49      725\n",
       "60850  대전태평  (암반)  20161231  20   16.2     44.49      725\n",
       "60851  대전태평  (암반)  20161231  21   16.2     44.49      725\n",
       "60852  대전태평  (암반)  20161231  22   16.2     44.49      725\n",
       "60853  대전태평  (암반)  20161231  23   16.2     44.49      725\n",
       "\n",
       "[60854 rows x 7 columns]"
      ]
     },
     "execution_count": 65,
     "metadata": {},
     "output_type": "execute_result"
    }
   ],
   "source": [
    "df = df.reset_index(drop=True) #인덱스를 reset하라는말 \n",
    "#drop= True 는 기존에 있던것을 없애버리라는 말 \n",
    "df"
   ]
  },
  {
   "cell_type": "markdown",
   "id": "f47f3c02-3c15-4543-9fb8-3b79fa0e1a5f",
   "metadata": {},
   "source": [
    "아깐 인덱스가 중복되어서 8xxx 나온듯"
   ]
  },
  {
   "cell_type": "markdown",
   "id": "0b4ef98d-69a6-49f3-a05e-dca6c99f6318",
   "metadata": {},
   "source": [
    "전체적인 데이터 정보를 볼려면 info() 함수를 사용한다.   \n",
    "중요한 점은 결측치를 확인하는 것이 중요  \n",
    "해당 데이터의 경우 69548 개 가 나타났고, 결측치가 없다고 판단되어짐  "
   ]
  },
  {
   "cell_type": "code",
   "execution_count": 66,
   "id": "82064fc3-8170-40fa-b013-9936b0ca2af8",
   "metadata": {},
   "outputs": [
    {
     "name": "stdout",
     "output_type": "stream",
     "text": [
      "<class 'pandas.core.frame.DataFrame'>\n",
      "RangeIndex: 60854 entries, 0 to 60853\n",
      "Data columns (total 7 columns):\n",
      " #   Column    Non-Null Count  Dtype  \n",
      "---  ------    --------------  -----  \n",
      " 0   관측소       60854 non-null  object \n",
      " 1   구분        60854 non-null  object \n",
      " 2   날짜        60854 non-null  int64  \n",
      " 3   시간        60854 non-null  int64  \n",
      " 4   수온(℃)     60854 non-null  float64\n",
      " 5   수위(el.m)  60854 non-null  float64\n",
      " 6   EC(㎲/㎝)   60854 non-null  int64  \n",
      "dtypes: float64(2), int64(3), object(2)\n",
      "memory usage: 3.3+ MB\n"
     ]
    }
   ],
   "source": [
    "df.info()"
   ]
  },
  {
   "cell_type": "code",
   "execution_count": 67,
   "id": "e2491fc9-46df-4a09-ba0f-a33ec24f3bb9",
   "metadata": {},
   "outputs": [
    {
     "data": {
      "text/html": [
       "<div>\n",
       "<style scoped>\n",
       "    .dataframe tbody tr th:only-of-type {\n",
       "        vertical-align: middle;\n",
       "    }\n",
       "\n",
       "    .dataframe tbody tr th {\n",
       "        vertical-align: top;\n",
       "    }\n",
       "\n",
       "    .dataframe thead th {\n",
       "        text-align: right;\n",
       "    }\n",
       "</style>\n",
       "<table border=\"1\" class=\"dataframe\">\n",
       "  <thead>\n",
       "    <tr style=\"text-align: right;\">\n",
       "      <th></th>\n",
       "      <th>관측소</th>\n",
       "      <th>구분</th>\n",
       "      <th>날짜</th>\n",
       "      <th>시간</th>\n",
       "      <th>수온(℃)</th>\n",
       "      <th>수위(el.m)</th>\n",
       "      <th>EC(㎲/㎝)</th>\n",
       "      <th>Date</th>\n",
       "    </tr>\n",
       "    <tr>\n",
       "      <th>Date</th>\n",
       "      <th></th>\n",
       "      <th></th>\n",
       "      <th></th>\n",
       "      <th></th>\n",
       "      <th></th>\n",
       "      <th></th>\n",
       "      <th></th>\n",
       "      <th></th>\n",
       "    </tr>\n",
       "  </thead>\n",
       "  <tbody>\n",
       "    <tr>\n",
       "      <th>2009-01-01 00:00:00</th>\n",
       "      <td>대전태평</td>\n",
       "      <td>(암반)</td>\n",
       "      <td>20090101</td>\n",
       "      <td>0</td>\n",
       "      <td>16.1</td>\n",
       "      <td>44.47</td>\n",
       "      <td>749</td>\n",
       "      <td>2009-01-01 00:00:00</td>\n",
       "    </tr>\n",
       "    <tr>\n",
       "      <th>2009-01-01 01:00:00</th>\n",
       "      <td>대전태평</td>\n",
       "      <td>(암반)</td>\n",
       "      <td>20090101</td>\n",
       "      <td>1</td>\n",
       "      <td>16.1</td>\n",
       "      <td>44.47</td>\n",
       "      <td>749</td>\n",
       "      <td>2009-01-01 01:00:00</td>\n",
       "    </tr>\n",
       "    <tr>\n",
       "      <th>2009-01-01 02:00:00</th>\n",
       "      <td>대전태평</td>\n",
       "      <td>(암반)</td>\n",
       "      <td>20090101</td>\n",
       "      <td>2</td>\n",
       "      <td>16.1</td>\n",
       "      <td>44.47</td>\n",
       "      <td>749</td>\n",
       "      <td>2009-01-01 02:00:00</td>\n",
       "    </tr>\n",
       "    <tr>\n",
       "      <th>2009-01-01 03:00:00</th>\n",
       "      <td>대전태평</td>\n",
       "      <td>(암반)</td>\n",
       "      <td>20090101</td>\n",
       "      <td>3</td>\n",
       "      <td>16.1</td>\n",
       "      <td>44.47</td>\n",
       "      <td>749</td>\n",
       "      <td>2009-01-01 03:00:00</td>\n",
       "    </tr>\n",
       "    <tr>\n",
       "      <th>2009-01-01 04:00:00</th>\n",
       "      <td>대전태평</td>\n",
       "      <td>(암반)</td>\n",
       "      <td>20090101</td>\n",
       "      <td>4</td>\n",
       "      <td>16.1</td>\n",
       "      <td>44.47</td>\n",
       "      <td>749</td>\n",
       "      <td>2009-01-01 04:00:00</td>\n",
       "    </tr>\n",
       "    <tr>\n",
       "      <th>2009-01-01 05:00:00</th>\n",
       "      <td>대전태평</td>\n",
       "      <td>(암반)</td>\n",
       "      <td>20090101</td>\n",
       "      <td>5</td>\n",
       "      <td>16.1</td>\n",
       "      <td>44.47</td>\n",
       "      <td>749</td>\n",
       "      <td>2009-01-01 05:00:00</td>\n",
       "    </tr>\n",
       "    <tr>\n",
       "      <th>2009-01-01 06:00:00</th>\n",
       "      <td>대전태평</td>\n",
       "      <td>(암반)</td>\n",
       "      <td>20090101</td>\n",
       "      <td>6</td>\n",
       "      <td>16.1</td>\n",
       "      <td>44.47</td>\n",
       "      <td>749</td>\n",
       "      <td>2009-01-01 06:00:00</td>\n",
       "    </tr>\n",
       "    <tr>\n",
       "      <th>2009-01-01 07:00:00</th>\n",
       "      <td>대전태평</td>\n",
       "      <td>(암반)</td>\n",
       "      <td>20090101</td>\n",
       "      <td>7</td>\n",
       "      <td>16.1</td>\n",
       "      <td>44.47</td>\n",
       "      <td>749</td>\n",
       "      <td>2009-01-01 07:00:00</td>\n",
       "    </tr>\n",
       "  </tbody>\n",
       "</table>\n",
       "</div>"
      ],
      "text/plain": [
       "                      관측소    구분        날짜  시간  수온(℃)  수위(el.m)  EC(㎲/㎝)  \\\n",
       "Date                                                                      \n",
       "2009-01-01 00:00:00  대전태평  (암반)  20090101   0   16.1     44.47      749   \n",
       "2009-01-01 01:00:00  대전태평  (암반)  20090101   1   16.1     44.47      749   \n",
       "2009-01-01 02:00:00  대전태평  (암반)  20090101   2   16.1     44.47      749   \n",
       "2009-01-01 03:00:00  대전태평  (암반)  20090101   3   16.1     44.47      749   \n",
       "2009-01-01 04:00:00  대전태평  (암반)  20090101   4   16.1     44.47      749   \n",
       "2009-01-01 05:00:00  대전태평  (암반)  20090101   5   16.1     44.47      749   \n",
       "2009-01-01 06:00:00  대전태평  (암반)  20090101   6   16.1     44.47      749   \n",
       "2009-01-01 07:00:00  대전태평  (암반)  20090101   7   16.1     44.47      749   \n",
       "\n",
       "                                   Date  \n",
       "Date                                     \n",
       "2009-01-01 00:00:00 2009-01-01 00:00:00  \n",
       "2009-01-01 01:00:00 2009-01-01 01:00:00  \n",
       "2009-01-01 02:00:00 2009-01-01 02:00:00  \n",
       "2009-01-01 03:00:00 2009-01-01 03:00:00  \n",
       "2009-01-01 04:00:00 2009-01-01 04:00:00  \n",
       "2009-01-01 05:00:00 2009-01-01 05:00:00  \n",
       "2009-01-01 06:00:00 2009-01-01 06:00:00  \n",
       "2009-01-01 07:00:00 2009-01-01 07:00:00  "
      ]
     },
     "execution_count": 67,
     "metadata": {},
     "output_type": "execute_result"
    }
   ],
   "source": [
    "df['Date'] = pd.to_datetime(df['날짜'],format='%Y%m%d')+\\\n",
    "             pd.to_timedelta(df['시간'].astype(int),unit='h')\n",
    "df.set_index(df['Date'], inplace=True) # index 지정 Date 컬럼을 인덱스로 지정 \n",
    "df.head(8)"
   ]
  },
  {
   "cell_type": "code",
   "execution_count": 68,
   "id": "75edace8-45a3-4749-8ed4-e1df967c541f",
   "metadata": {},
   "outputs": [
    {
     "data": {
      "text/html": [
       "<div>\n",
       "<style scoped>\n",
       "    .dataframe tbody tr th:only-of-type {\n",
       "        vertical-align: middle;\n",
       "    }\n",
       "\n",
       "    .dataframe tbody tr th {\n",
       "        vertical-align: top;\n",
       "    }\n",
       "\n",
       "    .dataframe thead th {\n",
       "        text-align: right;\n",
       "    }\n",
       "</style>\n",
       "<table border=\"1\" class=\"dataframe\">\n",
       "  <thead>\n",
       "    <tr style=\"text-align: right;\">\n",
       "      <th></th>\n",
       "      <th>temp</th>\n",
       "      <th>level</th>\n",
       "      <th>EC</th>\n",
       "    </tr>\n",
       "    <tr>\n",
       "      <th>Date</th>\n",
       "      <th></th>\n",
       "      <th></th>\n",
       "      <th></th>\n",
       "    </tr>\n",
       "  </thead>\n",
       "  <tbody>\n",
       "    <tr>\n",
       "      <th>2009-01-01 00:00:00</th>\n",
       "      <td>16.1</td>\n",
       "      <td>44.47</td>\n",
       "      <td>749</td>\n",
       "    </tr>\n",
       "    <tr>\n",
       "      <th>2009-01-01 01:00:00</th>\n",
       "      <td>16.1</td>\n",
       "      <td>44.47</td>\n",
       "      <td>749</td>\n",
       "    </tr>\n",
       "    <tr>\n",
       "      <th>2009-01-01 02:00:00</th>\n",
       "      <td>16.1</td>\n",
       "      <td>44.47</td>\n",
       "      <td>749</td>\n",
       "    </tr>\n",
       "  </tbody>\n",
       "</table>\n",
       "</div>"
      ],
      "text/plain": [
       "                     temp  level   EC\n",
       "Date                                 \n",
       "2009-01-01 00:00:00  16.1  44.47  749\n",
       "2009-01-01 01:00:00  16.1  44.47  749\n",
       "2009-01-01 02:00:00  16.1  44.47  749"
      ]
     },
     "execution_count": 68,
     "metadata": {},
     "output_type": "execute_result"
    }
   ],
   "source": [
    "df1 = df[['수온(℃)', '수위(el.m)','EC(㎲/㎝)']]\n",
    "df1.columns = ['temp', 'level', 'EC']\n",
    "df1.head(3)\n",
    "# 가급적 영어로 바꿔주는게 좋다 "
   ]
  },
  {
   "cell_type": "code",
   "execution_count": 69,
   "id": "b87a6eab-c47e-43df-85d0-270a50fd5ec3",
   "metadata": {},
   "outputs": [
    {
     "data": {
      "text/plain": [
       "temp     0\n",
       "level    0\n",
       "EC       0\n",
       "dtype: int64"
      ]
     },
     "execution_count": 69,
     "metadata": {},
     "output_type": "execute_result"
    }
   ],
   "source": [
    "df1.isnull( ).sum( ) # 결측치값을 합하여 몇개 있는지 나타내줌"
   ]
  },
  {
   "cell_type": "code",
   "execution_count": 70,
   "id": "cf09f96c-6d60-48d1-b3bc-b17f91b231fb",
   "metadata": {},
   "outputs": [],
   "source": [
    "# 결과를 보면 온도컬럼, 수위컬럼 , 전도도컬럼에 결측치가 없음을 알 수 있다. "
   ]
  },
  {
   "cell_type": "code",
   "execution_count": 71,
   "id": "a7ae1190-a310-4a7f-b1dc-d70bb7b25764",
   "metadata": {},
   "outputs": [],
   "source": [
    "df1.to_csv('./대전지하수.csv', encoding='cp949')\n",
    "\n",
    "#데이터 프레임 저장하기"
   ]
  },
  {
   "cell_type": "code",
   "execution_count": 72,
   "id": "cd51d690-fbb8-4e95-a1c6-40ac0e3589ca",
   "metadata": {},
   "outputs": [],
   "source": [
    "#통계량을 보고 이상치가 있는지 확인하는 작업을 해보자 "
   ]
  },
  {
   "cell_type": "code",
   "execution_count": 73,
   "id": "d271b0e7-6501-40e7-b4db-9d63ee176dc3",
   "metadata": {},
   "outputs": [],
   "source": [
    "#통계량은 describe() 함수를 이용한다. "
   ]
  },
  {
   "cell_type": "code",
   "execution_count": 74,
   "id": "3469e12a-2036-4a42-a279-74ce7dc4cfe9",
   "metadata": {},
   "outputs": [
    {
     "data": {
      "text/html": [
       "<div>\n",
       "<style scoped>\n",
       "    .dataframe tbody tr th:only-of-type {\n",
       "        vertical-align: middle;\n",
       "    }\n",
       "\n",
       "    .dataframe tbody tr th {\n",
       "        vertical-align: top;\n",
       "    }\n",
       "\n",
       "    .dataframe thead th {\n",
       "        text-align: right;\n",
       "    }\n",
       "</style>\n",
       "<table border=\"1\" class=\"dataframe\">\n",
       "  <thead>\n",
       "    <tr style=\"text-align: right;\">\n",
       "      <th></th>\n",
       "      <th>temp</th>\n",
       "      <th>level</th>\n",
       "      <th>EC</th>\n",
       "    </tr>\n",
       "  </thead>\n",
       "  <tbody>\n",
       "    <tr>\n",
       "      <th>count</th>\n",
       "      <td>60854.000000</td>\n",
       "      <td>60854.000000</td>\n",
       "      <td>60854.000000</td>\n",
       "    </tr>\n",
       "    <tr>\n",
       "      <th>mean</th>\n",
       "      <td>16.256935</td>\n",
       "      <td>44.266443</td>\n",
       "      <td>731.251586</td>\n",
       "    </tr>\n",
       "    <tr>\n",
       "      <th>std</th>\n",
       "      <td>0.092782</td>\n",
       "      <td>2.712916</td>\n",
       "      <td>15.254203</td>\n",
       "    </tr>\n",
       "    <tr>\n",
       "      <th>min</th>\n",
       "      <td>15.800000</td>\n",
       "      <td>11.530000</td>\n",
       "      <td>693.000000</td>\n",
       "    </tr>\n",
       "    <tr>\n",
       "      <th>25%</th>\n",
       "      <td>16.200000</td>\n",
       "      <td>44.370000</td>\n",
       "      <td>722.000000</td>\n",
       "    </tr>\n",
       "    <tr>\n",
       "      <th>50%</th>\n",
       "      <td>16.300000</td>\n",
       "      <td>44.460000</td>\n",
       "      <td>729.000000</td>\n",
       "    </tr>\n",
       "    <tr>\n",
       "      <th>75%</th>\n",
       "      <td>16.300000</td>\n",
       "      <td>44.540000</td>\n",
       "      <td>742.000000</td>\n",
       "    </tr>\n",
       "    <tr>\n",
       "      <th>max</th>\n",
       "      <td>16.500000</td>\n",
       "      <td>45.900000</td>\n",
       "      <td>778.000000</td>\n",
       "    </tr>\n",
       "  </tbody>\n",
       "</table>\n",
       "</div>"
      ],
      "text/plain": [
       "               temp         level            EC\n",
       "count  60854.000000  60854.000000  60854.000000\n",
       "mean      16.256935     44.266443    731.251586\n",
       "std        0.092782      2.712916     15.254203\n",
       "min       15.800000     11.530000    693.000000\n",
       "25%       16.200000     44.370000    722.000000\n",
       "50%       16.300000     44.460000    729.000000\n",
       "75%       16.300000     44.540000    742.000000\n",
       "max       16.500000     45.900000    778.000000"
      ]
     },
     "execution_count": 74,
     "metadata": {},
     "output_type": "execute_result"
    }
   ],
   "source": [
    "df = pd.read_csv('./대전지하수.csv', index_col='Date', parse_dates=True, encoding='cp949')\n",
    "#데이터 프레임 가져오기 \n",
    "df.describe()"
   ]
  },
  {
   "cell_type": "markdown",
   "id": "276db90a-3bdd-41c6-b2d6-7994fec820f1",
   "metadata": {},
   "source": [
    "지금 데이터를 잘보면 지하수위 컬럼 과 전도도 열에서 최솟값과 1사분위수의 차이가 너무큼  \n",
    "최솟값이 이상치일 가능성이 높다. "
   ]
  },
  {
   "cell_type": "code",
   "execution_count": 75,
   "id": "d5de6b12-ba46-4a0e-9e3e-389ce69fd3f2",
   "metadata": {},
   "outputs": [
    {
     "data": {
      "image/png": "[encoded data removed]",
      "text/plain": [
       "<Figure size 1000x600 with 4 Axes>"
      ]
     },
     "metadata": {},
     "output_type": "display_data"
    }
   ],
   "source": [
    "df.hist(bins=50, figsize=(10,6))\n",
    "\n",
    "plt.show()"
   ]
  },
  {
   "cell_type": "code",
   "execution_count": 76,
   "id": "a0f731db-ccd1-4ff6-a681-861ce4af5747",
   "metadata": {},
   "outputs": [],
   "source": [
    "#히스토그램으로 데이터 분포를 파악해보자 "
   ]
  },
  {
   "cell_type": "code",
   "execution_count": 77,
   "id": "d26bb409-dfe4-40da-8638-4a18447a783b",
   "metadata": {},
   "outputs": [
    {
     "data": {
      "image/png": "[encoded data removed]",
      "text/plain": [
       "<Figure size 1000x600 with 4 Axes>"
      ]
     },
     "metadata": {},
     "output_type": "display_data"
    }
   ],
   "source": [
    "df.hist(bins=50, figsize=(10,6))\n",
    "plt.show()"
   ]
  },
  {
   "cell_type": "markdown",
   "id": "0e4bdc1f-15f3-4768-8fbb-31e6b69ce79d",
   "metadata": {},
   "source": [
    "상자그래프로 이상치를 확인해보자 "
   ]
  },
  {
   "cell_type": "code",
   "execution_count": 78,
   "id": "56fe4e03-565b-4a18-abc3-642dde987efd",
   "metadata": {},
   "outputs": [
    {
     "data": {
      "text/plain": [
       "<Axes: >"
      ]
     },
     "execution_count": 78,
     "metadata": {},
     "output_type": "execute_result"
    },
    {
     "data": {
      "image/png": "[encoded data removed]",
      "text/plain": [
       "<Figure size 640x480 with 1 Axes>"
      ]
     },
     "metadata": {},
     "output_type": "display_data"
    }
   ],
   "source": [
    "df.boxplot()"
   ]
  },
  {
   "cell_type": "code",
   "execution_count": 79,
   "id": "eb50efd8-14d2-4975-ae23-8aa43348d073",
   "metadata": {},
   "outputs": [
    {
     "data": {
      "image/png": "[encoded data removed]",
      "text/plain": [
       "<Figure size 640x480 with 3 Axes>"
      ]
     },
     "metadata": {},
     "output_type": "display_data"
    }
   ],
   "source": [
    "plt.subplot(1, 3, 1)\n",
    "df.boxplot(column='temp', return_type='both')\n",
    "\n",
    "plt.subplot(1, 3, 2)\n",
    "df.boxplot(column='level', return_type='both')\n",
    "\n",
    "plt.subplot(1, 3, 3)\n",
    "df.boxplot(column='EC', return_type='both')\n",
    "\n",
    "plt.show()"
   ]
  },
  {
   "cell_type": "code",
   "execution_count": 80,
   "id": "c110a416-24b5-4904-aeab-7d8c131690e1",
   "metadata": {},
   "outputs": [
    {
     "data": {
      "image/png": "[encoded data removed]",
      "text/plain": [
       "<Figure size 640x480 with 3 Axes>"
      ]
     },
     "metadata": {},
     "output_type": "display_data"
    }
   ],
   "source": [
    "plt.subplot(3, 1, 1)\n",
    "df['temp'].plot( )\n",
    "\n",
    "plt.subplot(3, 1, 2)\n",
    "df['level'].plot()\n",
    "\n",
    "plt.subplot(3, 1, 3)\n",
    "df['EC'].plot( )\n",
    "\n",
    "plt.show( )"
   ]
  },
  {
   "cell_type": "code",
   "execution_count": 82,
   "id": "1be511fd-339d-4015-a018-81ca22f40908",
   "metadata": {},
   "outputs": [],
   "source": [
    "#quantile() 함수로 사분위수를 계산할 수 있다. "
   ]
  },
  {
   "cell_type": "code",
   "execution_count": 83,
   "id": "cc0e70fd-e78a-4934-8f06-82a6ed3ac9a9",
   "metadata": {},
   "outputs": [
    {
     "name": "stdout",
     "output_type": "stream",
     "text": [
      "0.1700000000000017\n"
     ]
    }
   ],
   "source": [
    "q3_level = df['level'].quantile(q=0.75)\n",
    "q1_level = df['level'].quantile(q=0.25)\n",
    "iqr_level = q3_level - q1_level\n",
    "print(iqr_level)\n",
    "\n",
    "#1사분위수 , 3사분위수 구하고 3사분위수 - 1사분위수 = iqr을 구한다. "
   ]
  },
  {
   "cell_type": "markdown",
   "id": "2307f342-9aed-4626-9c70-cbe5ce5beeb2",
   "metadata": {},
   "source": [
    "이번에는 최댓값과 최솟값을 알아보자 "
   ]
  },
  {
   "cell_type": "code",
   "execution_count": 84,
   "id": "142584d2-8bda-4afa-adb0-12969f620ea3",
   "metadata": {},
   "outputs": [
    {
     "name": "stdout",
     "output_type": "stream",
     "text": [
      "44.795 / 44.114999999999995\n",
      "4496\n",
      "1577\n"
     ]
    }
   ],
   "source": [
    "upper_level = q3_level + 1.5 * iqr_level\n",
    "lower_level = q1_level -1.5 * iqr_level\n",
    "print(upper_level, '/', lower_level)\n",
    "print((df['level'] > upper_level).sum( )) #최대값을 초과한 것은 이상치 \n",
    "print((df['level'] < lower_level).sum( )) #최솟값을 초과한 것은 이상치 \n",
    "#이상치가 몇개인지 보여달라는 말임 "
   ]
  },
  {
   "cell_type": "markdown",
   "id": "7a79216a-3c9e-4fc4-8ded-6d2cfed8b93a",
   "metadata": {},
   "source": [
    "이상치는 그럼 어떻게 제거할 것인가? 다음시간에 ppt 49 "
   ]
  },
  {
   "cell_type": "markdown",
   "id": "8b1c14fe-12e4-49aa-b615-ab44fb9648e0",
   "metadata": {},
   "source": [
    "*** 11월 25일 "
   ]
  },
  {
   "cell_type": "code",
   "execution_count": 85,
   "id": "00303c22-5282-403e-9baf-be796c02576e",
   "metadata": {},
   "outputs": [
    {
     "data": {
      "text/plain": [
       "<Axes: xlabel='Date'>"
      ]
     },
     "execution_count": 85,
     "metadata": {},
     "output_type": "execute_result"
    },
    {
     "data": {
      "image/png": "[encoded data removed]",
      "text/plain": [
       "<Figure size 640x480 with 1 Axes>"
      ]
     },
     "metadata": {},
     "output_type": "display_data"
    }
   ],
   "source": [
    "df_iqr_level = df[(df['level'] < upper_level) & (df['level'] > lower_level)]\n",
    "df_iqr_level['level'].plot( )"
   ]
  },
  {
   "cell_type": "code",
   "execution_count": 87,
   "id": "94f74571-dd4f-416a-b9de-dc6890e0660f",
   "metadata": {},
   "outputs": [
    {
     "name": "stdout",
     "output_type": "stream",
     "text": [
      "IQR: 0.10000000000000142\n",
      "16.450000000000003 / 16.049999999999997\n",
      "226\n",
      "13\n"
     ]
    }
   ],
   "source": [
    "#사분위수와IQR 구하기\n",
    "q3_temp = df['temp'].quantile(q=0.75)\n",
    "q1_temp = df['temp'].quantile(q=0.25)\n",
    "iqr_temp = q3_temp-q1_temp\n",
    "print('IQR:', iqr_temp)\n",
    "\n",
    "#지하수온상한값, 하한값, 이상치개수구하기\n",
    "\n",
    "upper_temp = q3_temp + iqr_temp * 1.5\n",
    "lower_temp = q1_temp -iqr_temp * 1.5 \n",
    "\n",
    "print(upper_temp, '/', lower_temp) # 상한선 , 하한선 \n",
    "print((df['temp'] > upper_temp).sum( )) #상한값을 초과하는 데이터들의 갯수 \n",
    "print((df['temp'] < lower_temp).sum( )) #하한값을 초과하는 데이터들의 갯수 \n",
    "#전체적으로 수온의 변화는 거의없다.. 왜?"
   ]
  },
  {
   "cell_type": "code",
   "execution_count": 88,
   "id": "2a40d0c2-3c2d-4598-85d2-44c48cf59205",
   "metadata": {},
   "outputs": [],
   "source": [
    "# 이번에도 quantile함수를 이용해서 전기전도도에 대한 iqr과 이상치 개수를 구해보자. "
   ]
  },
  {
   "cell_type": "code",
   "execution_count": 89,
   "id": "ed1398df-a061-4191-a2da-51ba8ea1c7d8",
   "metadata": {},
   "outputs": [
    {
     "name": "stdout",
     "output_type": "stream",
     "text": [
      "IQR: 20.0\n",
      "772.0 / 692.0\n",
      "831\n",
      "0\n"
     ]
    }
   ],
   "source": [
    "#사분위수와IQR 구하기\n",
    "q3_ec = df['EC'].quantile(q=0.75)\n",
    "q1_ec = df['EC'].quantile(q=0.25)\n",
    "iqr_ec = q3_ec -q1_ec\n",
    "print('IQR:', iqr_ec)\n",
    "\n",
    "#지하수온상한값, 하한값, 이상치개수구하기\n",
    "\n",
    "upper_ec = q3_ec + iqr_ec * 1.5\n",
    "lower_ec = q1_ec -iqr_ec * 1.5\n",
    "print(upper_ec, '/', lower_ec) # 상한선 , 하한선 \n",
    "print((df['EC'] > upper_ec).sum( ))  #상한값을 초과하는 데이터들의 갯수 \n",
    "print((df['EC'] < lower_ec).sum( ))   #하한값을 초과하는 데이터들의 갯수"
   ]
  },
  {
   "cell_type": "code",
   "execution_count": null,
   "id": "856e5d5c-b9ae-41c4-bc01-dc0a3fe5eeb5",
   "metadata": {},
   "outputs": [],
   "source": [
    "#특성수가 여러개 있을때, 이상치를 한꺼번에 적용해야 데이터의 손실이업다 \n",
    "# 잘 이해가 안가넴 \n",
    "# 이상치를 한꺼번에 제거"
   ]
  },
  {
   "cell_type": "code",
   "execution_count": 90,
   "id": "211c1331-abc1-4395-99f6-5e2c144f681b",
   "metadata": {},
   "outputs": [],
   "source": [
    "df_iqr = df[(df['temp'] < upper_temp) & (df['temp'] > lower_temp) &\\\n",
    " (df['level'] < upper_level) & (df['level'] > lower_level) &\\\n",
    " (df['EC'] < upper_ec) & (df['EC'] > lower_ec)]\n",
    "\n",
    "#즉 정상치들만 모아서 이를 저장하면 이상치들은 자동적으로 제거가 되버림 "
   ]
  },
  {
   "cell_type": "code",
   "execution_count": null,
   "id": "a6710a37-faa6-437f-8711-7473699f2c82",
   "metadata": {},
   "outputs": [],
   "source": [
    "#이렇게 이상치들이 제거 후의 통계량을 한번 살펴보자 "
   ]
  },
  {
   "cell_type": "code",
   "execution_count": 91,
   "id": "6f4d82df-1f44-461b-bf0c-9bb44c74deae",
   "metadata": {},
   "outputs": [
    {
     "data": {
      "text/html": [
       "<div>\n",
       "<style scoped>\n",
       "    .dataframe tbody tr th:only-of-type {\n",
       "        vertical-align: middle;\n",
       "    }\n",
       "\n",
       "    .dataframe tbody tr th {\n",
       "        vertical-align: top;\n",
       "    }\n",
       "\n",
       "    .dataframe thead th {\n",
       "        text-align: right;\n",
       "    }\n",
       "</style>\n",
       "<table border=\"1\" class=\"dataframe\">\n",
       "  <thead>\n",
       "    <tr style=\"text-align: right;\">\n",
       "      <th></th>\n",
       "      <th>temp</th>\n",
       "      <th>level</th>\n",
       "      <th>EC</th>\n",
       "    </tr>\n",
       "  </thead>\n",
       "  <tbody>\n",
       "    <tr>\n",
       "      <th>count</th>\n",
       "      <td>53545.000000</td>\n",
       "      <td>53545.000000</td>\n",
       "      <td>53545.000000</td>\n",
       "    </tr>\n",
       "    <tr>\n",
       "      <th>mean</th>\n",
       "      <td>16.249973</td>\n",
       "      <td>44.457145</td>\n",
       "      <td>731.406779</td>\n",
       "    </tr>\n",
       "    <tr>\n",
       "      <th>std</th>\n",
       "      <td>0.092386</td>\n",
       "      <td>0.120359</td>\n",
       "      <td>13.811769</td>\n",
       "    </tr>\n",
       "    <tr>\n",
       "      <th>min</th>\n",
       "      <td>16.100000</td>\n",
       "      <td>44.120000</td>\n",
       "      <td>693.000000</td>\n",
       "    </tr>\n",
       "    <tr>\n",
       "      <th>25%</th>\n",
       "      <td>16.200000</td>\n",
       "      <td>44.370000</td>\n",
       "      <td>722.000000</td>\n",
       "    </tr>\n",
       "    <tr>\n",
       "      <th>50%</th>\n",
       "      <td>16.300000</td>\n",
       "      <td>44.450000</td>\n",
       "      <td>730.000000</td>\n",
       "    </tr>\n",
       "    <tr>\n",
       "      <th>75%</th>\n",
       "      <td>16.300000</td>\n",
       "      <td>44.520000</td>\n",
       "      <td>741.000000</td>\n",
       "    </tr>\n",
       "    <tr>\n",
       "      <th>max</th>\n",
       "      <td>16.400000</td>\n",
       "      <td>44.790000</td>\n",
       "      <td>771.000000</td>\n",
       "    </tr>\n",
       "  </tbody>\n",
       "</table>\n",
       "</div>"
      ],
      "text/plain": [
       "               temp         level            EC\n",
       "count  53545.000000  53545.000000  53545.000000\n",
       "mean      16.249973     44.457145    731.406779\n",
       "std        0.092386      0.120359     13.811769\n",
       "min       16.100000     44.120000    693.000000\n",
       "25%       16.200000     44.370000    722.000000\n",
       "50%       16.300000     44.450000    730.000000\n",
       "75%       16.300000     44.520000    741.000000\n",
       "max       16.400000     44.790000    771.000000"
      ]
     },
     "execution_count": 91,
     "metadata": {},
     "output_type": "execute_result"
    }
   ],
   "source": [
    "df_iqr.describe()"
   ]
  },
  {
   "cell_type": "code",
   "execution_count": 92,
   "id": "121b5d0c-af23-4ad9-b95a-6505a3b2faff",
   "metadata": {},
   "outputs": [],
   "source": [
    "# 이상치들을 제거 한 후의 히스토그램을 살펴보자."
   ]
  },
  {
   "cell_type": "code",
   "execution_count": 93,
   "id": "1342c8da-cf87-4cd0-8769-22178cfd7772",
   "metadata": {},
   "outputs": [
    {
     "data": {
      "image/png": "[encoded data removed]",
      "text/plain": [
       "<Figure size 1000x600 with 4 Axes>"
      ]
     },
     "metadata": {},
     "output_type": "display_data"
    }
   ],
   "source": [
    "df_iqr.hist(bins = 50 , figsize = (10,6))\n",
    "plt.show()"
   ]
  },
  {
   "cell_type": "code",
   "execution_count": null,
   "id": "aabd5eea-31b4-42b0-b60e-cddb6fd4b3fd",
   "metadata": {},
   "outputs": [],
   "source": [
    "# 이상치 제거 후 상자 그래프를 그려보자. "
   ]
  },
  {
   "cell_type": "code",
   "execution_count": 94,
   "id": "77bac0c9-22cb-446e-b019-0ef3d81ab349",
   "metadata": {},
   "outputs": [
    {
     "data": {
      "image/png": "[encoded data removed]",
      "text/plain": [
       "<Figure size 640x480 with 3 Axes>"
      ]
     },
     "metadata": {},
     "output_type": "display_data"
    }
   ],
   "source": [
    "plt.subplot(1, 3, 1) \n",
    "df_iqr.boxplot(column= 'temp', return_type = 'both') \n",
    "plt.subplot(1, 3, 2) \n",
    "df_iqr.boxplot(column='level', return_type='both')\n",
    "plt.subplot(1, 3, 3) \n",
    "df_iqr.boxplot(column = 'EC', return_type='both')\n",
    "plt.show()"
   ]
  },
  {
   "cell_type": "code",
   "execution_count": null,
   "id": "37237f2a-9216-4583-a35a-028de7ff6870",
   "metadata": {},
   "outputs": [],
   "source": [
    "# 시계열 그래프도 그려보자. "
   ]
  },
  {
   "cell_type": "code",
   "execution_count": 95,
   "id": "2308d28d-5583-49bf-95ce-f504b11f2910",
   "metadata": {},
   "outputs": [
    {
     "data": {
      "image/png": "[encoded data removed]",
      "text/plain": [
       "<Figure size 640x480 with 3 Axes>"
      ]
     },
     "metadata": {},
     "output_type": "display_data"
    }
   ],
   "source": [
    "plt.subplot(3, 1, 1)\n",
    "df_iqr['temp'].plot()\n",
    "plt.subplot(3, 1, 2) \n",
    "df_iqr['level'].plot()\n",
    "plt.subplot(3, 1, 3) \n",
    "df_iqr['EC'].plot()\n",
    "plt.show()"
   ]
  },
  {
   "cell_type": "code",
   "execution_count": null,
   "id": "804f42f7-ad4c-4d54-82a2-6fde99c8b961",
   "metadata": {},
   "outputs": [],
   "source": [
    "# 음 2014~2015년도 자료가 없나보다 나중에 확인해보자. "
   ]
  },
  {
   "cell_type": "code",
   "execution_count": null,
   "id": "50c27d49-dacb-4d90-a8c2-6b55a92d1b81",
   "metadata": {},
   "outputs": [],
   "source": [
    "#이렇게 정제된 데이터를 저장해보자. "
   ]
  },
  {
   "cell_type": "code",
   "execution_count": 97,
   "id": "91acdd30-9ee4-449e-b9a7-dc6eedfd74f0",
   "metadata": {},
   "outputs": [],
   "source": [
    "df_iqr.to_csv('C://sweet/대전지하수_정제.csv', encoding = 'cp949')"
   ]
  },
  {
   "cell_type": "markdown",
   "id": "db218376-cd66-4638-b412-a30e1b8e254e",
   "metadata": {},
   "source": [
    "### 표준화와 정규화 "
   ]
  },
  {
   "cell_type": "code",
   "execution_count": null,
   "id": "d88339df-f1ff-48e9-ac51-54d4b14324f5",
   "metadata": {},
   "outputs": [],
   "source": [
    "표준화된 자료를 불러올려면 이 자료를 불러와야함. read_csv를 통해서 "
   ]
  },
  {
   "cell_type": "code",
   "execution_count": null,
   "id": "6aae91d3-e32a-457d-b0d7-881048e4a89f",
   "metadata": {},
   "outputs": [],
   "source": [
    "import pandas as pd\n",
    "import numpyas np\n",
    "import matplotlib.pyplotas plt"
   ]
  },
  {
   "cell_type": "code",
   "execution_count": 98,
   "id": "a028f2b8-0c33-47ba-ac0b-72d3a76c1a0b",
   "metadata": {},
   "outputs": [
    {
     "data": {
      "text/html": [
       "<div>\n",
       "<style scoped>\n",
       "    .dataframe tbody tr th:only-of-type {\n",
       "        vertical-align: middle;\n",
       "    }\n",
       "\n",
       "    .dataframe tbody tr th {\n",
       "        vertical-align: top;\n",
       "    }\n",
       "\n",
       "    .dataframe thead th {\n",
       "        text-align: right;\n",
       "    }\n",
       "</style>\n",
       "<table border=\"1\" class=\"dataframe\">\n",
       "  <thead>\n",
       "    <tr style=\"text-align: right;\">\n",
       "      <th></th>\n",
       "      <th>Date</th>\n",
       "      <th>temp</th>\n",
       "      <th>level</th>\n",
       "      <th>EC</th>\n",
       "    </tr>\n",
       "  </thead>\n",
       "  <tbody>\n",
       "    <tr>\n",
       "      <th>0</th>\n",
       "      <td>2009-01-01 00:00:00</td>\n",
       "      <td>16.1</td>\n",
       "      <td>44.47</td>\n",
       "      <td>749</td>\n",
       "    </tr>\n",
       "    <tr>\n",
       "      <th>1</th>\n",
       "      <td>2009-01-01 01:00:00</td>\n",
       "      <td>16.1</td>\n",
       "      <td>44.47</td>\n",
       "      <td>749</td>\n",
       "    </tr>\n",
       "    <tr>\n",
       "      <th>2</th>\n",
       "      <td>2009-01-01 02:00:00</td>\n",
       "      <td>16.1</td>\n",
       "      <td>44.47</td>\n",
       "      <td>749</td>\n",
       "    </tr>\n",
       "    <tr>\n",
       "      <th>3</th>\n",
       "      <td>2009-01-01 03:00:00</td>\n",
       "      <td>16.1</td>\n",
       "      <td>44.47</td>\n",
       "      <td>749</td>\n",
       "    </tr>\n",
       "    <tr>\n",
       "      <th>4</th>\n",
       "      <td>2009-01-01 04:00:00</td>\n",
       "      <td>16.1</td>\n",
       "      <td>44.47</td>\n",
       "      <td>749</td>\n",
       "    </tr>\n",
       "  </tbody>\n",
       "</table>\n",
       "</div>"
      ],
      "text/plain": [
       "                  Date  temp  level   EC\n",
       "0  2009-01-01 00:00:00  16.1  44.47  749\n",
       "1  2009-01-01 01:00:00  16.1  44.47  749\n",
       "2  2009-01-01 02:00:00  16.1  44.47  749\n",
       "3  2009-01-01 03:00:00  16.1  44.47  749\n",
       "4  2009-01-01 04:00:00  16.1  44.47  749"
      ]
     },
     "execution_count": 98,
     "metadata": {},
     "output_type": "execute_result"
    }
   ],
   "source": [
    "df = pd.read_csv('./대전지하수_정제.csv')\n",
    "df.head()"
   ]
  },
  {
   "cell_type": "code",
   "execution_count": 99,
   "id": "9264c9a7-22f8-418b-9e16-d24065aaae03",
   "metadata": {},
   "outputs": [],
   "source": [
    "#파일을 불러왔다면, 두 열을 선택해서 스케일링을 해보자. \n",
    "# 스케일링이란 말은 표준화, 정규화 해보자 라는 말임 \n",
    "# level열과 EC 열을 가지고 스케일링을 해보자 \n",
    "# 일단 이 열의 통계량을 확인해서 문제를인식해보자. "
   ]
  },
  {
   "cell_type": "code",
   "execution_count": 100,
   "id": "f4c4d8d2-a522-4c34-82cb-48f2f36bf377",
   "metadata": {},
   "outputs": [
    {
     "data": {
      "text/html": [
       "<div>\n",
       "<style scoped>\n",
       "    .dataframe tbody tr th:only-of-type {\n",
       "        vertical-align: middle;\n",
       "    }\n",
       "\n",
       "    .dataframe tbody tr th {\n",
       "        vertical-align: top;\n",
       "    }\n",
       "\n",
       "    .dataframe thead th {\n",
       "        text-align: right;\n",
       "    }\n",
       "</style>\n",
       "<table border=\"1\" class=\"dataframe\">\n",
       "  <thead>\n",
       "    <tr style=\"text-align: right;\">\n",
       "      <th></th>\n",
       "      <th>level</th>\n",
       "      <th>EC</th>\n",
       "    </tr>\n",
       "  </thead>\n",
       "  <tbody>\n",
       "    <tr>\n",
       "      <th>count</th>\n",
       "      <td>53545.000000</td>\n",
       "      <td>53545.000000</td>\n",
       "    </tr>\n",
       "    <tr>\n",
       "      <th>mean</th>\n",
       "      <td>44.457145</td>\n",
       "      <td>731.406779</td>\n",
       "    </tr>\n",
       "    <tr>\n",
       "      <th>std</th>\n",
       "      <td>0.120359</td>\n",
       "      <td>13.811769</td>\n",
       "    </tr>\n",
       "    <tr>\n",
       "      <th>min</th>\n",
       "      <td>44.120000</td>\n",
       "      <td>693.000000</td>\n",
       "    </tr>\n",
       "    <tr>\n",
       "      <th>25%</th>\n",
       "      <td>44.370000</td>\n",
       "      <td>722.000000</td>\n",
       "    </tr>\n",
       "    <tr>\n",
       "      <th>50%</th>\n",
       "      <td>44.450000</td>\n",
       "      <td>730.000000</td>\n",
       "    </tr>\n",
       "    <tr>\n",
       "      <th>75%</th>\n",
       "      <td>44.520000</td>\n",
       "      <td>741.000000</td>\n",
       "    </tr>\n",
       "    <tr>\n",
       "      <th>max</th>\n",
       "      <td>44.790000</td>\n",
       "      <td>771.000000</td>\n",
       "    </tr>\n",
       "  </tbody>\n",
       "</table>\n",
       "</div>"
      ],
      "text/plain": [
       "              level            EC\n",
       "count  53545.000000  53545.000000\n",
       "mean      44.457145    731.406779\n",
       "std        0.120359     13.811769\n",
       "min       44.120000    693.000000\n",
       "25%       44.370000    722.000000\n",
       "50%       44.450000    730.000000\n",
       "75%       44.520000    741.000000\n",
       "max       44.790000    771.000000"
      ]
     },
     "execution_count": 100,
     "metadata": {},
     "output_type": "execute_result"
    }
   ],
   "source": [
    "df = df[['level', 'EC']]\n",
    "df.describe()"
   ]
  },
  {
   "cell_type": "markdown",
   "id": "793b708e-7483-4926-b460-83eb4eac961a",
   "metadata": {
    "jp-MarkdownHeadingCollapsed": true
   },
   "source": [
    "각각의 열에 대한 std를 주목해보자 지하수 전기전도도는 지하수위보다  \n",
    "100배 이상으로 산포가 크다고 할 수 있다.   \n",
    "표준편차가 너무 많이 차이가 난다.  "
   ]
  },
  {
   "cell_type": "code",
   "execution_count": 101,
   "id": "1c3e5b7e-214e-4e25-b316-e23702d6b25a",
   "metadata": {},
   "outputs": [
    {
     "data": {
      "image/png": "[encoded data removed]",
      "text/plain": [
       "<Figure size 640x480 with 2 Axes>"
      ]
     },
     "metadata": {},
     "output_type": "display_data"
    }
   ],
   "source": [
    "# 히스토그램을 찍어보자 \n",
    "df.hist()\n",
    "plt.show()"
   ]
  },
  {
   "cell_type": "code",
   "execution_count": 102,
   "id": "685b32ec-1cad-4daf-98dd-c7b6a78b46ed",
   "metadata": {},
   "outputs": [],
   "source": [
    "# 표준화란 ? 정규분포 모양을 그릴 수 있도록 하는것 \n",
    "# 음.... 대표적으로 z_score 가 들어감 \n",
    "# x - m / sd(표준편차) "
   ]
  },
  {
   "cell_type": "code",
   "execution_count": null,
   "id": "7d5e479b-ca29-4acc-9284-5e903a9c7edb",
   "metadata": {},
   "outputs": [],
   "source": [
    "# 일단 작업하기 편하도록 사본을 생성해보자. "
   ]
  },
  {
   "cell_type": "code",
   "execution_count": 103,
   "id": "18b14576-da9a-49df-83e0-f6227d37d2bb",
   "metadata": {},
   "outputs": [
    {
     "data": {
      "text/html": [
       "<div>\n",
       "<style scoped>\n",
       "    .dataframe tbody tr th:only-of-type {\n",
       "        vertical-align: middle;\n",
       "    }\n",
       "\n",
       "    .dataframe tbody tr th {\n",
       "        vertical-align: top;\n",
       "    }\n",
       "\n",
       "    .dataframe thead th {\n",
       "        text-align: right;\n",
       "    }\n",
       "</style>\n",
       "<table border=\"1\" class=\"dataframe\">\n",
       "  <thead>\n",
       "    <tr style=\"text-align: right;\">\n",
       "      <th></th>\n",
       "      <th>level</th>\n",
       "      <th>EC</th>\n",
       "    </tr>\n",
       "  </thead>\n",
       "  <tbody>\n",
       "    <tr>\n",
       "      <th>0</th>\n",
       "      <td>44.47</td>\n",
       "      <td>749</td>\n",
       "    </tr>\n",
       "    <tr>\n",
       "      <th>1</th>\n",
       "      <td>44.47</td>\n",
       "      <td>749</td>\n",
       "    </tr>\n",
       "    <tr>\n",
       "      <th>2</th>\n",
       "      <td>44.47</td>\n",
       "      <td>749</td>\n",
       "    </tr>\n",
       "    <tr>\n",
       "      <th>3</th>\n",
       "      <td>44.47</td>\n",
       "      <td>749</td>\n",
       "    </tr>\n",
       "    <tr>\n",
       "      <th>4</th>\n",
       "      <td>44.47</td>\n",
       "      <td>749</td>\n",
       "    </tr>\n",
       "    <tr>\n",
       "      <th>...</th>\n",
       "      <td>...</td>\n",
       "      <td>...</td>\n",
       "    </tr>\n",
       "    <tr>\n",
       "      <th>53540</th>\n",
       "      <td>44.49</td>\n",
       "      <td>725</td>\n",
       "    </tr>\n",
       "    <tr>\n",
       "      <th>53541</th>\n",
       "      <td>44.49</td>\n",
       "      <td>725</td>\n",
       "    </tr>\n",
       "    <tr>\n",
       "      <th>53542</th>\n",
       "      <td>44.49</td>\n",
       "      <td>725</td>\n",
       "    </tr>\n",
       "    <tr>\n",
       "      <th>53543</th>\n",
       "      <td>44.49</td>\n",
       "      <td>725</td>\n",
       "    </tr>\n",
       "    <tr>\n",
       "      <th>53544</th>\n",
       "      <td>44.49</td>\n",
       "      <td>725</td>\n",
       "    </tr>\n",
       "  </tbody>\n",
       "</table>\n",
       "<p>53545 rows × 2 columns</p>\n",
       "</div>"
      ],
      "text/plain": [
       "       level   EC\n",
       "0      44.47  749\n",
       "1      44.47  749\n",
       "2      44.47  749\n",
       "3      44.47  749\n",
       "4      44.47  749\n",
       "...      ...  ...\n",
       "53540  44.49  725\n",
       "53541  44.49  725\n",
       "53542  44.49  725\n",
       "53543  44.49  725\n",
       "53544  44.49  725\n",
       "\n",
       "[53545 rows x 2 columns]"
      ]
     },
     "execution_count": 103,
     "metadata": {},
     "output_type": "execute_result"
    }
   ],
   "source": [
    "df1 = df.copy()\n",
    "df1"
   ]
  },
  {
   "cell_type": "code",
   "execution_count": 104,
   "id": "12bcc10c-691d-4c41-9cd5-7445dfea495c",
   "metadata": {},
   "outputs": [
    {
     "data": {
      "text/html": [
       "<div>\n",
       "<style scoped>\n",
       "    .dataframe tbody tr th:only-of-type {\n",
       "        vertical-align: middle;\n",
       "    }\n",
       "\n",
       "    .dataframe tbody tr th {\n",
       "        vertical-align: top;\n",
       "    }\n",
       "\n",
       "    .dataframe thead th {\n",
       "        text-align: right;\n",
       "    }\n",
       "</style>\n",
       "<table border=\"1\" class=\"dataframe\">\n",
       "  <thead>\n",
       "    <tr style=\"text-align: right;\">\n",
       "      <th></th>\n",
       "      <th>level</th>\n",
       "      <th>EC</th>\n",
       "      <th>level_z_score</th>\n",
       "      <th>EC_z_score</th>\n",
       "    </tr>\n",
       "  </thead>\n",
       "  <tbody>\n",
       "    <tr>\n",
       "      <th>0</th>\n",
       "      <td>44.47</td>\n",
       "      <td>749</td>\n",
       "      <td>0.106808</td>\n",
       "      <td>1.273785</td>\n",
       "    </tr>\n",
       "    <tr>\n",
       "      <th>1</th>\n",
       "      <td>44.47</td>\n",
       "      <td>749</td>\n",
       "      <td>0.106808</td>\n",
       "      <td>1.273785</td>\n",
       "    </tr>\n",
       "    <tr>\n",
       "      <th>2</th>\n",
       "      <td>44.47</td>\n",
       "      <td>749</td>\n",
       "      <td>0.106808</td>\n",
       "      <td>1.273785</td>\n",
       "    </tr>\n",
       "  </tbody>\n",
       "</table>\n",
       "</div>"
      ],
      "text/plain": [
       "   level   EC  level_z_score  EC_z_score\n",
       "0  44.47  749       0.106808    1.273785\n",
       "1  44.47  749       0.106808    1.273785\n",
       "2  44.47  749       0.106808    1.273785"
      ]
     },
     "execution_count": 104,
     "metadata": {},
     "output_type": "execute_result"
    }
   ],
   "source": [
    "# 표준화 \n",
    "# x - m / sd(표준편차)  이 식을 그대로 사용한다. \n",
    "df1['level_z_score'] = (df1['level'] - df1['level'].mean() ) / df1['level'].std()\n",
    "df1['EC_z_score'] = (df1['EC'] - df1['EC'].mean()) /df1['EC'].std()\n",
    "df1.head(3)"
   ]
  },
  {
   "cell_type": "code",
   "execution_count": 105,
   "id": "cc276a8a-73d9-47cf-a97b-613faf2fb60b",
   "metadata": {},
   "outputs": [],
   "source": [
    "# 즉 지하수위와 전기전도도 를 각각 표준화한 열이 추가된다. "
   ]
  },
  {
   "cell_type": "code",
   "execution_count": 106,
   "id": "bbb8d92a-63b5-4c39-8871-094b3e5f1635",
   "metadata": {},
   "outputs": [],
   "source": [
    "# 그럼 이제 통계량과 히스토그램으로 위에 했던 표준화가 잘 수행되었는지 확인해보자 "
   ]
  },
  {
   "cell_type": "code",
   "execution_count": 107,
   "id": "1bbc28bf-a711-412f-8a4d-c43ca3603fb6",
   "metadata": {},
   "outputs": [
    {
     "data": {
      "text/html": [
       "<div>\n",
       "<style scoped>\n",
       "    .dataframe tbody tr th:only-of-type {\n",
       "        vertical-align: middle;\n",
       "    }\n",
       "\n",
       "    .dataframe tbody tr th {\n",
       "        vertical-align: top;\n",
       "    }\n",
       "\n",
       "    .dataframe thead th {\n",
       "        text-align: right;\n",
       "    }\n",
       "</style>\n",
       "<table border=\"1\" class=\"dataframe\">\n",
       "  <thead>\n",
       "    <tr style=\"text-align: right;\">\n",
       "      <th></th>\n",
       "      <th>level</th>\n",
       "      <th>EC</th>\n",
       "      <th>level_z_score</th>\n",
       "      <th>EC_z_score</th>\n",
       "    </tr>\n",
       "  </thead>\n",
       "  <tbody>\n",
       "    <tr>\n",
       "      <th>count</th>\n",
       "      <td>53545.000000</td>\n",
       "      <td>53545.000000</td>\n",
       "      <td>5.354500e+04</td>\n",
       "      <td>5.354500e+04</td>\n",
       "    </tr>\n",
       "    <tr>\n",
       "      <th>mean</th>\n",
       "      <td>44.457145</td>\n",
       "      <td>731.406779</td>\n",
       "      <td>-1.181349e-14</td>\n",
       "      <td>3.142339e-16</td>\n",
       "    </tr>\n",
       "    <tr>\n",
       "      <th>std</th>\n",
       "      <td>0.120359</td>\n",
       "      <td>13.811769</td>\n",
       "      <td>1.000000e+00</td>\n",
       "      <td>1.000000e+00</td>\n",
       "    </tr>\n",
       "    <tr>\n",
       "      <th>min</th>\n",
       "      <td>44.120000</td>\n",
       "      <td>693.000000</td>\n",
       "      <td>-2.801158e+00</td>\n",
       "      <td>-2.780729e+00</td>\n",
       "    </tr>\n",
       "    <tr>\n",
       "      <th>25%</th>\n",
       "      <td>44.370000</td>\n",
       "      <td>722.000000</td>\n",
       "      <td>-7.240391e-01</td>\n",
       "      <td>-6.810699e-01</td>\n",
       "    </tr>\n",
       "    <tr>\n",
       "      <th>50%</th>\n",
       "      <td>44.450000</td>\n",
       "      <td>730.000000</td>\n",
       "      <td>-5.936110e-02</td>\n",
       "      <td>-1.018537e-01</td>\n",
       "    </tr>\n",
       "    <tr>\n",
       "      <th>75%</th>\n",
       "      <td>44.520000</td>\n",
       "      <td>741.000000</td>\n",
       "      <td>5.222321e-01</td>\n",
       "      <td>6.945686e-01</td>\n",
       "    </tr>\n",
       "    <tr>\n",
       "      <th>max</th>\n",
       "      <td>44.790000</td>\n",
       "      <td>771.000000</td>\n",
       "      <td>2.765520e+00</td>\n",
       "      <td>2.866629e+00</td>\n",
       "    </tr>\n",
       "  </tbody>\n",
       "</table>\n",
       "</div>"
      ],
      "text/plain": [
       "              level            EC  level_z_score    EC_z_score\n",
       "count  53545.000000  53545.000000   5.354500e+04  5.354500e+04\n",
       "mean      44.457145    731.406779  -1.181349e-14  3.142339e-16\n",
       "std        0.120359     13.811769   1.000000e+00  1.000000e+00\n",
       "min       44.120000    693.000000  -2.801158e+00 -2.780729e+00\n",
       "25%       44.370000    722.000000  -7.240391e-01 -6.810699e-01\n",
       "50%       44.450000    730.000000  -5.936110e-02 -1.018537e-01\n",
       "75%       44.520000    741.000000   5.222321e-01  6.945686e-01\n",
       "max       44.790000    771.000000   2.765520e+00  2.866629e+00"
      ]
     },
     "execution_count": 107,
     "metadata": {},
     "output_type": "execute_result"
    }
   ],
   "source": [
    "df1.describe()"
   ]
  },
  {
   "cell_type": "code",
   "execution_count": 108,
   "id": "55bcf521-20a5-4a16-a961-9abdc3cb0a41",
   "metadata": {},
   "outputs": [
    {
     "data": {
      "image/png": "[encoded data removed]",
      "text/plain": [
       "<Figure size 800x500 with 4 Axes>"
      ]
     },
     "metadata": {},
     "output_type": "display_data"
    }
   ],
   "source": [
    "df1.hist(figsize= (8, 5)) \n",
    "plt.show()"
   ]
  },
  {
   "cell_type": "markdown",
   "id": "46b3c350-d72a-4e89-974e-1828ced792f7",
   "metadata": {},
   "source": [
    "표준화 후 데이터가 평균 0 을 중심으로 비슷한 범위에 분포 "
   ]
  },
  {
   "cell_type": "code",
   "execution_count": null,
   "id": "fcedfe2b-8f92-4325-9f2e-671eb2a10c31",
   "metadata": {},
   "outputs": [],
   "source": [
    "df2 = df.copy()\n",
    "df2_standard = (df2-df2.mean())/ df2.std()\n",
    "df2_standard.head(3)"
   ]
  },
  {
   "cell_type": "markdown",
   "id": "6d8d1449-84b7-4e31-98f5-139c1d4056bf",
   "metadata": {},
   "source": [
    "정규화에 대해서 한번 알아보자 "
   ]
  },
  {
   "cell_type": "code",
   "execution_count": 109,
   "id": "28865bce-a9bb-4a5a-87f3-7fd76e155f2a",
   "metadata": {},
   "outputs": [],
   "source": [
    "# 정규화는 데이터의 최댓값과 최솟값을 이용하여 0 에서 1 사이의 값으로 변환하는 전처리 과정이다. \n"
   ]
  },
  {
   "cell_type": "code",
   "execution_count": 110,
   "id": "f7cfa341-0217-479e-b905-149399a074dc",
   "metadata": {},
   "outputs": [
    {
     "data": {
      "text/html": [
       "<div>\n",
       "<style scoped>\n",
       "    .dataframe tbody tr th:only-of-type {\n",
       "        vertical-align: middle;\n",
       "    }\n",
       "\n",
       "    .dataframe tbody tr th {\n",
       "        vertical-align: top;\n",
       "    }\n",
       "\n",
       "    .dataframe thead th {\n",
       "        text-align: right;\n",
       "    }\n",
       "</style>\n",
       "<table border=\"1\" class=\"dataframe\">\n",
       "  <thead>\n",
       "    <tr style=\"text-align: right;\">\n",
       "      <th></th>\n",
       "      <th>level</th>\n",
       "      <th>EC</th>\n",
       "      <th>level_minmax</th>\n",
       "      <th>EC_minmax</th>\n",
       "    </tr>\n",
       "  </thead>\n",
       "  <tbody>\n",
       "    <tr>\n",
       "      <th>0</th>\n",
       "      <td>44.47</td>\n",
       "      <td>749</td>\n",
       "      <td>0.522388</td>\n",
       "      <td>0.717949</td>\n",
       "    </tr>\n",
       "    <tr>\n",
       "      <th>1</th>\n",
       "      <td>44.47</td>\n",
       "      <td>749</td>\n",
       "      <td>0.522388</td>\n",
       "      <td>0.717949</td>\n",
       "    </tr>\n",
       "    <tr>\n",
       "      <th>2</th>\n",
       "      <td>44.47</td>\n",
       "      <td>749</td>\n",
       "      <td>0.522388</td>\n",
       "      <td>0.717949</td>\n",
       "    </tr>\n",
       "    <tr>\n",
       "      <th>3</th>\n",
       "      <td>44.47</td>\n",
       "      <td>749</td>\n",
       "      <td>0.522388</td>\n",
       "      <td>0.717949</td>\n",
       "    </tr>\n",
       "    <tr>\n",
       "      <th>4</th>\n",
       "      <td>44.47</td>\n",
       "      <td>749</td>\n",
       "      <td>0.522388</td>\n",
       "      <td>0.717949</td>\n",
       "    </tr>\n",
       "    <tr>\n",
       "      <th>...</th>\n",
       "      <td>...</td>\n",
       "      <td>...</td>\n",
       "      <td>...</td>\n",
       "      <td>...</td>\n",
       "    </tr>\n",
       "    <tr>\n",
       "      <th>53540</th>\n",
       "      <td>44.49</td>\n",
       "      <td>725</td>\n",
       "      <td>0.552239</td>\n",
       "      <td>0.410256</td>\n",
       "    </tr>\n",
       "    <tr>\n",
       "      <th>53541</th>\n",
       "      <td>44.49</td>\n",
       "      <td>725</td>\n",
       "      <td>0.552239</td>\n",
       "      <td>0.410256</td>\n",
       "    </tr>\n",
       "    <tr>\n",
       "      <th>53542</th>\n",
       "      <td>44.49</td>\n",
       "      <td>725</td>\n",
       "      <td>0.552239</td>\n",
       "      <td>0.410256</td>\n",
       "    </tr>\n",
       "    <tr>\n",
       "      <th>53543</th>\n",
       "      <td>44.49</td>\n",
       "      <td>725</td>\n",
       "      <td>0.552239</td>\n",
       "      <td>0.410256</td>\n",
       "    </tr>\n",
       "    <tr>\n",
       "      <th>53544</th>\n",
       "      <td>44.49</td>\n",
       "      <td>725</td>\n",
       "      <td>0.552239</td>\n",
       "      <td>0.410256</td>\n",
       "    </tr>\n",
       "  </tbody>\n",
       "</table>\n",
       "<p>53545 rows × 4 columns</p>\n",
       "</div>"
      ],
      "text/plain": [
       "       level   EC  level_minmax  EC_minmax\n",
       "0      44.47  749      0.522388   0.717949\n",
       "1      44.47  749      0.522388   0.717949\n",
       "2      44.47  749      0.522388   0.717949\n",
       "3      44.47  749      0.522388   0.717949\n",
       "4      44.47  749      0.522388   0.717949\n",
       "...      ...  ...           ...        ...\n",
       "53540  44.49  725      0.552239   0.410256\n",
       "53541  44.49  725      0.552239   0.410256\n",
       "53542  44.49  725      0.552239   0.410256\n",
       "53543  44.49  725      0.552239   0.410256\n",
       "53544  44.49  725      0.552239   0.410256\n",
       "\n",
       "[53545 rows x 4 columns]"
      ]
     },
     "execution_count": 110,
     "metadata": {},
     "output_type": "execute_result"
    }
   ],
   "source": [
    "df3 = df.copy()\n",
    "\n",
    "df3['level_minmax'] = (df3['level'] - df3['level'].min())  / (df3['level'].max() \\\n",
    "            -df3['level'].min()) \n",
    "df3['EC_minmax'] = (df3['EC'] - df3['EC'].min()) / (df3['EC'].max() - df3['EC'].min())\n",
    "\n"
   ]
  },
  {
   "cell_type": "code",
   "execution_count": 111,
   "id": "1337513f-4eb9-46e6-9495-d241817d6fa8",
   "metadata": {},
   "outputs": [
    {
     "data": {
      "text/html": [
       "<div>\n",
       "<style scoped>\n",
       "    .dataframe tbody tr th:only-of-type {\n",
       "        vertical-align: middle;\n",
       "    }\n",
       "\n",
       "    .dataframe tbody tr th {\n",
       "        vertical-align: top;\n",
       "    }\n",
       "\n",
       "    .dataframe thead th {\n",
       "        text-align: right;\n",
       "    }\n",
       "</style>\n",
       "<table border=\"1\" class=\"dataframe\">\n",
       "  <thead>\n",
       "    <tr style=\"text-align: right;\">\n",
       "      <th></th>\n",
       "      <th>level</th>\n",
       "      <th>EC</th>\n",
       "      <th>level_minmax</th>\n",
       "      <th>EC_minmax</th>\n",
       "    </tr>\n",
       "  </thead>\n",
       "  <tbody>\n",
       "    <tr>\n",
       "      <th>count</th>\n",
       "      <td>53545.000000</td>\n",
       "      <td>53545.000000</td>\n",
       "      <td>53545.000000</td>\n",
       "      <td>53545.000000</td>\n",
       "    </tr>\n",
       "    <tr>\n",
       "      <th>mean</th>\n",
       "      <td>44.457145</td>\n",
       "      <td>731.406779</td>\n",
       "      <td>0.503201</td>\n",
       "      <td>0.492395</td>\n",
       "    </tr>\n",
       "    <tr>\n",
       "      <th>std</th>\n",
       "      <td>0.120359</td>\n",
       "      <td>13.811769</td>\n",
       "      <td>0.179640</td>\n",
       "      <td>0.177074</td>\n",
       "    </tr>\n",
       "    <tr>\n",
       "      <th>min</th>\n",
       "      <td>44.120000</td>\n",
       "      <td>693.000000</td>\n",
       "      <td>0.000000</td>\n",
       "      <td>0.000000</td>\n",
       "    </tr>\n",
       "    <tr>\n",
       "      <th>25%</th>\n",
       "      <td>44.370000</td>\n",
       "      <td>722.000000</td>\n",
       "      <td>0.373134</td>\n",
       "      <td>0.371795</td>\n",
       "    </tr>\n",
       "    <tr>\n",
       "      <th>50%</th>\n",
       "      <td>44.450000</td>\n",
       "      <td>730.000000</td>\n",
       "      <td>0.492537</td>\n",
       "      <td>0.474359</td>\n",
       "    </tr>\n",
       "    <tr>\n",
       "      <th>75%</th>\n",
       "      <td>44.520000</td>\n",
       "      <td>741.000000</td>\n",
       "      <td>0.597015</td>\n",
       "      <td>0.615385</td>\n",
       "    </tr>\n",
       "    <tr>\n",
       "      <th>max</th>\n",
       "      <td>44.790000</td>\n",
       "      <td>771.000000</td>\n",
       "      <td>1.000000</td>\n",
       "      <td>1.000000</td>\n",
       "    </tr>\n",
       "  </tbody>\n",
       "</table>\n",
       "</div>"
      ],
      "text/plain": [
       "              level            EC  level_minmax     EC_minmax\n",
       "count  53545.000000  53545.000000  53545.000000  53545.000000\n",
       "mean      44.457145    731.406779      0.503201      0.492395\n",
       "std        0.120359     13.811769      0.179640      0.177074\n",
       "min       44.120000    693.000000      0.000000      0.000000\n",
       "25%       44.370000    722.000000      0.373134      0.371795\n",
       "50%       44.450000    730.000000      0.492537      0.474359\n",
       "75%       44.520000    741.000000      0.597015      0.615385\n",
       "max       44.790000    771.000000      1.000000      1.000000"
      ]
     },
     "execution_count": 111,
     "metadata": {},
     "output_type": "execute_result"
    }
   ],
   "source": [
    "df3.describe()"
   ]
  },
  {
   "cell_type": "code",
   "execution_count": 112,
   "id": "3de992bc-9587-4996-b1af-bd1e38b20248",
   "metadata": {},
   "outputs": [
    {
     "data": {
      "image/png": "[encoded data removed]",
      "text/plain": [
       "<Figure size 800x600 with 4 Axes>"
      ]
     },
     "metadata": {},
     "output_type": "display_data"
    }
   ],
   "source": [
    "df3.hist(figsize=(8, 6))\n",
    "plt.show()"
   ]
  },
  {
   "cell_type": "markdown",
   "id": "ab1c59c4-81fc-4d10-b250-55fe4117921e",
   "metadata": {},
   "source": [
    "### 타이타닉 탑승자 데이터 전처리 "
   ]
  },
  {
   "cell_type": "code",
   "execution_count": 113,
   "id": "75266520-ffa4-4483-b088-9ce11e96b4b7",
   "metadata": {},
   "outputs": [
    {
     "data": {
      "text/plain": [
       "(891, 12)"
      ]
     },
     "execution_count": 113,
     "metadata": {},
     "output_type": "execute_result"
    }
   ],
   "source": [
    "import pandas as pd\n",
    "df = pd.read_csv('./titanic.csv')\n",
    "df.shape"
   ]
  },
  {
   "cell_type": "code",
   "execution_count": 114,
   "id": "a1d55bb9-750c-49d4-b2c6-bf763a6bbc57",
   "metadata": {},
   "outputs": [],
   "source": [
    "# 승객이 891명이고 열은 12개"
   ]
  },
  {
   "cell_type": "code",
   "execution_count": 115,
   "id": "02f46365-04c6-416e-a19d-be8311543b51",
   "metadata": {},
   "outputs": [
    {
     "data": {
      "text/plain": [
       "PassengerId      0\n",
       "Survived         0\n",
       "Pclass           0\n",
       "Name             0\n",
       "Sex              0\n",
       "Age            177\n",
       "SibSp            0\n",
       "Parch            0\n",
       "Ticket           0\n",
       "Fare             0\n",
       "Cabin          687\n",
       "Embarked         2\n",
       "dtype: int64"
      ]
     },
     "execution_count": 115,
     "metadata": {},
     "output_type": "execute_result"
    }
   ],
   "source": [
    "df.isnull().sum()\n",
    "# isnull()함수로 각 열의 결측치를 확인해본다"
   ]
  },
  {
   "cell_type": "code",
   "execution_count": 116,
   "id": "b637e317-fdea-415f-aceb-341fc02b7b42",
   "metadata": {},
   "outputs": [],
   "source": [
    "# 지금 12개의 컬럼(속성)중에 891명의승객중에 나이를 모르겠는 승객이 177명임 \n",
    "# 그리고 어느 선실에 들어갔는지 모르는 혹은 선실이 없는 승객(추측해본바) 687명임 \n",
    "# 이를 전처리 해야함 \n",
    "# 교수님이 볼땐 나이는.. 결측치를 행앞뒤로 하는건 아니라고 생각함. 그렇다면 평균..? "
   ]
  },
  {
   "cell_type": "code",
   "execution_count": 117,
   "id": "d6ce2d2b-ff20-4da8-a408-24743b4e0233",
   "metadata": {},
   "outputs": [],
   "source": [
    "# 그다음에 요금에 대해서 .."
   ]
  },
  {
   "cell_type": "code",
   "execution_count": null,
   "id": "0daa8ba0-3005-41ef-8406-27bf5f28e6c3",
   "metadata": {},
   "outputs": [],
   "source": [
    "# 요금에 이상치가 생겼다는 것은... \n",
    "# 요금이 책정되어 있는데, 그냥 부자라서 기분좋게 돈 주는 경우를 뜻함 "
   ]
  },
  {
   "cell_type": "code",
   "execution_count": 118,
   "id": "cc926cda-b256-4afb-85c8-9a71c9550276",
   "metadata": {},
   "outputs": [
    {
     "name": "stdout",
     "output_type": "stream",
     "text": [
      "하한값: -26.724 상한값: 65.6344\n"
     ]
    },
    {
     "data": {
      "text/plain": [
       "(0, 116)"
      ]
     },
     "execution_count": 118,
     "metadata": {},
     "output_type": "execute_result"
    }
   ],
   "source": [
    "q1 = df['Fare'].quantile(.25)\n",
    "q3 = df['Fare'].quantile(.75)\n",
    "IQR = q3 - q1 \n",
    "print('하한값:' , q1 - 1.5*IQR , \"상한값:\", q3 + 1.5*IQR)\n",
    "\n",
    "out1 = df[df['Fare'] < (q1 - 1.5*IQR)]\n",
    "out2 = df[df['Fare'] > (q3 + 1.5*IQR)]\n",
    "\n",
    "len(out1) , len(out2)"
   ]
  },
  {
   "cell_type": "code",
   "execution_count": null,
   "id": "ade18374-6692-4908-9041-b9d82ec0fb7e",
   "metadata": {},
   "outputs": [],
   "source": [
    "# 보니깐 상한값보다 요금을 더 낸 사람이 116명임!\n",
    "# 하한값보다 덜 낸 승객은 없다. "
   ]
  },
  {
   "cell_type": "code",
   "execution_count": 119,
   "id": "54399a7b-7434-4e9f-9d3b-bef172dc0733",
   "metadata": {},
   "outputs": [
    {
     "data": {
      "text/plain": [
       "46"
      ]
     },
     "execution_count": 119,
     "metadata": {},
     "output_type": "execute_result"
    }
   ],
   "source": [
    "sum(out2['Sex'] == 'male')"
   ]
  },
  {
   "cell_type": "code",
   "execution_count": 120,
   "id": "8bdd47dd-0a81-4908-9913-06685acc3377",
   "metadata": {},
   "outputs": [],
   "source": [
    "# 특별히 요금을 많이 낸 승객중에 남성이 46명임 \n",
    "# 그리고 116 - 46 = 70명이 여성이다. "
   ]
  },
  {
   "cell_type": "code",
   "execution_count": null,
   "id": "81cfd7cf-b478-4fe2-a006-d6da49f828b0",
   "metadata": {},
   "outputs": [],
   "source": []
  },
  {
   "cell_type": "code",
   "execution_count": null,
   "id": "c5ffe030-c11a-44fc-a7cb-e1ac2004b4ca",
   "metadata": {},
   "outputs": [],
   "source": []
  }
 ],
 "metadata": {
  "kernelspec": {
   "display_name": "Python 3 (ipykernel)",
   "language": "python",
   "name": "python3"
  },
  "language_info": {
   "codemirror_mode": {
    "name": "ipython",
    "version": 3
   },
   "file_extension": ".py",
   "mimetype": "text/x-python",
   "name": "python",
   "nbconvert_exporter": "python",
   "pygments_lexer": "ipython3",
   "version": "3.11.7"
  }
 },
 "nbformat": 4,
 "nbformat_minor": 5
}
