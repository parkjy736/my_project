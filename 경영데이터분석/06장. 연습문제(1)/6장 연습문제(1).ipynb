{
 "cells": [
  {
   "cell_type": "code",
   "execution_count": 4,
   "id": "417401c4-8840-44f0-a228-805cbe99d174",
   "metadata": {},
   "outputs": [
    {
     "name": "stdout",
     "output_type": "stream",
     "text": [
      "[[1 2 3]\n",
      " [4 5 6]\n",
      " [7 8 9]]\n",
      "[[1 2]\n",
      " [4 5]]\n",
      "[[5 6]\n",
      " [8 9]]\n"
     ]
    }
   ],
   "source": [
    "import numpy as np \n",
    "list1 = [[1,2,3], [4,5,6], [7,8,9]]\n",
    "a = np.array(list1)\n",
    "print(a)\n",
    "b= a[0:2, 0:2]\n",
    "print(b)\n",
    "c= a[1:, 1:]\n",
    "print(c)"
   ]
  },
  {
   "cell_type": "code",
   "execution_count": 5,
   "id": "7ee5d050-4284-4f3c-9b84-49a963c0bba4",
   "metadata": {},
   "outputs": [
    {
     "name": "stdout",
     "output_type": "stream",
     "text": [
      "(2, 2, 3)\n"
     ]
    }
   ],
   "source": [
    "arr= np.array([[[1,2,3], [4,5,6]], [[7,8,9],[10,11,12]]])\n",
    "print(arr.shape)"
   ]
  },
  {
   "cell_type": "code",
   "execution_count": 10,
   "id": "344c6e4f-3232-4f5e-bdaf-b4a8907fd90f",
   "metadata": {},
   "outputs": [
    {
     "name": "stdout",
     "output_type": "stream",
     "text": [
      "[[1 2 3]\n",
      " [4 5 6]]\n",
      "[1 2 3 4 5 6]\n"
     ]
    }
   ],
   "source": [
    "a = np.array([[1,2,3], [4,5,6]]) \n",
    "one_a = a.flatten()\n",
    "\n",
    "print(a)\n",
    "print(one_a)"
   ]
  },
  {
   "cell_type": "code",
   "execution_count": 18,
   "id": "4b3fc76c-7b43-4668-9fb8-ddc08aaabada",
   "metadata": {},
   "outputs": [
    {
     "name": "stdout",
     "output_type": "stream",
     "text": [
      "[[0 1]\n",
      " [2 3]\n",
      " [4 5]\n",
      " [6 7]]\n"
     ]
    }
   ],
   "source": [
    "a = np.arange(8) \n",
    "a.reshape(4,2)\n",
    "print(re_a)"
   ]
  },
  {
   "cell_type": "markdown",
   "id": "301b3e04-8b76-4a52-9c9f-69e2d69512be",
   "metadata": {},
   "source": [
    "6번문제"
   ]
  },
  {
   "cell_type": "code",
   "execution_count": 30,
   "id": "963e402a-f1c0-4107-85ef-370797684683",
   "metadata": {},
   "outputs": [
    {
     "data": {
      "text/html": [
       "<div>\n",
       "<style scoped>\n",
       "    .dataframe tbody tr th:only-of-type {\n",
       "        vertical-align: middle;\n",
       "    }\n",
       "\n",
       "    .dataframe tbody tr th {\n",
       "        vertical-align: top;\n",
       "    }\n",
       "\n",
       "    .dataframe thead th {\n",
       "        text-align: right;\n",
       "    }\n",
       "</style>\n",
       "<table border=\"1\" class=\"dataframe\">\n",
       "  <thead>\n",
       "    <tr style=\"text-align: right;\">\n",
       "      <th></th>\n",
       "      <th>이름</th>\n",
       "      <th>성별</th>\n",
       "      <th>나이</th>\n",
       "      <th>키</th>\n",
       "    </tr>\n",
       "  </thead>\n",
       "  <tbody>\n",
       "    <tr>\n",
       "      <th>0</th>\n",
       "      <td>허준호</td>\n",
       "      <td>남자</td>\n",
       "      <td>30</td>\n",
       "      <td>183</td>\n",
       "    </tr>\n",
       "    <tr>\n",
       "      <th>1</th>\n",
       "      <td>이가원</td>\n",
       "      <td>여자</td>\n",
       "      <td>24</td>\n",
       "      <td>162</td>\n",
       "    </tr>\n",
       "    <tr>\n",
       "      <th>2</th>\n",
       "      <td>배규민</td>\n",
       "      <td>남자</td>\n",
       "      <td>23</td>\n",
       "      <td>179</td>\n",
       "    </tr>\n",
       "    <tr>\n",
       "      <th>3</th>\n",
       "      <td>고고림</td>\n",
       "      <td>남자</td>\n",
       "      <td>21</td>\n",
       "      <td>182</td>\n",
       "    </tr>\n",
       "    <tr>\n",
       "      <th>4</th>\n",
       "      <td>이새봄</td>\n",
       "      <td>여자</td>\n",
       "      <td>28</td>\n",
       "      <td>160</td>\n",
       "    </tr>\n",
       "    <tr>\n",
       "      <th>5</th>\n",
       "      <td>이보람</td>\n",
       "      <td>여자</td>\n",
       "      <td>26</td>\n",
       "      <td>163</td>\n",
       "    </tr>\n",
       "    <tr>\n",
       "      <th>6</th>\n",
       "      <td>이루리</td>\n",
       "      <td>여자</td>\n",
       "      <td>24</td>\n",
       "      <td>157</td>\n",
       "    </tr>\n",
       "    <tr>\n",
       "      <th>7</th>\n",
       "      <td>오다현</td>\n",
       "      <td>여자</td>\n",
       "      <td>24</td>\n",
       "      <td>172</td>\n",
       "    </tr>\n",
       "  </tbody>\n",
       "</table>\n",
       "</div>"
      ],
      "text/plain": [
       "    이름  성별  나이    키\n",
       "0  허준호  남자  30  183\n",
       "1  이가원  여자  24  162\n",
       "2  배규민  남자  23  179\n",
       "3  고고림  남자  21  182\n",
       "4  이새봄  여자  28  160\n",
       "5  이보람  여자  26  163\n",
       "6  이루리  여자  24  157\n",
       "7  오다현  여자  24  172"
      ]
     },
     "execution_count": 30,
     "metadata": {},
     "output_type": "execute_result"
    }
   ],
   "source": [
    "import pandas as pd \n",
    "\n",
    "df = pd.DataFrame( \n",
    "    {\"이름\" :['허준호', '이가원', '배규민', '고고림', '이새봄', '이보람', '이루리', '오다현'], \n",
    "     \"성별\" :['남자', '여자', '남자', '남자', '여자', '여자', '여자', '여자'], \n",
    "     \"나이\" : [30, 24, 23, 21, 28, 26, 24, 24], \n",
    "     \"키\" : [ 183, 162, 179, 182, 160, 163, 157, 172] })\n",
    "df"
   ]
  },
  {
   "cell_type": "code",
   "execution_count": 27,
   "id": "a8f20ab2-82bf-452d-9db7-26676e067049",
   "metadata": {},
   "outputs": [
    {
     "data": {
      "text/html": [
       "<div>\n",
       "<style scoped>\n",
       "    .dataframe tbody tr th:only-of-type {\n",
       "        vertical-align: middle;\n",
       "    }\n",
       "\n",
       "    .dataframe tbody tr th {\n",
       "        vertical-align: top;\n",
       "    }\n",
       "\n",
       "    .dataframe thead th {\n",
       "        text-align: right;\n",
       "    }\n",
       "</style>\n",
       "<table border=\"1\" class=\"dataframe\">\n",
       "  <thead>\n",
       "    <tr style=\"text-align: right;\">\n",
       "      <th></th>\n",
       "      <th>이름</th>\n",
       "      <th>성별</th>\n",
       "      <th>나이</th>\n",
       "      <th>키</th>\n",
       "    </tr>\n",
       "  </thead>\n",
       "  <tbody>\n",
       "    <tr>\n",
       "      <th>4</th>\n",
       "      <td>이새봄</td>\n",
       "      <td>여자</td>\n",
       "      <td>28</td>\n",
       "      <td>160</td>\n",
       "    </tr>\n",
       "    <tr>\n",
       "      <th>5</th>\n",
       "      <td>이보람</td>\n",
       "      <td>여자</td>\n",
       "      <td>26</td>\n",
       "      <td>163</td>\n",
       "    </tr>\n",
       "  </tbody>\n",
       "</table>\n",
       "</div>"
      ],
      "text/plain": [
       "    이름  성별  나이    키\n",
       "4  이새봄  여자  28  160\n",
       "5  이보람  여자  26  163"
      ]
     },
     "execution_count": 27,
     "metadata": {},
     "output_type": "execute_result"
    }
   ],
   "source": [
    "condition_df = df[(df['나이'] >= 25) & (df['성별'] == '여자')]\n",
    "condition_df"
   ]
  },
  {
   "cell_type": "code",
   "execution_count": 31,
   "id": "b1690fbc-a73f-42a9-85e4-4d9bc9fd5155",
   "metadata": {},
   "outputs": [
    {
     "data": {
      "text/html": [
       "<div>\n",
       "<style scoped>\n",
       "    .dataframe tbody tr th:only-of-type {\n",
       "        vertical-align: middle;\n",
       "    }\n",
       "\n",
       "    .dataframe tbody tr th {\n",
       "        vertical-align: top;\n",
       "    }\n",
       "\n",
       "    .dataframe thead th {\n",
       "        text-align: right;\n",
       "    }\n",
       "</style>\n",
       "<table border=\"1\" class=\"dataframe\">\n",
       "  <thead>\n",
       "    <tr style=\"text-align: right;\">\n",
       "      <th></th>\n",
       "      <th>나이</th>\n",
       "      <th>키</th>\n",
       "    </tr>\n",
       "  </thead>\n",
       "  <tbody>\n",
       "    <tr>\n",
       "      <th>count</th>\n",
       "      <td>8.000000</td>\n",
       "      <td>8.000000</td>\n",
       "    </tr>\n",
       "    <tr>\n",
       "      <th>mean</th>\n",
       "      <td>25.000000</td>\n",
       "      <td>169.750000</td>\n",
       "    </tr>\n",
       "    <tr>\n",
       "      <th>std</th>\n",
       "      <td>2.878492</td>\n",
       "      <td>10.552589</td>\n",
       "    </tr>\n",
       "    <tr>\n",
       "      <th>min</th>\n",
       "      <td>21.000000</td>\n",
       "      <td>157.000000</td>\n",
       "    </tr>\n",
       "    <tr>\n",
       "      <th>25%</th>\n",
       "      <td>23.750000</td>\n",
       "      <td>161.500000</td>\n",
       "    </tr>\n",
       "    <tr>\n",
       "      <th>50%</th>\n",
       "      <td>24.000000</td>\n",
       "      <td>167.500000</td>\n",
       "    </tr>\n",
       "    <tr>\n",
       "      <th>75%</th>\n",
       "      <td>26.500000</td>\n",
       "      <td>179.750000</td>\n",
       "    </tr>\n",
       "    <tr>\n",
       "      <th>max</th>\n",
       "      <td>30.000000</td>\n",
       "      <td>183.000000</td>\n",
       "    </tr>\n",
       "  </tbody>\n",
       "</table>\n",
       "</div>"
      ],
      "text/plain": [
       "              나이           키\n",
       "count   8.000000    8.000000\n",
       "mean   25.000000  169.750000\n",
       "std     2.878492   10.552589\n",
       "min    21.000000  157.000000\n",
       "25%    23.750000  161.500000\n",
       "50%    24.000000  167.500000\n",
       "75%    26.500000  179.750000\n",
       "max    30.000000  183.000000"
      ]
     },
     "execution_count": 31,
     "metadata": {},
     "output_type": "execute_result"
    }
   ],
   "source": [
    "df.describe()"
   ]
  },
  {
   "cell_type": "code",
   "execution_count": 34,
   "id": "23eddadc-aa5f-4abe-9fa0-8551bc34f4e6",
   "metadata": {},
   "outputs": [
    {
     "data": {
      "text/html": [
       "<div>\n",
       "<style scoped>\n",
       "    .dataframe tbody tr th:only-of-type {\n",
       "        vertical-align: middle;\n",
       "    }\n",
       "\n",
       "    .dataframe tbody tr th {\n",
       "        vertical-align: top;\n",
       "    }\n",
       "\n",
       "    .dataframe thead th {\n",
       "        text-align: right;\n",
       "    }\n",
       "</style>\n",
       "<table border=\"1\" class=\"dataframe\">\n",
       "  <thead>\n",
       "    <tr style=\"text-align: right;\">\n",
       "      <th></th>\n",
       "      <th>나이</th>\n",
       "      <th>키</th>\n",
       "    </tr>\n",
       "  </thead>\n",
       "  <tbody>\n",
       "    <tr>\n",
       "      <th>count</th>\n",
       "      <td>8.000000</td>\n",
       "      <td>8.000000</td>\n",
       "    </tr>\n",
       "    <tr>\n",
       "      <th>mean</th>\n",
       "      <td>25.000000</td>\n",
       "      <td>169.750000</td>\n",
       "    </tr>\n",
       "    <tr>\n",
       "      <th>std</th>\n",
       "      <td>2.878492</td>\n",
       "      <td>10.552589</td>\n",
       "    </tr>\n",
       "    <tr>\n",
       "      <th>min</th>\n",
       "      <td>21.000000</td>\n",
       "      <td>157.000000</td>\n",
       "    </tr>\n",
       "    <tr>\n",
       "      <th>25%</th>\n",
       "      <td>23.750000</td>\n",
       "      <td>161.500000</td>\n",
       "    </tr>\n",
       "    <tr>\n",
       "      <th>50%</th>\n",
       "      <td>24.000000</td>\n",
       "      <td>167.500000</td>\n",
       "    </tr>\n",
       "    <tr>\n",
       "      <th>75%</th>\n",
       "      <td>26.500000</td>\n",
       "      <td>179.750000</td>\n",
       "    </tr>\n",
       "    <tr>\n",
       "      <th>max</th>\n",
       "      <td>30.000000</td>\n",
       "      <td>183.000000</td>\n",
       "    </tr>\n",
       "  </tbody>\n",
       "</table>\n",
       "</div>"
      ],
      "text/plain": [
       "              나이           키\n",
       "count   8.000000    8.000000\n",
       "mean   25.000000  169.750000\n",
       "std     2.878492   10.552589\n",
       "min    21.000000  157.000000\n",
       "25%    23.750000  161.500000\n",
       "50%    24.000000  167.500000\n",
       "75%    26.500000  179.750000\n",
       "max    30.000000  183.000000"
      ]
     },
     "execution_count": 34,
     "metadata": {},
     "output_type": "execute_result"
    }
   ],
   "source": [
    "df.describe()"
   ]
  },
  {
   "cell_type": "code",
   "execution_count": 35,
   "id": "cddd1994-632c-4bae-ae44-91204f058414",
   "metadata": {},
   "outputs": [
    {
     "data": {
      "text/html": [
       "<div>\n",
       "<style scoped>\n",
       "    .dataframe tbody tr th:only-of-type {\n",
       "        vertical-align: middle;\n",
       "    }\n",
       "\n",
       "    .dataframe tbody tr th {\n",
       "        vertical-align: top;\n",
       "    }\n",
       "\n",
       "    .dataframe thead th {\n",
       "        text-align: right;\n",
       "    }\n",
       "</style>\n",
       "<table border=\"1\" class=\"dataframe\">\n",
       "  <thead>\n",
       "    <tr style=\"text-align: right;\">\n",
       "      <th></th>\n",
       "      <th>이름</th>\n",
       "      <th>성별</th>\n",
       "      <th>나이</th>\n",
       "      <th>키</th>\n",
       "    </tr>\n",
       "  </thead>\n",
       "  <tbody>\n",
       "    <tr>\n",
       "      <th>0</th>\n",
       "      <td>허준호</td>\n",
       "      <td>남자</td>\n",
       "      <td>30</td>\n",
       "      <td>183</td>\n",
       "    </tr>\n",
       "    <tr>\n",
       "      <th>1</th>\n",
       "      <td>이가원</td>\n",
       "      <td>여자</td>\n",
       "      <td>24</td>\n",
       "      <td>162</td>\n",
       "    </tr>\n",
       "    <tr>\n",
       "      <th>2</th>\n",
       "      <td>배규민</td>\n",
       "      <td>남자</td>\n",
       "      <td>23</td>\n",
       "      <td>179</td>\n",
       "    </tr>\n",
       "    <tr>\n",
       "      <th>3</th>\n",
       "      <td>고고림</td>\n",
       "      <td>남자</td>\n",
       "      <td>21</td>\n",
       "      <td>182</td>\n",
       "    </tr>\n",
       "    <tr>\n",
       "      <th>4</th>\n",
       "      <td>이새봄</td>\n",
       "      <td>여자</td>\n",
       "      <td>28</td>\n",
       "      <td>160</td>\n",
       "    </tr>\n",
       "    <tr>\n",
       "      <th>5</th>\n",
       "      <td>이보람</td>\n",
       "      <td>여자</td>\n",
       "      <td>26</td>\n",
       "      <td>163</td>\n",
       "    </tr>\n",
       "    <tr>\n",
       "      <th>6</th>\n",
       "      <td>이루리</td>\n",
       "      <td>여자</td>\n",
       "      <td>24</td>\n",
       "      <td>157</td>\n",
       "    </tr>\n",
       "    <tr>\n",
       "      <th>7</th>\n",
       "      <td>오다현</td>\n",
       "      <td>여자</td>\n",
       "      <td>24</td>\n",
       "      <td>172</td>\n",
       "    </tr>\n",
       "  </tbody>\n",
       "</table>\n",
       "</div>"
      ],
      "text/plain": [
       "    이름  성별  나이    키\n",
       "0  허준호  남자  30  183\n",
       "1  이가원  여자  24  162\n",
       "2  배규민  남자  23  179\n",
       "3  고고림  남자  21  182\n",
       "4  이새봄  여자  28  160\n",
       "5  이보람  여자  26  163\n",
       "6  이루리  여자  24  157\n",
       "7  오다현  여자  24  172"
      ]
     },
     "execution_count": 35,
     "metadata": {},
     "output_type": "execute_result"
    }
   ],
   "source": [
    "list1 = list([['허준호','남자','30','183'],\n",
    "['이가원','여자','24','162'],\n",
    "['배규민','남자','23','179'],\n",
    "['고고림','남자','21','182'],\n",
    "['이새봄','여자','28','160'],\n",
    "['이보람','여자','26','163'],\n",
    "['이루리','여자','24','157'],\n",
    "['오다현','여자','24','172']])\n",
    "col_names = ['이름','성별','나이','키']\n",
    "df = pd.DataFrame(list1, columns=col_names)\n",
    "df\n",
    "# 자세히보면, 모든값이 앞과 다르게 문자열(object) 형태로 되어있음을 알수있다."
   ]
  },
  {
   "cell_type": "code",
   "execution_count": 36,
   "id": "6e0aa1a8-365d-424e-bdea-22793dace87c",
   "metadata": {},
   "outputs": [
    {
     "data": {
      "text/html": [
       "<div>\n",
       "<style scoped>\n",
       "    .dataframe tbody tr th:only-of-type {\n",
       "        vertical-align: middle;\n",
       "    }\n",
       "\n",
       "    .dataframe tbody tr th {\n",
       "        vertical-align: top;\n",
       "    }\n",
       "\n",
       "    .dataframe thead th {\n",
       "        text-align: right;\n",
       "    }\n",
       "</style>\n",
       "<table border=\"1\" class=\"dataframe\">\n",
       "  <thead>\n",
       "    <tr style=\"text-align: right;\">\n",
       "      <th></th>\n",
       "      <th>이름</th>\n",
       "      <th>성별</th>\n",
       "      <th>나이</th>\n",
       "      <th>키</th>\n",
       "    </tr>\n",
       "  </thead>\n",
       "  <tbody>\n",
       "    <tr>\n",
       "      <th>count</th>\n",
       "      <td>8</td>\n",
       "      <td>8</td>\n",
       "      <td>8</td>\n",
       "      <td>8</td>\n",
       "    </tr>\n",
       "    <tr>\n",
       "      <th>unique</th>\n",
       "      <td>8</td>\n",
       "      <td>2</td>\n",
       "      <td>6</td>\n",
       "      <td>8</td>\n",
       "    </tr>\n",
       "    <tr>\n",
       "      <th>top</th>\n",
       "      <td>허준호</td>\n",
       "      <td>여자</td>\n",
       "      <td>24</td>\n",
       "      <td>183</td>\n",
       "    </tr>\n",
       "    <tr>\n",
       "      <th>freq</th>\n",
       "      <td>1</td>\n",
       "      <td>5</td>\n",
       "      <td>3</td>\n",
       "      <td>1</td>\n",
       "    </tr>\n",
       "  </tbody>\n",
       "</table>\n",
       "</div>"
      ],
      "text/plain": [
       "         이름  성별  나이    키\n",
       "count     8   8   8    8\n",
       "unique    8   2   6    8\n",
       "top     허준호  여자  24  183\n",
       "freq      1   5   3    1"
      ]
     },
     "execution_count": 36,
     "metadata": {},
     "output_type": "execute_result"
    }
   ],
   "source": [
    "df.describe()"
   ]
  },
  {
   "cell_type": "code",
   "execution_count": 37,
   "id": "6968040a-fe2a-4734-8d78-68afc86c06d4",
   "metadata": {},
   "outputs": [
    {
     "data": {
      "text/html": [
       "<div>\n",
       "<style scoped>\n",
       "    .dataframe tbody tr th:only-of-type {\n",
       "        vertical-align: middle;\n",
       "    }\n",
       "\n",
       "    .dataframe tbody tr th {\n",
       "        vertical-align: top;\n",
       "    }\n",
       "\n",
       "    .dataframe thead th {\n",
       "        text-align: right;\n",
       "    }\n",
       "</style>\n",
       "<table border=\"1\" class=\"dataframe\">\n",
       "  <thead>\n",
       "    <tr style=\"text-align: right;\">\n",
       "      <th></th>\n",
       "      <th>성별</th>\n",
       "      <th>나이</th>\n",
       "      <th>키</th>\n",
       "    </tr>\n",
       "    <tr>\n",
       "      <th>이름</th>\n",
       "      <th></th>\n",
       "      <th></th>\n",
       "      <th></th>\n",
       "    </tr>\n",
       "  </thead>\n",
       "  <tbody>\n",
       "    <tr>\n",
       "      <th>허준호</th>\n",
       "      <td>남자</td>\n",
       "      <td>30</td>\n",
       "      <td>183</td>\n",
       "    </tr>\n",
       "    <tr>\n",
       "      <th>이가원</th>\n",
       "      <td>여자</td>\n",
       "      <td>24</td>\n",
       "      <td>162</td>\n",
       "    </tr>\n",
       "    <tr>\n",
       "      <th>배규민</th>\n",
       "      <td>남자</td>\n",
       "      <td>23</td>\n",
       "      <td>179</td>\n",
       "    </tr>\n",
       "    <tr>\n",
       "      <th>고고림</th>\n",
       "      <td>남자</td>\n",
       "      <td>21</td>\n",
       "      <td>182</td>\n",
       "    </tr>\n",
       "    <tr>\n",
       "      <th>이새봄</th>\n",
       "      <td>여자</td>\n",
       "      <td>28</td>\n",
       "      <td>160</td>\n",
       "    </tr>\n",
       "    <tr>\n",
       "      <th>이보람</th>\n",
       "      <td>여자</td>\n",
       "      <td>26</td>\n",
       "      <td>163</td>\n",
       "    </tr>\n",
       "    <tr>\n",
       "      <th>이루리</th>\n",
       "      <td>여자</td>\n",
       "      <td>24</td>\n",
       "      <td>157</td>\n",
       "    </tr>\n",
       "    <tr>\n",
       "      <th>오다현</th>\n",
       "      <td>여자</td>\n",
       "      <td>24</td>\n",
       "      <td>172</td>\n",
       "    </tr>\n",
       "  </tbody>\n",
       "</table>\n",
       "</div>"
      ],
      "text/plain": [
       "     성별  나이    키\n",
       "이름              \n",
       "허준호  남자  30  183\n",
       "이가원  여자  24  162\n",
       "배규민  남자  23  179\n",
       "고고림  남자  21  182\n",
       "이새봄  여자  28  160\n",
       "이보람  여자  26  163\n",
       "이루리  여자  24  157\n",
       "오다현  여자  24  172"
      ]
     },
     "execution_count": 37,
     "metadata": {},
     "output_type": "execute_result"
    }
   ],
   "source": [
    "df.set_index('이름', inplace = True)\n",
    "#이름 컬럼을 행 인덱스로 설정\n",
    "df"
   ]
  },
  {
   "cell_type": "markdown",
   "id": "82eb0129-2131-452e-be2c-9fef4d7155fa",
   "metadata": {},
   "source": [
    "9번문제"
   ]
  },
  {
   "cell_type": "code",
   "execution_count": 39,
   "id": "50007fd0-40a2-4d52-ab48-40f043dcc6b5",
   "metadata": {},
   "outputs": [
    {
     "name": "stdout",
     "output_type": "stream",
     "text": [
      "[[False  True]\n",
      " [False  True]]\n",
      "짝수\n",
      " [2 4]\n",
      "홀수\n",
      " [1 3]\n"
     ]
    }
   ],
   "source": [
    "list1 = [[1,2], [3,4]]\n",
    "arr = np.array(list1)\n",
    "bool_index = (arr%2 ==0)\n",
    "print(bool_index)\n",
    "print('짝수\\n', arr[bool_index])\n",
    "res = arr[~bool_index]\n",
    "print('홀수\\n', res)"
   ]
  },
  {
   "cell_type": "markdown",
   "id": "44f1876c-ba4c-4853-9db8-f6c5a8db968a",
   "metadata": {},
   "source": [
    "10번문제"
   ]
  },
  {
   "cell_type": "code",
   "execution_count": 43,
   "id": "7cc09d10-b9c1-47dd-b53a-53d8ad8db960",
   "metadata": {},
   "outputs": [
    {
     "name": "stdout",
     "output_type": "stream",
     "text": [
      "arr1 \n",
      " [[1 2 3 4]\n",
      " [5 6 7 8]]\n",
      "arr2 \n",
      " [[1 2 3 4]\n",
      " [5 6 7 8]]\n",
      "====================\n",
      "변경 후 -> arr1 \n",
      " [[10  2  3  4]\n",
      " [ 5  6  7  8]]\n",
      "변경 후 -> arr2 \n",
      " [[10  2  3  4]\n",
      " [ 5  6  7  8]]\n"
     ]
    }
   ],
   "source": [
    "# 2행 4열 넘파이 배열 \n",
    "\n",
    "arr1 = np.array([[1,2,3,4], [5,6,7,8]])\n",
    "\n",
    "#배열 복사하기 \n",
    "arr2 = arr1 \n",
    "print('arr1', '\\n', arr1)\n",
    "print('arr2', '\\n', arr2)\n",
    "arr1[0,0] = 10 \n",
    "print('='*20) # 줄 선을 그냥 표시\n",
    "print('변경 후 -> arr1', '\\n', arr1)\n",
    "print('변경 후 -> arr2', '\\n', arr2) \n"
   ]
  },
  {
   "cell_type": "markdown",
   "id": "8c9c34ba-dfee-427a-a187-8c9b33888da0",
   "metadata": {},
   "source": [
    "위의 결과를 보니 둘다 같이 변한다.  \n",
    "arr2 = arr1은 arr2를 복제한것이 아니라, arr2라는 변수에 arr1라는  \n",
    "변수를 담은 것이다.   \n",
    "따라서 arr1이 바뀌면, arr2도 역시 바뀌게 된다.   \n",
    "이를 수정하기 위해선  "
   ]
  },
  {
   "cell_type": "code",
   "execution_count": 44,
   "id": "dad6a282-6400-4ce8-a942-892583d42ec3",
   "metadata": {},
   "outputs": [
    {
     "name": "stdout",
     "output_type": "stream",
     "text": [
      "arr1 \n",
      " [[1 2 3 4]\n",
      " [5 6 7 8]]\n",
      "arr2 \n",
      " [[1 2 3 4]\n",
      " [5 6 7 8]]\n",
      "====================\n",
      "변경 후 -> arr1 \n",
      " [[10  2  3  4]\n",
      " [ 5  6  7  8]]\n",
      "변경 후 -> arr2 \n",
      " [[1 2 3 4]\n",
      " [5 6 7 8]]\n"
     ]
    }
   ],
   "source": [
    "# 2행 4열 넘파이 배열 \n",
    "\n",
    "arr1 = np.array([[1,2,3,4], [5,6,7,8]])\n",
    "\n",
    "#배열 복사하기 \n",
    "arr2 = np.array([[1,2,3,4], [5,6,7,8]])\n",
    "print('arr1', '\\n', arr1)\n",
    "print('arr2', '\\n', arr2)\n",
    "arr1[0,0] = 10 \n",
    "print('='*20) # 줄 선을 그냥 표시\n",
    "print('변경 후 -> arr1', '\\n', arr1)\n",
    "print('변경 후 -> arr2', '\\n', arr2) \n"
   ]
  },
  {
   "cell_type": "code",
   "execution_count": 45,
   "id": "d4ffe784-dfb4-4371-9534-2ceaf49241a8",
   "metadata": {},
   "outputs": [
    {
     "name": "stdout",
     "output_type": "stream",
     "text": [
      "arr1 \n",
      " [[1 2 3 4]\n",
      " [5 6 7 8]]\n",
      "arr2 \n",
      " [[1 2 3 4]\n",
      " [5 6 7 8]]\n",
      "====================\n",
      "변경 후 -> arr1 \n",
      " [[10  2  3  4]\n",
      " [ 5  6  7  8]]\n",
      "변경 후 -> arr2 \n",
      " [[1 2 3 4]\n",
      " [5 6 7 8]]\n"
     ]
    }
   ],
   "source": [
    "arr1 = np.array([[1,2,3,4], [5,6,7,8]])\n",
    "\n",
    "#배열 복사하기 \n",
    "arr2 = arr1.copy() \n",
    "print('arr1', '\\n', arr1)\n",
    "print('arr2', '\\n', arr2)\n",
    "arr1[0,0] = 10 \n",
    "print('='*20) # 줄 선을 그냥 표시\n",
    "print('변경 후 -> arr1', '\\n', arr1)\n",
    "print('변경 후 -> arr2', '\\n', arr2) "
   ]
  }
 ],
 "metadata": {
  "kernelspec": {
   "display_name": "Python 3 (ipykernel)",
   "language": "python",
   "name": "python3"
  },
  "language_info": {
   "codemirror_mode": {
    "name": "ipython",
    "version": 3
   },
   "file_extension": ".py",
   "mimetype": "text/x-python",
   "name": "python",
   "nbconvert_exporter": "python",
   "pygments_lexer": "ipython3",
   "version": "3.11.7"
  }
 },
 "nbformat": 4,
 "nbformat_minor": 5
}
