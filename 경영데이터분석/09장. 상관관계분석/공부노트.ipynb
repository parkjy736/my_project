{
 "cells": [
  {
   "cell_type": "code",
   "execution_count": 1,
   "id": "e1c5d85d-4587-4fea-9c35-4781975f57ec",
   "metadata": {},
   "outputs": [
    {
     "name": "stdout",
     "output_type": "stream",
     "text": [
      "              engListening  engScore\n",
      "engListening           1.0       1.0\n",
      "engScore               1.0       1.0\n"
     ]
    }
   ],
   "source": [
    "#피어슨 상관분석 \n",
    "import pandas as pd\n",
    "\n",
    "#일단 리스트에 데이터 삽입하자 \n",
    "engListening = [30, 60, 90]\n",
    "engScore = [70, 80, 90]\n",
    "\n",
    "#리스트를 데이터프레임으로변환핮자 \n",
    "data = {'engListening' : engListening, 'engScore':engScore}\n",
    "df = pd.DataFrame(data)\n",
    "\n",
    "#상관분석 수행하기 \n",
    "coef = df.corr(method = 'pearson')\n",
    "print(coef)"
   ]
  },
  {
   "cell_type": "code",
   "execution_count": 3,
   "id": "b68e07d0-46ae-443e-a7b0-83036c0ea86d",
   "metadata": {},
   "outputs": [],
   "source": [
    "import pandas as pd\n",
    "import matplotlib.pyplot as plt\n",
    "\n",
    "realEstate = [83, 83, 83.5, 83.8, 83.9, 83.7, 84.3, 84.6, 85.2, 85.7, 85.7, 85.7, 86.3\n",
    "               , 86.8, 87.4, 87.4, 87.4, 87.4, 87.6, 88.2, 88.8, 89.4, 89.7, 89.9, 90.5\n",
    "               , 91.1, 92, 92.7, 93.3, 93.8, 94.7, 95.4, 96, 96.4, 96.4, 95.8, 95.7\n",
    "               , 95.8, 95.7, 95.7, 95.7, 96, 96.6, 97.2, 98.1, 98.8, 98.9, 98.6, 98.3\n",
    "               , 98.5, 98.7, 98.6, 98.9, 99.4, 100.1, 100.2, 100.3, 100.3, 100, 99.6\n",
    "               , 99.8, 100.1, 100.2, 100.2, 99.9, 99.7, 99.6, 100.8, 102.2, 102.4\n",
    "               , 101.6, 100.8, 100.3, 99.9, 99.2, 99, 98.8, 99.1, 99.6, 99.9, 100.3\n",
    "               , 100.8, 101.7, 102.7, 103.4, 104.7, 105.5, 105.5, 106.3, 108.3, 110.7\n",
    "               , 112, 112.9, 114.4, 117, 119.8, 122.9, 125.1, 126.7, 128.3, 130.5\n",
    "               , 133.4, 136.5, 139.7, 142.3, 143.8, 143, 141.6, 140.7, 140.6, 141.1\n",
    "               , 141.8, 140.5, 139.8, 136.1, 133.4, 130.6, 126.2, 121.1]\n",
    "interestRate = [2.75, 2.75, 2.75, 2.75, 2.5, 2.5, 2.5, 2.5, 2.5, 2.5, 2.5, 2.5, 2.5\n",
    "               , 2.5, 2.5, 2.5, 2.5, 2.5, 2.5, 2.25, 2.25, 2, 2, 2, 2, 2, 1.75, 1.75\n",
    "               , 1.75, 1.5, 1.5, 1.5, 1.5, 1.5, 1.5, 1.5, 1.5, 1.5, 1.5, 1.5, 1.5, 1.25\n",
    "               , 1.25, 1.25, 1.25, 1.25, 1.25, 1.25, 1.25, 1.25, 1.25, 1.25, 1.25, 1.25\n",
    "               , 1.25, 1.25, 1.25, 1.25, 1.5, 1.5, 1.5, 1.5, 1.5, 1.5, 1.5, 1.5, 1.5\n",
    "               , 1.5, 1.5, 1.5, 1.75, 1.75, 1.75, 1.75, 1.75, 1.75, 1.75, 1.75, 1.5\n",
    "               , 1.5, 1.5, 1.25, 1.25, 1.25, 1.25, 1.25, 0.75, 0.75, 0.5, 0.5, 0.5\n",
    "               , 0.5, 0.5, 0.5, 0.5, 0.5, 0.5, 0.5, 0.5, 0.5, 0.5, 0.5, 0.5\n",
    "               , 0.75, 0.75, 0.75, 1, 1, 1.25, 1.25, 1.25, 1.5, 1.75, 1.75, 2.25, 2.5, 2.5\n",
    "               , 3, 3.25]\n",
    "\n"
   ]
  },
  {
   "cell_type": "code",
   "execution_count": 5,
   "id": "f5aa6da2-3706-4dc3-9d5e-53912275c00e",
   "metadata": {},
   "outputs": [
    {
     "data": {
      "image/png": "[encoded data removed]",
      "text/plain": [
       "<Figure size 640x480 with 1 Axes>"
      ]
     },
     "metadata": {},
     "output_type": "display_data"
    }
   ],
   "source": [
    "data = {'부동산' : realEstate, '금리' : interestRate}\n",
    "\n",
    "plt.scatter(data['부동산'], data['금리'])\n",
    "plt.show()"
   ]
  },
  {
   "cell_type": "code",
   "execution_count": 6,
   "id": "ad73f56e-4cac-4f44-9d03-0c1ec6f6145c",
   "metadata": {},
   "outputs": [
    {
     "name": "stdout",
     "output_type": "stream",
     "text": [
      "          부동산        금리\n",
      "부동산  1.000000 -0.497677\n",
      "금리  -0.497677  1.000000\n"
     ]
    }
   ],
   "source": [
    "df = pd.DataFrame(data)\n",
    "coef = df.corr(method= 'pearson')\n",
    "print(coef)"
   ]
  },
  {
   "cell_type": "markdown",
   "id": "d077d416-3e4d-4faa-9600-68b846a312b2",
   "metadata": {},
   "source": [
    "부동산 상승기 데이터만 을 가지고 다시 분석을 진행 "
   ]
  },
  {
   "cell_type": "code",
   "execution_count": 7,
   "id": "d51900c7-c058-421d-9cbd-408ac4f223ab",
   "metadata": {},
   "outputs": [],
   "source": [
    "orignialData = {'부동산':realEstate, '금리':interestRate}"
   ]
  },
  {
   "cell_type": "code",
   "execution_count": 9,
   "id": "6dd972ac-21e9-4cce-b339-aab9e4944a21",
   "metadata": {},
   "outputs": [
    {
     "data": {
      "text/plain": [
       "dict_items([('부동산', [83, 83, 83.5, 83.8, 83.9, 83.7, 84.3, 84.6, 85.2, 85.7, 85.7, 85.7, 86.3, 86.8, 87.4, 87.4, 87.4, 87.4, 87.6, 88.2, 88.8, 89.4, 89.7, 89.9, 90.5, 91.1, 92, 92.7, 93.3, 93.8, 94.7, 95.4, 96, 96.4, 96.4, 95.8, 95.7, 95.8, 95.7, 95.7, 95.7, 96, 96.6, 97.2, 98.1, 98.8, 98.9, 98.6, 98.3, 98.5, 98.7, 98.6, 98.9, 99.4, 100.1, 100.2, 100.3, 100.3, 100, 99.6, 99.8, 100.1, 100.2, 100.2, 99.9, 99.7, 99.6, 100.8, 102.2, 102.4, 101.6, 100.8, 100.3, 99.9, 99.2, 99, 98.8, 99.1, 99.6, 99.9, 100.3, 100.8, 101.7, 102.7, 103.4, 104.7, 105.5, 105.5, 106.3, 108.3, 110.7, 112, 112.9, 114.4, 117, 119.8, 122.9, 125.1, 126.7, 128.3, 130.5, 133.4, 136.5, 139.7, 142.3, 143.8, 143, 141.6, 140.7, 140.6, 141.1, 141.8, 140.5, 139.8, 136.1, 133.4, 130.6, 126.2, 121.1]), ('금리', [2.75, 2.75, 2.75, 2.75, 2.5, 2.5, 2.5, 2.5, 2.5, 2.5, 2.5, 2.5, 2.5, 2.5, 2.5, 2.5, 2.5, 2.5, 2.5, 2.25, 2.25, 2, 2, 2, 2, 2, 1.75, 1.75, 1.75, 1.5, 1.5, 1.5, 1.5, 1.5, 1.5, 1.5, 1.5, 1.5, 1.5, 1.5, 1.5, 1.25, 1.25, 1.25, 1.25, 1.25, 1.25, 1.25, 1.25, 1.25, 1.25, 1.25, 1.25, 1.25, 1.25, 1.25, 1.25, 1.25, 1.5, 1.5, 1.5, 1.5, 1.5, 1.5, 1.5, 1.5, 1.5, 1.5, 1.5, 1.5, 1.75, 1.75, 1.75, 1.75, 1.75, 1.75, 1.75, 1.75, 1.5, 1.5, 1.5, 1.25, 1.25, 1.25, 1.25, 1.25, 0.75, 0.75, 0.5, 0.5, 0.5, 0.5, 0.5, 0.5, 0.5, 0.5, 0.5, 0.5, 0.5, 0.5, 0.5, 0.5, 0.5, 0.75, 0.75, 0.75, 1, 1, 1.25, 1.25, 1.25, 1.5, 1.75, 1.75, 2.25, 2.5, 2.5, 3, 3.25])])"
      ]
     },
     "execution_count": 9,
     "metadata": {},
     "output_type": "execute_result"
    }
   ],
   "source": [
    "orignialData.items()"
   ]
  },
  {
   "cell_type": "code",
   "execution_count": 13,
   "id": "876deae3-8294-4797-82aa-3fb0ea54b70c",
   "metadata": {},
   "outputs": [
    {
     "name": "stdout",
     "output_type": "stream",
     "text": [
      "          지수        금리\n",
      "지수  1.000000 -0.854603\n",
      "금리 -0.854603  1.000000\n"
     ]
    }
   ],
   "source": [
    "originalData = {'부동산':realEstate, '금리':interestRate}\n",
    "realEstateIndexList = []\n",
    "interestList = []\n",
    "lastIndex = -1\n",
    "\n",
    "#부동산 지수가 143.8이 될때까지만 리스트에 데이터 추가하기 \n",
    "for key, value in originalData.items():\n",
    "    if key == '부동산':\n",
    "        for  i in range(0, len(value)):\n",
    "            if value[i] == 143.8:\n",
    "                break\n",
    "            else:\n",
    "                realEstateIndexList.append(value[i])\n",
    "                lastIndex = i \n",
    "    else:\n",
    "        for i in range(0, lastIndex +1): #range는 직전까지만 포함하므로.. \n",
    "            interestList.append(value[i])\n",
    "data = {'지수' : realEstateIndexList, '금리':interestList}\n",
    "df = pd.DataFrame(data)\n",
    "coef = df.corr(method='pearson')\n",
    "print(coef)"
   ]
  },
  {
   "cell_type": "markdown",
   "id": "cffad94f-5406-443a-a847-65a7f7840ebf",
   "metadata": {},
   "source": [
    "지수와 금리는 강한 음의 선형 상관관계에 있다. "
   ]
  },
  {
   "cell_type": "markdown",
   "id": "1e053903-5cdc-40fa-bfa9-c93466edbfee",
   "metadata": {},
   "source": [
    "#### ***영어성적과 수학성적***"
   ]
  },
  {
   "cell_type": "code",
   "execution_count": 14,
   "id": "cdec80c2-b366-4715-b1dc-fbd056dafa9c",
   "metadata": {},
   "outputs": [
    {
     "name": "stdout",
     "output_type": "stream",
     "text": [
      "          영어        수학\n",
      "영어  1.000000  0.818182\n",
      "수학  0.818182  1.000000\n"
     ]
    }
   ],
   "source": [
    "data = {'영어' : [4,2,1,3, 10, 8,9, 7, 6, 5], \n",
    "        '수학' : [2, 1, 3, 4, 8, 7, 10, 5, 9, 6]}\n",
    "df = pd.DataFrame(data)\n",
    "coef = df.corr(method = 'spearman')\n",
    "print(coef)"
   ]
  },
  {
   "cell_type": "code",
   "execution_count": 15,
   "id": "c6163cdf-91f5-4daf-909b-c762b010f9dc",
   "metadata": {},
   "outputs": [
    {
     "name": "stdout",
     "output_type": "stream",
     "text": [
      "          국가  GDP 성장률      인구수\n",
      "0         미국     0.90   334.00\n",
      "1         일본     0.60   125.00\n",
      "2         영국     0.40    67.53\n",
      "3        프랑스     0.50    67.65\n",
      "4         독일     1.10    83.16\n",
      "5       이탈리아     1.70    59.24\n",
      "6        캐나다     3.90    38.44\n",
      "7       대한민국     1.40    51.74\n",
      "8        러시아    -3.70   146.00\n",
      "9         중국     2.90  1412.00\n",
      "10        인도     6.30  1380.00\n",
      "11     인도네시아     5.01   273.00\n",
      "12     아르헨티나     5.90    45.81\n",
      "13       브라질     3.60   213.00\n",
      "14       멕시코     3.50   126.00\n",
      "15        호주     5.90    25.77\n",
      "16  남아프리카공화국     4.10    60.14\n",
      "17   사우디아라비아     5.40    34.11\n",
      "18      튀르키예     3.90    84.68\n",
      "19  유럽연합(EU)     1.90   343.00\n"
     ]
    }
   ],
   "source": [
    "data = {'국가' : ['미국', '일본', '영국', '프랑스', '독일', '이탈리아', '캐나다', '대한민국', '러시아', '중국', '인도', '인도네시아', '아르헨티나', '브라질', '멕시코', '호주', '남아프리카공화국', '사우디아라비아', '튀르키예', '유럽연합(EU)'], \n",
    "         'GDP 성장률': [0.9, 0.6, 0.4, 0.5, 1.1, 1.7, 3.9, 1.4, -3.7, 2.9, 6.3, 5.01, 5.9, 3.6, 3.5, 5.9, 4.1, 5.4, 3.9, 1.9],\n",
    " '인구수': [334, 125, 67.53, 67.65, 83.16, 59.24, 38.44, 51.74, 146, 1412, 1380, 273, 45.81, 213, 126, 25.77, 60.14, 34.11, 84.68, 343]}\n",
    "\n",
    "df = pd.DataFrame(data)\n",
    "print(df)"
   ]
  },
  {
   "cell_type": "code",
   "execution_count": null,
   "id": "e1a2c68d-37f5-4245-9249-fc159c90b3cf",
   "metadata": {},
   "outputs": [],
   "source": []
  },
  {
   "cell_type": "code",
   "execution_count": null,
   "id": "afdde64d-75a4-490b-bd17-e195149842c0",
   "metadata": {},
   "outputs": [],
   "source": []
  }
 ],
 "metadata": {
  "kernelspec": {
   "display_name": "Python 3 (ipykernel)",
   "language": "python",
   "name": "python3"
  },
  "language_info": {
   "codemirror_mode": {
    "name": "ipython",
    "version": 3
   },
   "file_extension": ".py",
   "mimetype": "text/x-python",
   "name": "python",
   "nbconvert_exporter": "python",
   "pygments_lexer": "ipython3",
   "version": "3.11.7"
  }
 },
 "nbformat": 4,
 "nbformat_minor": 5
}
