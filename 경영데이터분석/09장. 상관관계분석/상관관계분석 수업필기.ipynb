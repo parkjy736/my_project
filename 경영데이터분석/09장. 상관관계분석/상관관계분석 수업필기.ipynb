{
 "cells": [
  {
   "cell_type": "markdown",
   "id": "2a3925e1-9597-41ea-b071-e8433428c17b",
   "metadata": {},
   "source": [
    "1. 상관관계 분석과 상관계수"
   ]
  },
  {
   "cell_type": "code",
   "execution_count": 1,
   "id": "a2ae0bc5-4dbf-46ab-9297-ce2fabbd24e6",
   "metadata": {},
   "outputs": [],
   "source": [
    "# 상관계수만 가지고 명백하게 관계가 있다고 얘기하기 어렵다 \n"
   ]
  },
  {
   "cell_type": "code",
   "execution_count": 2,
   "id": "be5a5d05-bb5b-4e10-b737-69ade4cee347",
   "metadata": {},
   "outputs": [],
   "source": [
    "import pandas as pd"
   ]
  },
  {
   "cell_type": "code",
   "execution_count": 4,
   "id": "0278b665-f0df-438e-b283-12d04c7c249c",
   "metadata": {},
   "outputs": [
    {
     "data": {
      "text/html": [
       "<div>\n",
       "<style scoped>\n",
       "    .dataframe tbody tr th:only-of-type {\n",
       "        vertical-align: middle;\n",
       "    }\n",
       "\n",
       "    .dataframe tbody tr th {\n",
       "        vertical-align: top;\n",
       "    }\n",
       "\n",
       "    .dataframe thead th {\n",
       "        text-align: right;\n",
       "    }\n",
       "</style>\n",
       "<table border=\"1\" class=\"dataframe\">\n",
       "  <thead>\n",
       "    <tr style=\"text-align: right;\">\n",
       "      <th></th>\n",
       "      <th>engListening</th>\n",
       "      <th>engScore</th>\n",
       "    </tr>\n",
       "  </thead>\n",
       "  <tbody>\n",
       "    <tr>\n",
       "      <th>0</th>\n",
       "      <td>30</td>\n",
       "      <td>70</td>\n",
       "    </tr>\n",
       "    <tr>\n",
       "      <th>1</th>\n",
       "      <td>60</td>\n",
       "      <td>80</td>\n",
       "    </tr>\n",
       "    <tr>\n",
       "      <th>2</th>\n",
       "      <td>90</td>\n",
       "      <td>90</td>\n",
       "    </tr>\n",
       "  </tbody>\n",
       "</table>\n",
       "</div>"
      ],
      "text/plain": [
       "   engListening  engScore\n",
       "0            30        70\n",
       "1            60        80\n",
       "2            90        90"
      ]
     },
     "execution_count": 4,
     "metadata": {},
     "output_type": "execute_result"
    }
   ],
   "source": [
    "#리스트에 데이터 삽입하기 \n",
    "engListening = [30, 60, 90]\n",
    "engScore = [70, 80, 90]\n",
    "\n",
    "#리스트를 데이터프레임으로 변환하기 \n",
    "data = {'engListening' : engListening, 'engScore' : engScore }# key : value 인 dictionary 구조 \n",
    "df = pd.DataFrame(data) \n",
    "\n",
    "df"
   ]
  },
  {
   "cell_type": "code",
   "execution_count": 5,
   "id": "fae31489-bb0d-4fc4-b4cb-e72c5d9f8169",
   "metadata": {},
   "outputs": [
    {
     "name": "stdout",
     "output_type": "stream",
     "text": [
      "              engListening  engScore\n",
      "engListening           1.0       1.0\n",
      "engScore               1.0       1.0\n"
     ]
    }
   ],
   "source": [
    "#상관분석 수행하기 \n",
    "\n",
    "coef = df.corr(method = 'pearson')\n",
    "print(coef)"
   ]
  },
  {
   "cell_type": "markdown",
   "id": "073cfb66-4376-440f-9522-7b8052178713",
   "metadata": {},
   "source": [
    "상관계수 값이 1이 나왔음 , engListening과 engScore 그냥 양의 직선 관계로 매우 관계가 있다. "
   ]
  },
  {
   "cell_type": "code",
   "execution_count": 6,
   "id": "4273bae3-5c52-46db-b85a-4992e43a40ff",
   "metadata": {},
   "outputs": [],
   "source": [
    "# 데이터 를 조금 더 추가해보자 "
   ]
  },
  {
   "cell_type": "code",
   "execution_count": 7,
   "id": "418eaf74-59d3-4b7d-899e-41e3c9f5bd3c",
   "metadata": {},
   "outputs": [],
   "source": [
    "import matplotlib.pyplot as plt"
   ]
  },
  {
   "cell_type": "code",
   "execution_count": 8,
   "id": "70844979-c091-4471-a8de-511a0e472c74",
   "metadata": {},
   "outputs": [
    {
     "data": {
      "text/html": [
       "<div>\n",
       "<style scoped>\n",
       "    .dataframe tbody tr th:only-of-type {\n",
       "        vertical-align: middle;\n",
       "    }\n",
       "\n",
       "    .dataframe tbody tr th {\n",
       "        vertical-align: top;\n",
       "    }\n",
       "\n",
       "    .dataframe thead th {\n",
       "        text-align: right;\n",
       "    }\n",
       "</style>\n",
       "<table border=\"1\" class=\"dataframe\">\n",
       "  <thead>\n",
       "    <tr style=\"text-align: right;\">\n",
       "      <th></th>\n",
       "      <th>engListening</th>\n",
       "      <th>engScore</th>\n",
       "    </tr>\n",
       "  </thead>\n",
       "  <tbody>\n",
       "    <tr>\n",
       "      <th>0</th>\n",
       "      <td>30</td>\n",
       "      <td>70</td>\n",
       "    </tr>\n",
       "    <tr>\n",
       "      <th>1</th>\n",
       "      <td>60</td>\n",
       "      <td>80</td>\n",
       "    </tr>\n",
       "    <tr>\n",
       "      <th>2</th>\n",
       "      <td>90</td>\n",
       "      <td>90</td>\n",
       "    </tr>\n",
       "    <tr>\n",
       "      <th>3</th>\n",
       "      <td>31</td>\n",
       "      <td>70</td>\n",
       "    </tr>\n",
       "    <tr>\n",
       "      <th>4</th>\n",
       "      <td>32</td>\n",
       "      <td>71</td>\n",
       "    </tr>\n",
       "    <tr>\n",
       "      <th>5</th>\n",
       "      <td>69</td>\n",
       "      <td>85</td>\n",
       "    </tr>\n",
       "    <tr>\n",
       "      <th>6</th>\n",
       "      <td>92</td>\n",
       "      <td>90</td>\n",
       "    </tr>\n",
       "    <tr>\n",
       "      <th>7</th>\n",
       "      <td>99</td>\n",
       "      <td>92</td>\n",
       "    </tr>\n",
       "  </tbody>\n",
       "</table>\n",
       "</div>"
      ],
      "text/plain": [
       "   engListening  engScore\n",
       "0            30        70\n",
       "1            60        80\n",
       "2            90        90\n",
       "3            31        70\n",
       "4            32        71\n",
       "5            69        85\n",
       "6            92        90\n",
       "7            99        92"
      ]
     },
     "execution_count": 8,
     "metadata": {},
     "output_type": "execute_result"
    }
   ],
   "source": [
    "engListening = [30, 60, 90, 31, 32, 69, 92, 99]\n",
    "engScore = [70, 80, 90, 70, 71, 85, 90, 92]\n",
    "data2 = {'engListening' : engListening, 'engScore' : engScore}\n",
    "df2 = pd.DataFrame(data2)\n",
    "\n",
    "df2"
   ]
  },
  {
   "cell_type": "code",
   "execution_count": 9,
   "id": "256f515e-3aaf-4a61-b47a-a0c0c0a94a3c",
   "metadata": {},
   "outputs": [
    {
     "data": {
      "image/png": "[encoded data removed]",
      "text/plain": [
       "<Figure size 640x480 with 1 Axes>"
      ]
     },
     "metadata": {},
     "output_type": "display_data"
    }
   ],
   "source": [
    "# 산점도 그래프의 x좌표와 y좌표 설정하기 \n",
    "plt.scatter(df2['engListening'], df2['engScore']) #x축, y축 \n",
    "plt.show()"
   ]
  },
  {
   "cell_type": "markdown",
   "id": "8498f594-f522-4a5b-9227-2b34cbb655f3",
   "metadata": {},
   "source": [
    "산점도를 보았더니 영어듣는거랑 영어점수랑 양의 상관관계를 가지긴 하는데  \n",
    "1 정도는 아닌것 같다고 예상할 순 있음 "
   ]
  },
  {
   "cell_type": "code",
   "execution_count": 10,
   "id": "f4f08ab6-677e-4687-a322-ee8bceddf470",
   "metadata": {},
   "outputs": [],
   "source": [
    "# 그렇다면 정확한 수치로 confirm(확정)해보자."
   ]
  },
  {
   "cell_type": "code",
   "execution_count": 11,
   "id": "af7f5f00-a76b-4f58-8bfe-7b34cc176e68",
   "metadata": {},
   "outputs": [
    {
     "name": "stdout",
     "output_type": "stream",
     "text": [
      "              engListening  engScore\n",
      "engListening      1.000000  0.995829\n",
      "engScore          0.995829  1.000000\n"
     ]
    }
   ],
   "source": [
    "coef = df2.corr(method='pearson')\n",
    "print(coef)"
   ]
  },
  {
   "cell_type": "code",
   "execution_count": 12,
   "id": "f168ddd9-5ca5-4c63-a9c1-ef4157cdd34f",
   "metadata": {},
   "outputs": [],
   "source": [
    "# 상관계수가 0.995829가 나왔다. \n",
    "# 그래도 매우 강한 선형 상관성이 있다고 할 수 있다. "
   ]
  },
  {
   "cell_type": "markdown",
   "id": "13129efc-e634-4464-b89b-04078828dd16",
   "metadata": {},
   "source": [
    "#### ***상관관계 분석의 세가지 방법*** "
   ]
  },
  {
   "cell_type": "code",
   "execution_count": 13,
   "id": "a225db12-efea-4a37-8c51-7d1b2c1f93d2",
   "metadata": {},
   "outputs": [
    {
     "name": "stdout",
     "output_type": "stream",
     "text": [
      "              engListening  engScore\n",
      "engListening      1.000000  0.988024\n",
      "engScore          0.988024  1.000000\n",
      "              engListening  engScore\n",
      "engListening      1.000000  0.963624\n",
      "engScore          0.963624  1.000000\n"
     ]
    }
   ],
   "source": [
    "#스피어만 상관분석 \n",
    "spearmanCoef = df2.corr(method='spearman')\n",
    "print(spearmanCoef)\n",
    "\n",
    "#켄달 상관분석 \n",
    "kendallCoef = df2.corr(method = 'kendall')\n",
    "print(kendallCoef)"
   ]
  },
  {
   "cell_type": "markdown",
   "id": "d3adf585-94fc-4796-a553-1ccf0977ee5d",
   "metadata": {},
   "source": [
    "상관관계분석 방법 종류에 따라서 상관계수 값이 조금씩 달라질 수 있다. "
   ]
  },
  {
   "cell_type": "markdown",
   "id": "ba134cbd-6d01-4009-a6cf-9a6808937a26",
   "metadata": {},
   "source": [
    "스피어만 상관 분석은 변수간의 단조 연관성을 측정한다  \n",
    "= 두변수중 한변수가 증가한다고 가정하면, 다른 변수가 일정한 방향으로 변하는 성질.  \n",
    "예를들어서 한변수가 증가하면, 다른변수가 똑같이 증가한다면 = 단조 증가이다.   "
   ]
  },
  {
   "cell_type": "code",
   "execution_count": 14,
   "id": "07678fad-9d06-4ddb-9006-060a6d635d7e",
   "metadata": {},
   "outputs": [],
   "source": [
    "# 데이터를 조금 더 추가해보자. \n",
    "# 구체적으론, 변수를 더 추가해보자. "
   ]
  },
  {
   "cell_type": "code",
   "execution_count": 15,
   "id": "082a4206-edff-4346-9ea2-6b482f8dc698",
   "metadata": {},
   "outputs": [
    {
     "data": {
      "text/html": [
       "<div>\n",
       "<style scoped>\n",
       "    .dataframe tbody tr th:only-of-type {\n",
       "        vertical-align: middle;\n",
       "    }\n",
       "\n",
       "    .dataframe tbody tr th {\n",
       "        vertical-align: top;\n",
       "    }\n",
       "\n",
       "    .dataframe thead th {\n",
       "        text-align: right;\n",
       "    }\n",
       "</style>\n",
       "<table border=\"1\" class=\"dataframe\">\n",
       "  <thead>\n",
       "    <tr style=\"text-align: right;\">\n",
       "      <th></th>\n",
       "      <th>engListenig</th>\n",
       "      <th>engReading</th>\n",
       "      <th>engClass</th>\n",
       "      <th>engScore</th>\n",
       "    </tr>\n",
       "  </thead>\n",
       "  <tbody>\n",
       "    <tr>\n",
       "      <th>0</th>\n",
       "      <td>30</td>\n",
       "      <td>40</td>\n",
       "      <td>60</td>\n",
       "      <td>70</td>\n",
       "    </tr>\n",
       "    <tr>\n",
       "      <th>1</th>\n",
       "      <td>60</td>\n",
       "      <td>45</td>\n",
       "      <td>120</td>\n",
       "      <td>80</td>\n",
       "    </tr>\n",
       "    <tr>\n",
       "      <th>2</th>\n",
       "      <td>90</td>\n",
       "      <td>60</td>\n",
       "      <td>120</td>\n",
       "      <td>90</td>\n",
       "    </tr>\n",
       "    <tr>\n",
       "      <th>3</th>\n",
       "      <td>31</td>\n",
       "      <td>20</td>\n",
       "      <td>60</td>\n",
       "      <td>70</td>\n",
       "    </tr>\n",
       "    <tr>\n",
       "      <th>4</th>\n",
       "      <td>32</td>\n",
       "      <td>15</td>\n",
       "      <td>60</td>\n",
       "      <td>71</td>\n",
       "    </tr>\n",
       "    <tr>\n",
       "      <th>5</th>\n",
       "      <td>69</td>\n",
       "      <td>70</td>\n",
       "      <td>180</td>\n",
       "      <td>85</td>\n",
       "    </tr>\n",
       "    <tr>\n",
       "      <th>6</th>\n",
       "      <td>92</td>\n",
       "      <td>60</td>\n",
       "      <td>120</td>\n",
       "      <td>90</td>\n",
       "    </tr>\n",
       "    <tr>\n",
       "      <th>7</th>\n",
       "      <td>99</td>\n",
       "      <td>80</td>\n",
       "      <td>120</td>\n",
       "      <td>92</td>\n",
       "    </tr>\n",
       "  </tbody>\n",
       "</table>\n",
       "</div>"
      ],
      "text/plain": [
       "   engListenig  engReading  engClass  engScore\n",
       "0           30          40        60        70\n",
       "1           60          45       120        80\n",
       "2           90          60       120        90\n",
       "3           31          20        60        70\n",
       "4           32          15        60        71\n",
       "5           69          70       180        85\n",
       "6           92          60       120        90\n",
       "7           99          80       120        92"
      ]
     },
     "execution_count": 15,
     "metadata": {},
     "output_type": "execute_result"
    }
   ],
   "source": [
    "engListening = [30, 60, 90, 31, 32, 69, 92, 99]\n",
    "engReading = [40, 45, 60, 20, 15, 70, 60, 80]\n",
    "engClass = [60, 120, 120, 60, 60, 180, 120, 120] \n",
    "engScore = [ 70, 80, 90, 70, 71, 85, 90, 92]\n",
    "\n",
    "data3 = {'engListenig' : engListening , 'engReading' : engReading, \n",
    "         'engClass' : engClass, 'engScore' : engScore }\n",
    "df3 = pd.DataFrame(data3)\n",
    "df3"
   ]
  },
  {
   "cell_type": "code",
   "execution_count": 16,
   "id": "3306bb27-f6db-452e-85bb-2d20fe91f99a",
   "metadata": {},
   "outputs": [
    {
     "name": "stdout",
     "output_type": "stream",
     "text": [
      "             engListenig  engReading  engClass  engScore\n",
      "engListenig     1.000000    0.877201  0.703028  0.995829\n",
      "engReading      0.877201    1.000000  0.808755  0.894111\n",
      "engClass        0.703028    0.808755  1.000000  0.759453\n",
      "engScore        0.995829    0.894111  0.759453  1.000000\n",
      "             engListenig  engReading  engClass  engScore\n",
      "engListenig     1.000000    0.826362  0.717256  0.988024\n",
      "engReading      0.826362    1.000000  0.852757  0.848500\n",
      "engClass        0.717256    0.852757  1.000000  0.725950\n",
      "engScore        0.988024    0.848500  0.725950  1.000000\n",
      "             engListenig  engReading  engClass  engScore\n",
      "engListenig     1.000000    0.618284  0.563621  0.963624\n",
      "engReading      0.618284    1.000000  0.750568  0.679366\n",
      "engClass        0.563621    0.750568  1.000000  0.584898\n",
      "engScore        0.963624    0.679366  0.584898  1.000000\n"
     ]
    }
   ],
   "source": [
    "#피어슨상관분석\n",
    "pearsonCoef = df3.corr(method='pearson')\n",
    "print(pearsonCoef)\n",
    "\n",
    "#스피어만상관분석\n",
    "spearmanCoef = df3.corr(method='spearman')\n",
    "print(spearmanCoef)\n",
    "\n",
    "#켄달상관분석\n",
    "kendallCoef = df3.corr(method='kendall')\n",
    "print(kendallCoef)"
   ]
  },
  {
   "cell_type": "code",
   "execution_count": 17,
   "id": "6e5e1396-ff1e-43e8-a585-8f28c90417b0",
   "metadata": {},
   "outputs": [],
   "source": [
    "#reading과 둫"
   ]
  },
  {
   "cell_type": "markdown",
   "id": "2f7568a1-431f-4f07-aae1-2f477aea7807",
   "metadata": {},
   "source": [
    "상관관계분석 방법끼리 비교하는거 시험에 나올것 같은 느낌이 든다. "
   ]
  },
  {
   "cell_type": "markdown",
   "id": "2700408a-da81-4876-b1d8-77e4752007a5",
   "metadata": {},
   "source": [
    "### 02 상관관계 분석의 ***활용***"
   ]
  },
  {
   "cell_type": "code",
   "execution_count": 18,
   "id": "ad897b0d-cdc0-4b37-98bd-bfe14a7e23a2",
   "metadata": {},
   "outputs": [],
   "source": [
    "realEstate = [83, 83, 83.5, 83.8, 83.9, 83.7, 84.3, 84.6, 85.2, 85.7, 85.7, 85.7, 86.3\n",
    "               , 86.8, 87.4, 87.4, 87.4, 87.4, 87.6, 88.2, 88.8, 89.4, 89.7, 89.9, 90.5\n",
    "               , 91.1, 92, 92.7, 93.3, 93.8, 94.7, 95.4, 96, 96.4, 96.4, 95.8, 95.7\n",
    "               , 95.8, 95.7, 95.7, 95.7, 96, 96.6, 97.2, 98.1, 98.8, 98.9, 98.6, 98.3\n",
    "               , 98.5, 98.7, 98.6, 98.9, 99.4, 100.1, 100.2, 100.3, 100.3, 100, 99.6\n",
    "               , 99.8, 100.1, 100.2, 100.2, 99.9, 99.7, 99.6, 100.8, 102.2, 102.4\n",
    "               , 101.6, 100.8, 100.3, 99.9, 99.2, 99, 98.8, 99.1, 99.6, 99.9, 100.3\n",
    "               , 100.8, 101.7, 102.7, 103.4, 104.7, 105.5, 105.5, 106.3, 108.3, 110.7\n",
    "               , 112, 112.9, 114.4, 117, 119.8, 122.9, 125.1, 126.7, 128.3, 130.5\n",
    "               , 133.4, 136.5, 139.7, 142.3, 143.8, 143, 141.6, 140.7, 140.6, 141.1\n",
    "               , 141.8, 140.5, 139.8, 136.1, 133.4, 130.6, 126.2, 121.1]\n",
    "interestRate = [2.75, 2.75, 2.75, 2.75, 2.5, 2.5, 2.5, 2.5, 2.5, 2.5, 2.5, 2.5, 2.5\n",
    "               , 2.5, 2.5, 2.5, 2.5, 2.5, 2.5, 2.25, 2.25, 2, 2, 2, 2, 2, 1.75, 1.75\n",
    "               , 1.75, 1.5, 1.5, 1.5, 1.5, 1.5, 1.5, 1.5, 1.5, 1.5, 1.5, 1.5, 1.5, 1.25\n",
    "               , 1.25, 1.25, 1.25, 1.25, 1.25, 1.25, 1.25, 1.25, 1.25, 1.25, 1.25, 1.25\n",
    "               , 1.25, 1.25, 1.25, 1.25, 1.5, 1.5, 1.5, 1.5, 1.5, 1.5, 1.5, 1.5, 1.5\n",
    "               , 1.5, 1.5, 1.5, 1.75, 1.75, 1.75, 1.75, 1.75, 1.75, 1.75, 1.75, 1.5\n",
    "               , 1.5, 1.5, 1.25, 1.25, 1.25, 1.25, 1.25, 0.75, 0.75, 0.5, 0.5, 0.5\n",
    "               , 0.5, 0.5, 0.5, 0.5, 0.5, 0.5, 0.5, 0.5, 0.5, 0.5, 0.5, 0.5\n",
    "               , 0.75, 0.75, 0.75, 1, 1, 1.25, 1.25, 1.25, 1.5, 1.75, 1.75, 2.25, 2.5, 2.5\n",
    "               , 3, 3.25]\n"
   ]
  },
  {
   "cell_type": "code",
   "execution_count": 19,
   "id": "d26bfaff-d652-4b2f-9c62-d20ba3a21f10",
   "metadata": {},
   "outputs": [
    {
     "data": {
      "text/plain": [
       "{'부동산': [83,\n",
       "  83,\n",
       "  83.5,\n",
       "  83.8,\n",
       "  83.9,\n",
       "  83.7,\n",
       "  84.3,\n",
       "  84.6,\n",
       "  85.2,\n",
       "  85.7,\n",
       "  85.7,\n",
       "  85.7,\n",
       "  86.3,\n",
       "  86.8,\n",
       "  87.4,\n",
       "  87.4,\n",
       "  87.4,\n",
       "  87.4,\n",
       "  87.6,\n",
       "  88.2,\n",
       "  88.8,\n",
       "  89.4,\n",
       "  89.7,\n",
       "  89.9,\n",
       "  90.5,\n",
       "  91.1,\n",
       "  92,\n",
       "  92.7,\n",
       "  93.3,\n",
       "  93.8,\n",
       "  94.7,\n",
       "  95.4,\n",
       "  96,\n",
       "  96.4,\n",
       "  96.4,\n",
       "  95.8,\n",
       "  95.7,\n",
       "  95.8,\n",
       "  95.7,\n",
       "  95.7,\n",
       "  95.7,\n",
       "  96,\n",
       "  96.6,\n",
       "  97.2,\n",
       "  98.1,\n",
       "  98.8,\n",
       "  98.9,\n",
       "  98.6,\n",
       "  98.3,\n",
       "  98.5,\n",
       "  98.7,\n",
       "  98.6,\n",
       "  98.9,\n",
       "  99.4,\n",
       "  100.1,\n",
       "  100.2,\n",
       "  100.3,\n",
       "  100.3,\n",
       "  100,\n",
       "  99.6,\n",
       "  99.8,\n",
       "  100.1,\n",
       "  100.2,\n",
       "  100.2,\n",
       "  99.9,\n",
       "  99.7,\n",
       "  99.6,\n",
       "  100.8,\n",
       "  102.2,\n",
       "  102.4,\n",
       "  101.6,\n",
       "  100.8,\n",
       "  100.3,\n",
       "  99.9,\n",
       "  99.2,\n",
       "  99,\n",
       "  98.8,\n",
       "  99.1,\n",
       "  99.6,\n",
       "  99.9,\n",
       "  100.3,\n",
       "  100.8,\n",
       "  101.7,\n",
       "  102.7,\n",
       "  103.4,\n",
       "  104.7,\n",
       "  105.5,\n",
       "  105.5,\n",
       "  106.3,\n",
       "  108.3,\n",
       "  110.7,\n",
       "  112,\n",
       "  112.9,\n",
       "  114.4,\n",
       "  117,\n",
       "  119.8,\n",
       "  122.9,\n",
       "  125.1,\n",
       "  126.7,\n",
       "  128.3,\n",
       "  130.5,\n",
       "  133.4,\n",
       "  136.5,\n",
       "  139.7,\n",
       "  142.3,\n",
       "  143.8,\n",
       "  143,\n",
       "  141.6,\n",
       "  140.7,\n",
       "  140.6,\n",
       "  141.1,\n",
       "  141.8,\n",
       "  140.5,\n",
       "  139.8,\n",
       "  136.1,\n",
       "  133.4,\n",
       "  130.6,\n",
       "  126.2,\n",
       "  121.1],\n",
       " '금리': [2.75,\n",
       "  2.75,\n",
       "  2.75,\n",
       "  2.75,\n",
       "  2.5,\n",
       "  2.5,\n",
       "  2.5,\n",
       "  2.5,\n",
       "  2.5,\n",
       "  2.5,\n",
       "  2.5,\n",
       "  2.5,\n",
       "  2.5,\n",
       "  2.5,\n",
       "  2.5,\n",
       "  2.5,\n",
       "  2.5,\n",
       "  2.5,\n",
       "  2.5,\n",
       "  2.25,\n",
       "  2.25,\n",
       "  2,\n",
       "  2,\n",
       "  2,\n",
       "  2,\n",
       "  2,\n",
       "  1.75,\n",
       "  1.75,\n",
       "  1.75,\n",
       "  1.5,\n",
       "  1.5,\n",
       "  1.5,\n",
       "  1.5,\n",
       "  1.5,\n",
       "  1.5,\n",
       "  1.5,\n",
       "  1.5,\n",
       "  1.5,\n",
       "  1.5,\n",
       "  1.5,\n",
       "  1.5,\n",
       "  1.25,\n",
       "  1.25,\n",
       "  1.25,\n",
       "  1.25,\n",
       "  1.25,\n",
       "  1.25,\n",
       "  1.25,\n",
       "  1.25,\n",
       "  1.25,\n",
       "  1.25,\n",
       "  1.25,\n",
       "  1.25,\n",
       "  1.25,\n",
       "  1.25,\n",
       "  1.25,\n",
       "  1.25,\n",
       "  1.25,\n",
       "  1.5,\n",
       "  1.5,\n",
       "  1.5,\n",
       "  1.5,\n",
       "  1.5,\n",
       "  1.5,\n",
       "  1.5,\n",
       "  1.5,\n",
       "  1.5,\n",
       "  1.5,\n",
       "  1.5,\n",
       "  1.5,\n",
       "  1.75,\n",
       "  1.75,\n",
       "  1.75,\n",
       "  1.75,\n",
       "  1.75,\n",
       "  1.75,\n",
       "  1.75,\n",
       "  1.75,\n",
       "  1.5,\n",
       "  1.5,\n",
       "  1.5,\n",
       "  1.25,\n",
       "  1.25,\n",
       "  1.25,\n",
       "  1.25,\n",
       "  1.25,\n",
       "  0.75,\n",
       "  0.75,\n",
       "  0.5,\n",
       "  0.5,\n",
       "  0.5,\n",
       "  0.5,\n",
       "  0.5,\n",
       "  0.5,\n",
       "  0.5,\n",
       "  0.5,\n",
       "  0.5,\n",
       "  0.5,\n",
       "  0.5,\n",
       "  0.5,\n",
       "  0.5,\n",
       "  0.5,\n",
       "  0.5,\n",
       "  0.75,\n",
       "  0.75,\n",
       "  0.75,\n",
       "  1,\n",
       "  1,\n",
       "  1.25,\n",
       "  1.25,\n",
       "  1.25,\n",
       "  1.5,\n",
       "  1.75,\n",
       "  1.75,\n",
       "  2.25,\n",
       "  2.5,\n",
       "  2.5,\n",
       "  3,\n",
       "  3.25]}"
      ]
     },
     "execution_count": 19,
     "metadata": {},
     "output_type": "execute_result"
    }
   ],
   "source": [
    "data = {'부동산' : realEstate, '금리' : interestRate}\n",
    "data"
   ]
  },
  {
   "cell_type": "markdown",
   "id": "fbed7b9b-2f61-4138-9545-43fcef5d3175",
   "metadata": {},
   "source": [
    "##### 기준금리와 부동산 : \n",
    "금리가 낮을때 사람들이 1% 빌려서 부동산 삼 -> 그런데 돈을 은행에 넣으면 1%도 안되네 하고 화를 냄   \n",
    "시중에 돈이 많아짐. 그러면 너도나도 부동산 사게됨 , 주식투자도 함, 금리가 1%안되니깐 레버리지라는 것을 배웠으니 돈을 빌려서 더 벌자~  \n",
    "-> 그 결과 : 있는돈 다 투자.. 금리가 갑자기 오르기 시작, 금리 5% 올라가기시작함 ,     \n",
    "대출받은 사람들 배이상되는 금리 감당하기 힘들어짐. 왜 금리 올라갔을까? 인플이 심해서 금리가 올라가고,   \n",
    "사람들이 자금묶여있어서, 실제론 돈이 없고 있어도 이자로 빠져나가고, 그렇다고 주가도 안올라가고   \n",
    "1987년 여름 : 민주화시대가 아직 x \n",
    "1988년 올림픽 : 경제 열림 갑자기 한국경제 얘기는 왜 말씀하실까?  \n",
    "요약: 자본의 힘"
   ]
  },
  {
   "cell_type": "code",
   "execution_count": 20,
   "id": "f8b94abd-da4f-4769-aff6-99b88c49ba90",
   "metadata": {},
   "outputs": [
    {
     "data": {
      "image/png": "[encoded data removed]",
      "text/plain": [
       "<Figure size 640x480 with 1 Axes>"
      ]
     },
     "metadata": {},
     "output_type": "display_data"
    }
   ],
   "source": [
    "plt.scatter( data['부동산'], data['금리'])\n",
    "plt.show()"
   ]
  },
  {
   "cell_type": "markdown",
   "id": "47d91c7c-2223-4932-b87d-98b30b3d0cc3",
   "metadata": {},
   "source": [
    "일단 음의 상관관계를 가질거라 예상  \n",
    "구체적인 수치를 보고 판단해보자 "
   ]
  },
  {
   "cell_type": "code",
   "execution_count": 21,
   "id": "97b7ccdc-fefe-4a93-b88e-56756c4df22f",
   "metadata": {},
   "outputs": [
    {
     "name": "stdout",
     "output_type": "stream",
     "text": [
      "          부동산        금리\n",
      "부동산  1.000000 -0.497677\n",
      "금리  -0.497677  1.000000\n"
     ]
    }
   ],
   "source": [
    "df = pd.DataFrame(data)\n",
    "coef = df.corr(method = 'pearson')\n",
    "print(coef)"
   ]
  },
  {
   "cell_type": "code",
   "execution_count": 22,
   "id": "5672df22-1cfc-4920-ab3e-f666f41d4574",
   "metadata": {},
   "outputs": [],
   "source": [
    "# 기준금리가 낮으면 부동산 가격은 올라가고, 기준금리가 높으면 부동산 가격은 내려가는 것으로 해석"
   ]
  },
  {
   "cell_type": "markdown",
   "id": "a629de3b-0726-4761-9569-d50b790f7638",
   "metadata": {},
   "source": [
    "부동산 데이터만 가만히 보자 83에서 시작해서 143 까지는 계속 오르다가 143점 부터 121까지는 부동산 가격이 내려가고 있음을 알수 있다.  \n",
    "(raw 데이터 단순히 관찰!) "
   ]
  },
  {
   "cell_type": "code",
   "execution_count": 23,
   "id": "6ac37567-dabe-4b1a-9f35-0d03efdec4cd",
   "metadata": {},
   "outputs": [],
   "source": [
    "originalData = {'부동산' : realEstate, '금리' : interestRate}\n",
    "\n",
    "realEstateIndexList = []\n",
    "interestList = []\n",
    "lastIndex = -1 \n",
    "\n",
    "#부동산 지수가 143.8이 될때까지만 리스트에 데이터 추가하기 \n",
    "\n",
    "for key, value in originalData.items():\n",
    "    if key == '부동산' : \n",
    "          for i in range(0, len(value)):\n",
    "              if value[i] == 143.8:\n",
    "                  break\n",
    "              else:\n",
    "                  realEstateIndexList.append(value[i])\n",
    "                  lastIndex = i \n",
    "    else:\n",
    "        for i in range(0, lastIndex+1):\n",
    "            interestList.append(value[i])"
   ]
  },
  {
   "cell_type": "code",
   "execution_count": 24,
   "id": "51881e76-1053-4906-8296-afef73094795",
   "metadata": {},
   "outputs": [],
   "source": [
    "# 위의 코드 왜 작성하는지 잘 모르겠네. "
   ]
  },
  {
   "cell_type": "code",
   "execution_count": 25,
   "id": "14c51bdf-0282-4eb0-9407-17d788601d2f",
   "metadata": {},
   "outputs": [
    {
     "name": "stdout",
     "output_type": "stream",
     "text": [
      "          지수        금리\n",
      "지수  1.000000 -0.854603\n",
      "금리 -0.854603  1.000000\n"
     ]
    }
   ],
   "source": [
    "data = {'지수':realEstateIndexList, '금리':interestList}\n",
    "df = pd.DataFrame(data)\n",
    "coef = df.corr(method='pearson')\n",
    "print(coef)"
   ]
  },
  {
   "cell_type": "markdown",
   "id": "254706a9-6c74-4968-9dfd-7a3386a8a3f4",
   "metadata": {},
   "source": [
    "##### ***영어성적과 수학성적*** "
   ]
  },
  {
   "cell_type": "markdown",
   "id": "4ab63a95-d293-4022-9173-796ec8805c84",
   "metadata": {},
   "source": [
    "확인문제 뭐였지??(사진)"
   ]
  },
  {
   "cell_type": "code",
   "execution_count": null,
   "id": "145514e6-8f27-4b21-a49b-5fae185a8a8a",
   "metadata": {},
   "outputs": [],
   "source": []
  },
  {
   "cell_type": "code",
   "execution_count": 26,
   "id": "33d45bb5-fe39-400f-a39b-6fba5d296c53",
   "metadata": {},
   "outputs": [
    {
     "name": "stdout",
     "output_type": "stream",
     "text": [
      "          영어        수학\n",
      "영어  1.000000  0.818182\n",
      "수학  0.818182  1.000000\n"
     ]
    }
   ],
   "source": [
    "data = {'영어' : [4,2,1,3, 10, 8,9, 7, 6, 5], \n",
    "        '수학' : [2, 1, 3, 4, 8, 7, 10, 5, 9, 6]}\n",
    "df = pd.DataFrame(data)\n",
    "coef = df.corr(method = 'spearman')\n",
    "print(coef)"
   ]
  },
  {
   "cell_type": "markdown",
   "id": "443822f9-34e2-4f04-845c-6228fe819408",
   "metadata": {},
   "source": [
    "### ***상관관계분석 실전문제***"
   ]
  },
  {
   "cell_type": "markdown",
   "id": "d037e0f0-e87d-4992-9445-0b9916aa5e3b",
   "metadata": {},
   "source": [
    "data를 딕셔너리 형태로 입력뒤, \n",
    "data를 pandas를 이용하여 데이터프레임으로 전환함 "
   ]
  },
  {
   "cell_type": "code",
   "execution_count": null,
   "id": "9f24cb0a-d166-442a-8414-be78697843ac",
   "metadata": {},
   "outputs": [],
   "source": []
  },
  {
   "cell_type": "code",
   "execution_count": 29,
   "id": "ce9737ab-7c2c-4e57-b5d2-830860c76bf5",
   "metadata": {
    "scrolled": true
   },
   "outputs": [
    {
     "name": "stdout",
     "output_type": "stream",
     "text": [
      "          국가  GDP 성장률      인구수\n",
      "0         미국     0.90   334.00\n",
      "1         일본     0.60   125.00\n",
      "2         영국     0.40    67.53\n",
      "3        프랑스     0.50    67.65\n",
      "4         독일     1.10    83.16\n",
      "5       이탈리아     1.70    59.24\n",
      "6        캐나다     3.90    38.44\n",
      "7       대한민국     1.40    51.74\n",
      "8        러시아    -3.70   146.00\n",
      "9         중국     2.90  1412.00\n",
      "10        인도     6.30  1380.00\n",
      "11     인도네시아     5.01   273.00\n",
      "12     아르헨티나     5.90    45.81\n",
      "13       브라질     3.60   213.00\n",
      "14       멕시코     3.50   126.00\n",
      "15        호주     5.90    25.77\n",
      "16  남아프리카공화국     4.10    60.14\n",
      "17   사우디아라비아     5.40    34.11\n",
      "18      튀르키예     3.90    84.68\n",
      "19  유럽연합(EU)     1.90   343.00\n"
     ]
    }
   ],
   "source": [
    "data = {'국가' : ['미국', '일본', '영국', '프랑스', '독일', '이탈리아', '캐나다', '대한민국', '러시아', '중국', '인도', '인도네시아', '아르헨티나', '브라질', '멕시코', '호주', '남아프리카공화국', '사우디아라비아', '튀르키예', '유럽연합(EU)'], \n",
    "         'GDP 성장률': [0.9, 0.6, 0.4, 0.5, 1.1, 1.7, 3.9, 1.4, -3.7, 2.9, 6.3, 5.01, 5.9, 3.6, 3.5, 5.9, 4.1, 5.4, 3.9, 1.9],\n",
    " '인구수': [334, 125, 67.53, 67.65, 83.16, 59.24, 38.44, 51.74, 146, 1412, 1380, 273, 45.81, 213, 126, 25.77, 60.14, 34.11, 84.68, 343]}\n",
    "\n",
    "df = pd.DataFrame(data)\n",
    "print(df)"
   ]
  },
  {
   "cell_type": "markdown",
   "id": "8be9669e-1792-4686-b733-687159a77bdb",
   "metadata": {},
   "source": [
    "df로 피어슨, 스피어만, 켄달 상관분석을 모두 수행할것 "
   ]
  },
  {
   "cell_type": "code",
   "execution_count": 36,
   "id": "2b401781-c2da-4cfe-bdce-849d86639eb2",
   "metadata": {},
   "outputs": [],
   "source": [
    "test_df = df.select_dtypes(include = 'number')"
   ]
  },
  {
   "cell_type": "code",
   "execution_count": 38,
   "id": "97090126-a88e-4560-b08d-5f62ceb6cf6f",
   "metadata": {},
   "outputs": [
    {
     "name": "stdout",
     "output_type": "stream",
     "text": [
      "Pearson Correlation Analysis\n",
      "          GDP 성장률       인구수\n",
      "GDP 성장률  1.000000  0.198924\n",
      "인구수      0.198924  1.000000\n",
      "\n",
      "Spearman Correlation Analysis\n",
      "          GDP 성장률       인구수\n",
      "GDP 성장률  1.000000 -0.196388\n",
      "인구수     -0.196388  1.000000\n",
      "\n",
      "Kendall Correlation Analysis\n",
      "          GDP 성장률       인구수\n",
      "GDP 성장률  1.000000 -0.137568\n",
      "인구수     -0.137568  1.000000\n"
     ]
    }
   ],
   "source": [
    "pearsonCoef = test_df.corr(method = 'pearson')\n",
    "print('Pearson Correlation Analysis')\n",
    "print(pearsonCoef)\n",
    "\n",
    "spearmanCoef = test_df.corr(method = 'spearman')\n",
    "print('\\nSpearman Correlation Analysis')\n",
    "print(spearmanCoef)\n",
    "\n",
    "kendallCoef = test_df.corr(method = 'kendall')\n",
    "print('\\nKendall Correlation Analysis')\n",
    "print(kendallCoef)"
   ]
  },
  {
   "cell_type": "markdown",
   "id": "91f33537-2523-43e9-8f20-badbd97779dc",
   "metadata": {},
   "source": [
    "지금 세가지 상관분석방법으로 해도 상관계수가 0.5에도 못미침...   \n",
    "GDP 상승률과 인구수는 선형상관관계가 없다.   \n",
    "그러나..   \n",
    "이 분석에는 한계점이 두가지존재한다.   \n",
    "1) 코로나 19 라는 특수한 요인이 작용된 시기의 전년 대비 GDP 성장률이라는점   \n",
    "2) 표본의 수가 적다는점   "
   ]
  },
  {
   "cell_type": "code",
   "execution_count": 4,
   "id": "58204734-029e-41e5-be55-d954ad899e07",
   "metadata": {},
   "outputs": [],
   "source": [
    "#연습문제"
   ]
  },
  {
   "cell_type": "code",
   "execution_count": 3,
   "id": "540b1313-e815-4ee3-a54c-d4236922e19a",
   "metadata": {
    "scrolled": true
   },
   "outputs": [
    {
     "name": "stdout",
     "output_type": "stream",
     "text": [
      "            직장만족도  월급(만 원):\n",
      "직장만족도     1.00000   0.89133\n",
      "월급(만 원):  0.89133   1.00000\n"
     ]
    }
   ],
   "source": [
    "data = {'직장만족도' : [6, 7, 9, 10, 3, 6, 4, 10, 8, 5, 7], \\\n",
    " '월급(만 원):' : [350, 360, 400, 390, 230, 310, 280, 500, 390, 230, 400]}\n",
    "df = pd.DataFrame(data)\n",
    "coef = df.corr(method='pearson')\n",
    "print(coef)"
   ]
  },
  {
   "cell_type": "code",
   "execution_count": null,
   "id": "1c1ab737-fde9-4473-b01b-1f0641dea5df",
   "metadata": {},
   "outputs": [],
   "source": []
  },
  {
   "cell_type": "code",
   "execution_count": null,
   "id": "d09fb3b0-0729-44aa-bd97-b5979860baf6",
   "metadata": {},
   "outputs": [],
   "source": []
  },
  {
   "cell_type": "code",
   "execution_count": null,
   "id": "1f8362fc-30cd-40b6-8496-70261b95cc8c",
   "metadata": {},
   "outputs": [],
   "source": []
  },
  {
   "cell_type": "code",
   "execution_count": null,
   "id": "f9f7bad5-00d0-4b16-a7a9-b1252b70342b",
   "metadata": {},
   "outputs": [],
   "source": []
  },
  {
   "cell_type": "code",
   "execution_count": 1,
   "id": "c67d9b29-9f24-4678-91bf-17e155a50e7c",
   "metadata": {},
   "outputs": [
    {
     "name": "stdout",
     "output_type": "stream",
     "text": [
      "     A    B\n",
      "A  1.0  1.0\n",
      "B  1.0  1.0\n"
     ]
    }
   ],
   "source": [
    "import pandas as pd\n",
    "data = {'A': [1,2,3], 'B':[4,5,6]}\n",
    "df = pd.DataFrame(data)\n",
    "coef = df.corr(method='pearson')\n",
    "print(coef)"
   ]
  }
 ],
 "metadata": {
  "kernelspec": {
   "display_name": "Python 3 (ipykernel)",
   "language": "python",
   "name": "python3"
  },
  "language_info": {
   "codemirror_mode": {
    "name": "ipython",
    "version": 3
   },
   "file_extension": ".py",
   "mimetype": "text/x-python",
   "name": "python",
   "nbconvert_exporter": "python",
   "pygments_lexer": "ipython3",
   "version": "3.11.7"
  }
 },
 "nbformat": 4,
 "nbformat_minor": 5
}
