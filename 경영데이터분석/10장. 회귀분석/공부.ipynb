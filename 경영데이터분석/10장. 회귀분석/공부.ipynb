{
 "cells": [
  {
   "cell_type": "code",
   "execution_count": 1,
   "id": "d94ee8c4-8c4e-4ca1-abc9-46dc21582769",
   "metadata": {},
   "outputs": [
    {
     "data": {
      "image/png": "[encoded data removed]",
      "text/plain": [
       "<Figure size 640x480 with 1 Axes>"
      ]
     },
     "metadata": {},
     "output_type": "display_data"
    }
   ],
   "source": [
    "import pandas as pd\n",
    "import matplotlib.pyplot as plt\n",
    "\n",
    "x= [3000, 4200, 4000, 5000, 6000, 3800, 3500, 6200, 3900, 4500]\n",
    "y = [60,75, 70, 85, 90, 70, 65, 95, 70, 80]\n",
    "\n",
    "data = { 'x' : x , 'y' : y}\n",
    "\n",
    "df = pd.DataFrame(data)\n",
    "plt.scatter(df['x'], df['y'])\n",
    "\n",
    "plt.show()"
   ]
  },
  {
   "cell_type": "code",
   "execution_count": 3,
   "id": "a2738ce7-73bb-4ef2-9c17-28cc28a412b5",
   "metadata": {},
   "outputs": [
    {
     "name": "stdout",
     "output_type": "stream",
     "text": [
      "                            OLS Regression Results                            \n",
      "==============================================================================\n",
      "Dep. Variable:                      y   R-squared:                       0.971\n",
      "Model:                            OLS   Adj. R-squared:                  0.968\n",
      "Method:                 Least Squares   F-statistic:                     271.0\n",
      "Date:                Sat, 14 Dec 2024   Prob (F-statistic):           1.87e-07\n",
      "Time:                        23:56:29   Log-Likelihood:                -20.111\n",
      "No. Observations:                  10   AIC:                             44.22\n",
      "Df Residuals:                       8   BIC:                             44.83\n",
      "Df Model:                           1                                         \n",
      "Covariance Type:            nonrobust                                         \n",
      "==============================================================================\n",
      "                 coef    std err          t      P>|t|      [0.025      0.975]\n",
      "------------------------------------------------------------------------------\n",
      "Intercept     29.0004      2.926      9.913      0.000      22.254      35.747\n",
      "x              0.0107      0.001     16.463      0.000       0.009       0.012\n",
      "==============================================================================\n",
      "Omnibus:                        0.346   Durbin-Watson:                   2.871\n",
      "Prob(Omnibus):                  0.841   Jarque-Bera (JB):                0.447\n",
      "Skew:                           0.286   Prob(JB):                        0.800\n",
      "Kurtosis:                       2.136   Cond. No.                     2.07e+04\n",
      "==============================================================================\n",
      "\n",
      "Notes:\n",
      "[1] Standard Errors assume that the covariance matrix of the errors is correctly specified.\n",
      "[2] The condition number is large, 2.07e+04. This might indicate that there are\n",
      "strong multicollinearity or other numerical problems.\n"
     ]
    },
    {
     "name": "stderr",
     "output_type": "stream",
     "text": [
      "C:\\Users\\parkj\\anaconda3\\Lib\\site-packages\\scipy\\stats\\_stats_py.py:1806: UserWarning: kurtosistest only valid for n>=20 ... continuing anyway, n=10\n",
      "  warnings.warn(\"kurtosistest only valid for n>=20 ... continuing \"\n"
     ]
    }
   ],
   "source": [
    "from statsmodels.formula.api import ols\n",
    "from sklearn.linear_model import LinearRegression\n",
    "\n",
    "fit = ols('y ~ x', data = df).fit()\n",
    "print(fit.summary())"
   ]
  },
  {
   "cell_type": "code",
   "execution_count": 7,
   "id": "2f11cf3a-020b-4f4a-bc93-4566c41106d9",
   "metadata": {},
   "outputs": [
    {
     "name": "stdout",
     "output_type": "stream",
     "text": [
      "                             OLS Regression Results                            \n",
      "===============================================================================\n",
      "Dep. Variable:     companySatisfaction   R-squared:                       0.988\n",
      "Model:                             OLS   Adj. R-squared:                  0.982\n",
      "Method:                  Least Squares   F-statistic:                     164.0\n",
      "Date:                 Sun, 15 Dec 2024   Prob (F-statistic):           3.81e-06\n",
      "Time:                         00:05:32   Log-Likelihood:                -15.777\n",
      "No. Observations:                   10   AIC:                             39.55\n",
      "Df Residuals:                        6   BIC:                             40.77\n",
      "Df Model:                            3                                         \n",
      "Covariance Type:             nonrobust                                         \n",
      "===============================================================================\n",
      "                  coef    std err          t      P>|t|      [0.025      0.975]\n",
      "-------------------------------------------------------------------------------\n",
      "Intercept      24.9819      5.353      4.667      0.003      11.884      38.080\n",
      "salary          0.0120      0.001     15.895      0.000       0.010       0.014\n",
      "breakTime       0.0668      0.027      2.491      0.047       0.001       0.132\n",
      "workingTime    -0.9718      0.412     -2.356      0.057      -1.981       0.037\n",
      "==============================================================================\n",
      "Omnibus:                        0.929   Durbin-Watson:                   2.500\n",
      "Prob(Omnibus):                  0.628   Jarque-Bera (JB):                0.752\n",
      "Skew:                          -0.441   Prob(JB):                        0.686\n",
      "Kurtosis:                       1.986   Cond. No.                     5.06e+04\n",
      "==============================================================================\n",
      "\n",
      "Notes:\n",
      "[1] Standard Errors assume that the covariance matrix of the errors is correctly specified.\n",
      "[2] The condition number is large, 5.06e+04. This might indicate that there are\n",
      "strong multicollinearity or other numerical problems.\n"
     ]
    },
    {
     "name": "stderr",
     "output_type": "stream",
     "text": [
      "C:\\Users\\parkj\\anaconda3\\Lib\\site-packages\\scipy\\stats\\_stats_py.py:1806: UserWarning: kurtosistest only valid for n>=20 ... continuing anyway, n=10\n",
      "  warnings.warn(\"kurtosistest only valid for n>=20 ... continuing \"\n"
     ]
    }
   ],
   "source": [
    "from statsmodels.formula.api import ols \n",
    "from sklearn.linear_model import LinearRegression\n",
    "\n",
    "salary = [3000, 4200, 4000, 5000, 6000, 3800, 3500, 6200, 3900, 4500]\n",
    "breakTime = [120, 60, 100, 100, 50, 120, 90, 40, 120, 120]\n",
    "workingTime = [8, 6, 10, 8, 10, 10, 9, 7, 8, 9]\n",
    "companySatisfaction = [60, 75, 70, 85, 90, 70, 65, 95, 70, 80]\n",
    "\n",
    "data = {'salary' : salary, 'breakTime' : breakTime , 'workingTime' : workingTime, 'companySatisfaction' : companySatisfaction }\n",
    "\n",
    "df = pd.DataFrame(data)\n",
    "\n",
    "fit = ols('companySatisfaction ~ salary + breakTime + workingTime' , data = df).fit()\n",
    "print(fit.summary())"
   ]
  },
  {
   "cell_type": "code",
   "execution_count": 9,
   "id": "f79d31c0-0cec-41fe-9305-bd08bc575701",
   "metadata": {},
   "outputs": [
    {
     "name": "stdout",
     "output_type": "stream",
     "text": [
      "Optimization terminated successfully.\n",
      "         Current function value: 0.430873\n",
      "         Iterations 7\n",
      "                           Logit Regression Results                           \n",
      "==============================================================================\n",
      "Dep. Variable:                  sales   No. Observations:                   17\n",
      "Model:                          Logit   Df Residuals:                       15\n",
      "Method:                           MLE   Df Model:                            1\n",
      "Date:                Sun, 15 Dec 2024   Pseudo R-squ.:                  0.3768\n",
      "Time:                        00:36:57   Log-Likelihood:                -7.3248\n",
      "converged:                       True   LL-Null:                       -11.754\n",
      "Covariance Type:            nonrobust   LLR p-value:                  0.002917\n",
      "==============================================================================\n",
      "                 coef    std err          z      P>|z|      [0.025      0.975]\n",
      "------------------------------------------------------------------------------\n",
      "Intercept      6.5752      3.300      1.993      0.046       0.108      13.042\n",
      "price         -0.0016      0.001     -2.008      0.045      -0.003   -3.75e-05\n",
      "==============================================================================\n",
      "OR\n",
      "Intercept    717.058841\n",
      "price          0.998433\n",
      "dtype: float64\n"
     ]
    }
   ],
   "source": [
    "import statsmodels.api as sm\n",
    "import pandas as pd\n",
    "import numpy as np\n",
    "\n",
    "sales = [1, 1, 1, 1, 1, 1, 1, 1, 1, 0, 0, 0, 0, 0, 0, 0, 0]\n",
    "price = [1500, 2000, 5000, 3000, 3500, 2500, 4000, 4500, 3000,\\\n",
    " 4500, 4000, 4500, 5500, 6500, 5000, 3500, 7000]\n",
    "\n",
    "data = {'sales': sales, 'price': price}\n",
    "df = pd.DataFrame(data)\n",
    "\n",
    "logis = sm.Logit.from_formula('sales ~ price', data = df).fit()\n",
    "print(logis.summary())\n",
    "print('OR')\n",
    "print(np.exp(logis.params))"
   ]
  },
  {
   "cell_type": "code",
   "execution_count": null,
   "id": "732f6c97-362c-4e6b-8bda-5a8acd6c1cd8",
   "metadata": {},
   "outputs": [],
   "source": []
  },
  {
   "cell_type": "code",
   "execution_count": null,
   "id": "c94a7d00-5a70-4ef6-8638-560e31efc105",
   "metadata": {},
   "outputs": [],
   "source": []
  }
 ],
 "metadata": {
  "kernelspec": {
   "display_name": "Python 3 (ipykernel)",
   "language": "python",
   "name": "python3"
  },
  "language_info": {
   "codemirror_mode": {
    "name": "ipython",
    "version": 3
   },
   "file_extension": ".py",
   "mimetype": "text/x-python",
   "name": "python",
   "nbconvert_exporter": "python",
   "pygments_lexer": "ipython3",
   "version": "3.11.7"
  }
 },
 "nbformat": 4,
 "nbformat_minor": 5
}
