{
 "cells": [
  {
   "cell_type": "code",
   "execution_count": 1,
   "id": "9a60eb17-7bf9-419b-a626-ab0aea4109bd",
   "metadata": {},
   "outputs": [
    {
     "name": "stdout",
     "output_type": "stream",
     "text": [
      "철수\n"
     ]
    }
   ],
   "source": [
    "name = '철수'\n",
    "print(name)"
   ]
  },
  {
   "cell_type": "code",
   "execution_count": 3,
   "id": "fd3cf0db-e70a-4371-b14a-776318c8d025",
   "metadata": {},
   "outputs": [
    {
     "name": "stdout",
     "output_type": "stream",
     "text": [
      "30\n"
     ]
    }
   ],
   "source": [
    "sum = 0 \n",
    "for i in range(0,11):\n",
    "    if i%2 ==0 :\n",
    "        sum += i\n",
    "print(sum)"
   ]
  },
  {
   "cell_type": "code",
   "execution_count": 7,
   "id": "46168600-9225-4207-b9b4-2c9d89e629b6",
   "metadata": {},
   "outputs": [
    {
     "name": "stdout",
     "output_type": "stream",
     "text": [
      "(2, 3)\n"
     ]
    }
   ],
   "source": [
    "a = (1,2,3,4,5)\n",
    "print(a[1:3])"
   ]
  },
  {
   "cell_type": "code",
   "execution_count": 5,
   "id": "94d12433-4d8e-4de8-893f-516d1c70404c",
   "metadata": {},
   "outputs": [
    {
     "name": "stdout",
     "output_type": "stream",
     "text": [
      "set()\n"
     ]
    }
   ],
   "source": [
    "a = {1,2,3,4,5}\n",
    "a.clear() \n",
    "print(a) "
   ]
  },
  {
   "cell_type": "code",
   "execution_count": 16,
   "id": "bf871f2d-6ed5-4dee-a8fe-18551e52d50a",
   "metadata": {},
   "outputs": [],
   "source": [
    "def sum_list_r(a):\n",
    "    j= 0\n",
    "    for i in a:\n",
    "        j = i+ j\n",
    "    return j"
   ]
  },
  {
   "cell_type": "code",
   "execution_count": 20,
   "id": "13359653-8b2c-4a52-9dd7-5307b63e8b7e",
   "metadata": {},
   "outputs": [
    {
     "name": "stdout",
     "output_type": "stream",
     "text": [
      "55\n",
      "550\n"
     ]
    }
   ],
   "source": [
    "list_a = [1,2,3,4,5,6,7,8,9,10]\n",
    "sum = sum_list_r(list_a)\n",
    "print(sum)\n",
    "sum = sum*10\n",
    "print(sum)"
   ]
  },
  {
   "cell_type": "code",
   "execution_count": null,
   "id": "cc48e0f6-925e-44a7-b9ea-84338f67e6ed",
   "metadata": {},
   "outputs": [],
   "source": [
    "# 연습문제"
   ]
  },
  {
   "cell_type": "code",
   "execution_count": 21,
   "id": "2b6db416-9019-4d23-9a4a-374a9046a025",
   "metadata": {},
   "outputs": [
    {
     "name": "stdout",
     "output_type": "stream",
     "text": [
      "Teacher said that \"Python is 'very' easy.\"\n"
     ]
    }
   ],
   "source": [
    "print(\"Teacher said that \\\"Python is 'very' easy.\\\"\")"
   ]
  },
  {
   "cell_type": "code",
   "execution_count": 22,
   "id": "fae52450-2d50-4a0b-85ed-6972a7fdaf8a",
   "metadata": {},
   "outputs": [
    {
     "name": "stdout",
     "output_type": "stream",
     "text": [
      "True\n"
     ]
    }
   ],
   "source": [
    "a= 3\n",
    "b= 8 \n",
    "print(a!=b)"
   ]
  },
  {
   "cell_type": "code",
   "execution_count": 24,
   "id": "92b9f6ab-9f73-46e1-b52c-5bf2a206a6b8",
   "metadata": {},
   "outputs": [
    {
     "name": "stdout",
     "output_type": "stream",
     "text": [
      "high school\n"
     ]
    }
   ],
   "source": [
    "word = 'school'\n",
    "if word == 'school':\n",
    "    print('high school')\n",
    "else:\n",
    "    print('university')"
   ]
  },
  {
   "cell_type": "code",
   "execution_count": 29,
   "id": "f7d120b2-1cd4-4f67-bddb-2785a34dffd7",
   "metadata": {},
   "outputs": [
    {
     "name": "stdout",
     "output_type": "stream",
     "text": [
      "kim\n",
      "lee\n",
      "park\n"
     ]
    }
   ],
   "source": [
    "data = ['kim', 'lee', 'park']\n",
    "for i in data[0:4]:\n",
    " print(i)"
   ]
  },
  {
   "cell_type": "code",
   "execution_count": 30,
   "id": "0a955ed6-9653-4011-8734-eda189cc6de5",
   "metadata": {},
   "outputs": [
    {
     "name": "stdout",
     "output_type": "stream",
     "text": [
      "6\n",
      "12\n",
      "18\n",
      "24\n",
      "30\n",
      "36\n",
      "42\n",
      "48\n",
      "54\n"
     ]
    }
   ],
   "source": [
    "a= 6 \n",
    "for i in range(1,10):\n",
    "    print(a*i)"
   ]
  },
  {
   "cell_type": "code",
   "execution_count": 31,
   "id": "8e6d7dd3-f0a7-4fba-ba8d-e4f3f09eec74",
   "metadata": {},
   "outputs": [
    {
     "name": "stdout",
     "output_type": "stream",
     "text": [
      "['kim', 'park']\n"
     ]
    }
   ],
   "source": [
    "data = ['kim', 'lee', 'park']\n",
    "data.remove('lee')\n",
    "print(data)"
   ]
  },
  {
   "cell_type": "code",
   "execution_count": 32,
   "id": "6a91fb44-b185-4cc9-b9be-6f5d7561882d",
   "metadata": {},
   "outputs": [],
   "source": [
    "def max_list(a):\n",
    "    j=0\n",
    "    for i in a:\n",
    "        if i>j:\n",
    "            j=i\n",
    "    return j"
   ]
  },
  {
   "cell_type": "code",
   "execution_count": 34,
   "id": "59c350fb-7388-42bf-aaaf-9c90637e490f",
   "metadata": {},
   "outputs": [
    {
     "name": "stdout",
     "output_type": "stream",
     "text": [
      "8\n"
     ]
    }
   ],
   "source": [
    "list_a = [1,2,3,5,6,1,3,8,5]\n",
    "max = max_list(list_a)\n",
    "print(max)"
   ]
  },
  {
   "cell_type": "code",
   "execution_count": 35,
   "id": "d954e7d6-3bb4-431b-9118-174d67897951",
   "metadata": {},
   "outputs": [
    {
     "name": "stdout",
     "output_type": "stream",
     "text": [
      "{'name': ' 홍길동', 'age': 22}\n",
      "{'name': ' 홍길동', 'age': 22, '가족': ['아빠', '엄마', '동생']}\n"
     ]
    }
   ],
   "source": [
    "dict_1 = {'name' :' 홍길동', 'age' : 22}\n",
    "print(dict_1)\n",
    "dict_1['가족'] = ['아빠', '엄마', '동생']\n",
    "print(dict_1)"
   ]
  },
  {
   "cell_type": "code",
   "execution_count": 37,
   "id": "8c637794-7cad-40ba-b468-a2218c2f6ab6",
   "metadata": {},
   "outputs": [],
   "source": [
    "import csv\n",
    "\n",
    "f = open('weather.csv', 'w', newline='')\n",
    "wr = csv.writer(f)\n",
    "wr.writerow(['날짜', '요일', '날씨', '최저기온', '최고기온', '강수량'])\n",
    "wr.writerow(['20230101', '월', '맑음', -4.3, 3.8, 0])\n",
    "wr.writerow(['20230102', '화', '맑음', -7.4, 0.4, 0])\n",
    "wr.writerow(['20230103', '수', '맑음', -9.0, 0.6, 0])\n",
    "\n",
    "f.close()"
   ]
  },
  {
   "cell_type": "code",
   "execution_count": 38,
   "id": "695b37df-fe3f-4731-b482-180870d63758",
   "metadata": {},
   "outputs": [],
   "source": [
    "f =open('weather.csv', 'a', newline='')\n",
    "wr = csv.writer(f)\n",
    "wr.writerow(['가', '나', '다', '라', '마', '바'])\n",
    "\n",
    "f.close()"
   ]
  },
  {
   "cell_type": "markdown",
   "id": "d1c74ac2-df51-41a9-ae95-670162ceda82",
   "metadata": {},
   "source": [
    "### 음료자판기 연습문제 (조건문과 반복문)"
   ]
  },
  {
   "cell_type": "code",
   "execution_count": null,
   "id": "61e5d01f-6462-4d9b-a4b3-aaa72178e9a2",
   "metadata": {},
   "outputs": [
    {
     "name": "stdout",
     "output_type": "stream",
     "text": [
      "음료목록 1. 오렌지 주스 (100원), 2.커피(200원), 3.콜라(300원)\n"
     ]
    },
    {
     "name": "stdin",
     "output_type": "stream",
     "text": [
      "동전을 넣으세요 400\n",
      "음료를 고르세요.\n",
      " 2\n"
     ]
    },
    {
     "name": "stdout",
     "output_type": "stream",
     "text": [
      "커피 제공\n",
      "거스름 돈은 200원입니다.\n",
      "음료목록 1. 오렌지 주스 (100원), 2.커피(200원), 3.콜라(300원)\n"
     ]
    },
    {
     "name": "stdin",
     "output_type": "stream",
     "text": [
      "동전을 넣으세요 400\n",
      "음료를 고르세요.\n",
      " 1\n"
     ]
    },
    {
     "name": "stdout",
     "output_type": "stream",
     "text": [
      "오렌지주스 제공\n",
      "거스름 돈은 300원입니다.\n",
      "음료목록 1. 오렌지 주스 (100원), 2.커피(200원), 3.콜라(300원)\n"
     ]
    },
    {
     "name": "stdin",
     "output_type": "stream",
     "text": [
      "동전을 넣으세요 300\n",
      "음료를 고르세요.\n",
      " 2\n"
     ]
    },
    {
     "name": "stdout",
     "output_type": "stream",
     "text": [
      "커피 제공\n",
      "거스름 돈은 100원입니다.\n",
      "음료목록 1. 오렌지 주스 (100원), 2.커피(200원), 3.콜라(300원)\n"
     ]
    }
   ],
   "source": [
    "while True : \n",
    "    print(\"음료목록 1. 오렌지 주스 (100원), 2.커피(200원), 3.콜라(300원)\")\n",
    "    coin = int(input('동전을 넣으세요'))\n",
    "    drink = int(input('음료를 고르세요.\\n'))\n",
    "\n",
    "    if drink == 1: \n",
    "        if coin >=100: \n",
    "            remain = coin - 100\n",
    "            print('오렌지주스 제공')\n",
    "            print('거스름 돈은 {}원입니다.'.format(remain))\n",
    "        else:\n",
    "            print('잔액이 부족합니다.')\n",
    "   \n",
    "    elif drink == 2:\n",
    "        if coin >=200 : \n",
    "            remain = coin - 200\n",
    "            print('커피 제공')\n",
    "            print('거스름 돈은 {}원입니다.'.format(remain))\n",
    "        else : \n",
    "          print('잔액이 부족합니다.') \n",
    "\n",
    "    elif drink == 3:\n",
    "        if coin >=300:\n",
    "            remain = coin - 300\n",
    "            print('콜라 제공')\n",
    "            print('거스름 돈은 {}원입니다.' .format(remain))\n",
    "\n",
    "        else : \n",
    "          print('잔액이 부족합니다.') \n",
    "\n",
    "    else : \n",
    "         print('없는걸 주문햇어요!') "
   ]
  },
  {
   "cell_type": "code",
   "execution_count": 2,
   "id": "87e4ef47-2032-453d-9102-18d771da5e6c",
   "metadata": {},
   "outputs": [
    {
     "name": "stdout",
     "output_type": "stream",
     "text": [
      "Teacher said that \"Python is 'very' easy.\"\n"
     ]
    }
   ],
   "source": [
    "print(\"Teacher said that \\\"Python is 'very' easy.\\\"\")"
   ]
  },
  {
   "cell_type": "markdown",
   "id": "337dacbb-5d95-419e-8c39-320c0b0e0050",
   "metadata": {},
   "source": [
    "###  식재료 관리 프로그램 "
   ]
  },
  {
   "cell_type": "code",
   "execution_count": 1,
   "id": "0e66dcac-e81d-42fa-b197-7018dac6e930",
   "metadata": {},
   "outputs": [
    {
     "name": "stdout",
     "output_type": "stream",
     "text": [
      "----------\n",
      "1. 보관 식재료 출력\n",
      "    2. 식재료 추가\n",
      "    3. 식재료 삭제\n",
      "    4. 식재료 변경\n",
      "    5. 종료 \n",
      "----------\n"
     ]
    },
    {
     "name": "stdin",
     "output_type": "stream",
     "text": [
      "관리 메뉴를 선택하시오: 1\n"
     ]
    },
    {
     "name": "stdout",
     "output_type": "stream",
     "text": [
      "[]\n",
      "----------\n",
      "1. 보관 식재료 출력\n",
      "    2. 식재료 추가\n",
      "    3. 식재료 삭제\n",
      "    4. 식재료 변경\n",
      "    5. 종료 \n",
      "----------\n"
     ]
    },
    {
     "name": "stdin",
     "output_type": "stream",
     "text": [
      "관리 메뉴를 선택하시오: 1\n"
     ]
    },
    {
     "name": "stdout",
     "output_type": "stream",
     "text": [
      "[]\n",
      "----------\n",
      "1. 보관 식재료 출력\n",
      "    2. 식재료 추가\n",
      "    3. 식재료 삭제\n",
      "    4. 식재료 변경\n",
      "    5. 종료 \n",
      "----------\n"
     ]
    },
    {
     "name": "stdin",
     "output_type": "stream",
     "text": [
      "관리 메뉴를 선택하시오: 2\n",
      "추가할 식재료를 입력하시오: 바나나\n"
     ]
    },
    {
     "name": "stdout",
     "output_type": "stream",
     "text": [
      "['바나나']\n",
      "----------\n",
      "1. 보관 식재료 출력\n",
      "    2. 식재료 추가\n",
      "    3. 식재료 삭제\n",
      "    4. 식재료 변경\n",
      "    5. 종료 \n",
      "----------\n"
     ]
    },
    {
     "name": "stdin",
     "output_type": "stream",
     "text": [
      "관리 메뉴를 선택하시오: 2\n",
      "추가할 식재료를 입력하시오: 포도\n"
     ]
    },
    {
     "name": "stdout",
     "output_type": "stream",
     "text": [
      "['바나나', '포도']\n",
      "----------\n",
      "1. 보관 식재료 출력\n",
      "    2. 식재료 추가\n",
      "    3. 식재료 삭제\n",
      "    4. 식재료 변경\n",
      "    5. 종료 \n",
      "----------\n"
     ]
    },
    {
     "name": "stdin",
     "output_type": "stream",
     "text": [
      "관리 메뉴를 선택하시오: 2\n",
      "추가할 식재료를 입력하시오: 당근\n"
     ]
    },
    {
     "name": "stdout",
     "output_type": "stream",
     "text": [
      "['바나나', '포도', '당근']\n",
      "----------\n",
      "1. 보관 식재료 출력\n",
      "    2. 식재료 추가\n",
      "    3. 식재료 삭제\n",
      "    4. 식재료 변경\n",
      "    5. 종료 \n",
      "----------\n"
     ]
    },
    {
     "name": "stdin",
     "output_type": "stream",
     "text": [
      "관리 메뉴를 선택하시오: 2\n",
      "추가할 식재료를 입력하시오: 사과\n"
     ]
    },
    {
     "name": "stdout",
     "output_type": "stream",
     "text": [
      "['바나나', '포도', '당근', '사과']\n",
      "----------\n",
      "1. 보관 식재료 출력\n",
      "    2. 식재료 추가\n",
      "    3. 식재료 삭제\n",
      "    4. 식재료 변경\n",
      "    5. 종료 \n",
      "----------\n"
     ]
    },
    {
     "name": "stdin",
     "output_type": "stream",
     "text": [
      "관리 메뉴를 선택하시오: 2\n",
      "추가할 식재료를 입력하시오: 오렌지\n"
     ]
    },
    {
     "name": "stdout",
     "output_type": "stream",
     "text": [
      "['바나나', '포도', '당근', '사과', '오렌지']\n",
      "----------\n",
      "1. 보관 식재료 출력\n",
      "    2. 식재료 추가\n",
      "    3. 식재료 삭제\n",
      "    4. 식재료 변경\n",
      "    5. 종료 \n",
      "----------\n"
     ]
    },
    {
     "name": "stdin",
     "output_type": "stream",
     "text": [
      "관리 메뉴를 선택하시오: 3\n",
      "삭제할 식재료를 입력하시오. 당근\n"
     ]
    },
    {
     "name": "stdout",
     "output_type": "stream",
     "text": [
      "----------\n",
      "1. 보관 식재료 출력\n",
      "    2. 식재료 추가\n",
      "    3. 식재료 삭제\n",
      "    4. 식재료 변경\n",
      "    5. 종료 \n",
      "----------\n"
     ]
    },
    {
     "name": "stdin",
     "output_type": "stream",
     "text": [
      "관리 메뉴를 선택하시오: 1\n"
     ]
    },
    {
     "name": "stdout",
     "output_type": "stream",
     "text": [
      "['바나나', '포도', '사과', '오렌지']\n",
      "----------\n",
      "1. 보관 식재료 출력\n",
      "    2. 식재료 추가\n",
      "    3. 식재료 삭제\n",
      "    4. 식재료 변경\n",
      "    5. 종료 \n",
      "----------\n"
     ]
    },
    {
     "name": "stdin",
     "output_type": "stream",
     "text": [
      "관리 메뉴를 선택하시오: 4\n",
      "교환할 식재료를 입력하시오.: 오렌지\n",
      "새로운 식재료를 입력하시오. 단무지\n"
     ]
    },
    {
     "name": "stdout",
     "output_type": "stream",
     "text": [
      "----------\n",
      "1. 보관 식재료 출력\n",
      "    2. 식재료 추가\n",
      "    3. 식재료 삭제\n",
      "    4. 식재료 변경\n",
      "    5. 종료 \n",
      "----------\n"
     ]
    },
    {
     "name": "stdin",
     "output_type": "stream",
     "text": [
      "관리 메뉴를 선택하시오: 1\n"
     ]
    },
    {
     "name": "stdout",
     "output_type": "stream",
     "text": [
      "['바나나', '포도', '사과', '단무지']\n",
      "----------\n",
      "1. 보관 식재료 출력\n",
      "    2. 식재료 추가\n",
      "    3. 식재료 삭제\n",
      "    4. 식재료 변경\n",
      "    5. 종료 \n",
      "----------\n"
     ]
    },
    {
     "name": "stdin",
     "output_type": "stream",
     "text": [
      "관리 메뉴를 선택하시오: 5\n"
     ]
    }
   ],
   "source": [
    "menu = 0 \n",
    "food = [ ] \n",
    "while menu !=5:\n",
    "    print('-'*10)\n",
    "    print('''1. 보관 식재료 출력\n",
    "    2. 식재료 추가\n",
    "    3. 식재료 삭제\n",
    "    4. 식재료 변경\n",
    "    5. 종료 ''')\n",
    "    print('-'*10)\n",
    "\n",
    "    menu = int(input('관리 메뉴를 선택하시오:'))\n",
    "    \n",
    "    if menu == 1: \n",
    "        print(food) \n",
    "        \n",
    "    elif menu == 2:\n",
    "        name = input('추가할 식재료를 입력하시오:')\n",
    "        food.append(name)\n",
    "        print(food)\n",
    "    \n",
    "    elif menu ==3:\n",
    "        eli_name = input('삭제할 식재료를 입력하시오.')\n",
    "        if eli_name in food:\n",
    "            food.remove(eli_name)\n",
    "        else:\n",
    "            print('식재료 재고 없음')\n",
    "    \n",
    "    elif menu == 4:\n",
    "        exch_name = input('교환할 식재료를 입력하시오.:')\n",
    "        if exch_name in food:\n",
    "            idx = food.index(exch_name)\n",
    "            new_name = input('새로운 식재료를 입력하시오.')\n",
    "            food[idx] = new_name\n",
    "        else:\n",
    "            print('식재료 재고 없음')\n",
    "    \n",
    "    elif menu == 5:\n",
    "        break\n",
    "    "
   ]
  },
  {
   "cell_type": "markdown",
   "id": "71cff0e5-c567-4671-b919-9a96a2d74c50",
   "metadata": {},
   "source": [
    "### 연습문제 소수 판별기"
   ]
  },
  {
   "cell_type": "code",
   "execution_count": 6,
   "id": "77ec5a8b-df50-4b5c-8f9d-b3abc5e9590b",
   "metadata": {},
   "outputs": [
    {
     "name": "stdin",
     "output_type": "stream",
     "text": [
      "판별할 자연수를입력하시오 17\n"
     ]
    },
    {
     "name": "stdout",
     "output_type": "stream",
     "text": [
      "True\n"
     ]
    }
   ],
   "source": [
    "def check_prime_num(x):\n",
    "    for i in range(2, x):\n",
    "        if x%i ==0:\n",
    "            return False\n",
    "        else:\n",
    "            return True\n",
    "\n",
    "number = int(input('판별할 자연수를입력하시오'))\n",
    "print(check_prime_num(number))"
   ]
  },
  {
   "cell_type": "markdown",
   "id": "d90d4275-cc50-4609-bc9a-c48965074051",
   "metadata": {},
   "source": [
    "### 예금 이자 계산기"
   ]
  },
  {
   "cell_type": "code",
   "execution_count": 7,
   "id": "b929c68d-d3ae-4fb1-815e-4483298ca0b9",
   "metadata": {},
   "outputs": [
    {
     "name": "stdout",
     "output_type": "stream",
     "text": [
      "원금 : 30000000, 이자: 4828069.529999994\n"
     ]
    }
   ],
   "source": [
    "def interest_year(p, r, n):\n",
    "    return p*(1+r)**n\n",
    "p=30000000\n",
    "r= 0.051\n",
    "n=3\n",
    "\n",
    "result = interest_year(p,r,n)\n",
    "\n",
    "result = interest_year(p,r,n)\n",
    "\n",
    "print( '원금 : {0}, 이자: {1}'.format(p, result-p))"
   ]
  },
  {
   "cell_type": "code",
   "execution_count": null,
   "id": "08c85ab7-c00f-4d47-886d-2363226546bb",
   "metadata": {},
   "outputs": [],
   "source": []
  },
  {
   "cell_type": "code",
   "execution_count": null,
   "id": "dccca8f1-8477-4c04-8d3f-a71c25b4aca1",
   "metadata": {},
   "outputs": [],
   "source": []
  }
 ],
 "metadata": {
  "kernelspec": {
   "display_name": "Python 3 (ipykernel)",
   "language": "python",
   "name": "python3"
  },
  "language_info": {
   "codemirror_mode": {
    "name": "ipython",
    "version": 3
   },
   "file_extension": ".py",
   "mimetype": "text/x-python",
   "name": "python",
   "nbconvert_exporter": "python",
   "pygments_lexer": "ipython3",
   "version": "3.11.7"
  }
 },
 "nbformat": 4,
 "nbformat_minor": 5
}
