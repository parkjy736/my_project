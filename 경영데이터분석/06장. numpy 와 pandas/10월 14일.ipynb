{
 "cells": [
  {
   "cell_type": "markdown",
   "id": "b11036f3-7184-426a-b293-4313b2fb50d3",
   "metadata": {},
   "source": [
    "#### 넘파이는 쉽지만 속도가 느리다 "
   ]
  },
  {
   "cell_type": "markdown",
   "id": "5ddd9c1b-0f18-4f42-a507-9dfca943adde",
   "metadata": {},
   "source": [
    "##### 차원: 관측하고자하는 데이터의 속성\n",
    "> 튜플?: row (행) 하나를 데이터베이스에서 튜플이라고 한다.  \n",
    "> 행렬: 2차원 배열. 1차원을 여러개 묶은 배열   \n",
    "> 텐서: 3차원이상의 배열은 모두 텐서  "
   ]
  },
  {
   "cell_type": "markdown",
   "id": "2cbf06c2-331d-4710-9e71-bc208177d95a",
   "metadata": {},
   "source": [
    "##### 배열의 랭크는 차원의 수, 모양은 배열의 차원과 크기를 나타냄\n",
    "> 2차원배열에서 랭크는 2, 모양은 행이 3개이고 열이 2개이면 (3, 2) 라고 표현함"
   ]
  },
  {
   "cell_type": "markdown",
   "id": "bf955fa4-214c-4afc-b3a2-fa9a62a82525",
   "metadata": {},
   "source": [
    "##### ndarray : 넘파이의 다차원 배열 객체 (중요!)\n",
    "> 1) 자료형이 모두 같은 데이터를 담은 다차원 배열\n",
    "> 2) 정수 또는 실수를 저장\n",
    "> 3) 배열 데이터에도 순서가 있으므로 인덱싱과 슬라이싱이 가능"
   ]
  },
  {
   "cell_type": "markdown",
   "id": "31034ed6-b582-492d-8179-429ae8bac58f",
   "metadata": {},
   "source": [
    "##### 판다스의 시리즈와 데이터프레임\n",
    "> 판다스: 파이썬 라이브러리이다. 데이터프레임 자료구조를 제공한다.  \n",
    "> 시리즈(Series): 인덱스와 값이 한 쌍을 이루는 1차원 자료구조 객체이다.  "
   ]
  },
  {
   "cell_type": "markdown",
   "id": "e6ed2432-9a8a-4299-a0eb-c107e2bd655e",
   "metadata": {},
   "source": [
    "넘파이와 판다스 비교 \n",
    "넘파이의 특징\n",
    "> 다차원 배열 객체  \n",
    "> 정교한 브로드캐스팅  \n",
    "> C , C++ 포트란 코드를 통합  \n",
    "> 수학적 알고리즘 제공\n",
    "\n",
    "판다스의 특징  \n",
    "> 대용량 데이터 처리  \n",
    "> 시각적으로 알아보기 편리한 표 형태   \n",
    "> 데이터 분석 도구 제공  "
   ]
  },
  {
   "cell_type": "markdown",
   "id": "3e9bb74c-fe4f-46c8-868e-7889a2761b0c",
   "metadata": {},
   "source": [
    "##### 02. 넘파이 활용"
   ]
  },
  {
   "cell_type": "markdown",
   "id": "c82d6499-6b66-438c-8025-b0a990b2add3",
   "metadata": {},
   "source": [
    "1. 넘파이의 배열 생성  \n",
    "   ndarray를 만들 때 넘파이 라이브러리에 정의된 array() 함수를 사용 "
   ]
  },
  {
   "cell_type": "code",
   "execution_count": 2,
   "id": "7baf2fd8-7a6d-471a-bcd9-844555d06176",
   "metadata": {},
   "outputs": [
    {
     "name": "stdout",
     "output_type": "stream",
     "text": [
      "a.shape:  (4,)\n",
      "a[0]: 1\n"
     ]
    }
   ],
   "source": [
    "import numpy as np \n",
    "\n",
    "# 리스트를 생성하고 배열로 변환\n",
    "list1 = [1, 2, 3, 4]\n",
    "a = np.array(list1)\n",
    "print('a.shape: ', a.shape)\n",
    "print('a[0]:', a[0]) \n",
    "# 왜 a[0] =1 일까? , 2차원과 달리 1차원배열인 경우 df[0]은 열의 인덱스가 0인원소를 가져오라는 말인가?"
   ]
  },
  {
   "cell_type": "code",
   "execution_count": 4,
   "id": "88a2eaf8-4798-48c7-b7a1-85d1e8db0470",
   "metadata": {},
   "outputs": [
    {
     "name": "stdout",
     "output_type": "stream",
     "text": [
      "b.shape: (2, 3)\n",
      "b[0,0] :  1\n",
      "b[0]: [1 2 3]\n"
     ]
    }
   ],
   "source": [
    "# 2차원 배열 생성하기 \n",
    "b = np.array([[1,2,3], [4,5,6]])\n",
    "print('b.shape:', b.shape)\n",
    "print('b[0,0] : ', b[0,0])\n",
    "print('b[0]:', b[0])"
   ]
  },
  {
   "cell_type": "code",
   "execution_count": 6,
   "id": "f4b6d254-f87b-425b-9776-7ccb90b56444",
   "metadata": {},
   "outputs": [
    {
     "name": "stdout",
     "output_type": "stream",
     "text": [
      "a\n",
      " [0. 0.]\n",
      "b\n",
      " [[0. 0.]\n",
      " [0. 0.]]\n",
      "c\n",
      " [[1. 1. 1.]\n",
      " [1. 1. 1.]]\n",
      "d\n",
      " [[5 5 5]\n",
      " [5 5 5]]\n",
      "e\n",
      " [[1. 0. 0.]\n",
      " [0. 1. 0.]\n",
      " [0. 0. 1.]]\n"
     ]
    }
   ],
   "source": [
    "a = np.zeros(2) # 0으로 채운 1차원 배열을 생성\n",
    "print('a\\n', a)\n",
    "b = np.zeros((2,2)) # 0으로 채운 2차원 배열을 생성\n",
    "print('b\\n', b)\n",
    "c= np.ones((2,3))\n",
    "print('c\\n', c)\n",
    "d = np.full((2,3), 5) # 지정된 모양에 지정한 값으로 채운 배열을 생성\n",
    "print('d\\n' , d)\n",
    "e = np.eye(3)\n",
    "print('e\\n', e)"
   ]
  },
  {
   "cell_type": "markdown",
   "id": "b3bf44d0-ac5e-4b7c-bb48-29ef5f18280e",
   "metadata": {},
   "source": [
    "##### 넘파이 배열의 속성"
   ]
  },
  {
   "cell_type": "code",
   "execution_count": 3,
   "id": "b84837bc-81a4-4992-a006-3dfe00cdd194",
   "metadata": {
    "jp-MarkdownHeadingCollapsed": true
   },
   "outputs": [
    {
     "name": "stdout",
     "output_type": "stream",
     "text": [
      "<class 'numpy.ndarray'>\n",
      "2\n",
      "int32\n",
      "4\n",
      "6\n",
      "24\n",
      "[[1 4]\n",
      " [2 5]\n",
      " [3 6]]\n",
      "(2, 3)\n"
     ]
    }
   ],
   "source": [
    "arr = np.array([[1,2,3], [4,5,6]])\n",
    "\n",
    "print( type(arr))\n",
    "print( arr.ndim )\n",
    "print(arr.dtype)\n",
    "print(arr.itemsize)\n",
    "print(arr.size)\n",
    "print(arr.nbytes)\n",
    "print(arr.T)\n",
    "print(arr.shape)\n",
    "\n",
    "# 이거 시험에 물어볼수 있다. 예를들어 arr.shape주고 무엇인가? ( ?, ?)\n"
   ]
  },
  {
   "cell_type": "code",
   "execution_count": null,
   "id": "d4040b17-7e30-4b22-b0ce-e52fcbb6ba1e",
   "metadata": {},
   "outputs": [],
   "source": [
    "#1차원 배열 생성하기\n",
    "a = np.arange(8)\n",
    "print('a\\n', a)\n",
    "#다차원 배열로 변경하기\n",
    "a.shape = (2,4)\n",
    "print('shape\\n', a)\n",
    "#1차원 배열로 변경하기\n",
    "print('flatten\\n', a.flatten( ))\n",
    "#resize 함수로 모양 변경하기\n",
    "a.resize((4,2))\n",
    "print('resize\\n', a)"
   ]
  },
  {
   "cell_type": "code",
   "execution_count": null,
   "id": "faa15f80-9bda-4b9b-a333-a4e35941fab2",
   "metadata": {},
   "outputs": [],
   "source": [
    "# T는 행렬의 행과 열을 교차\n",
    "\n",
    "a = np.array([[0, 1, 2], [3, 4, 5]])\n",
    "print('a\\n', a)\n",
    "b = a.transpose( )\n",
    "print('b\\n', b)\n",
    "c = a.T\n",
    "print('c\\n', c)\n"
   ]
  },
  {
   "cell_type": "markdown",
   "id": "8bd83cac-0bdb-4fc9-91c3-633ec109da3d",
   "metadata": {},
   "source": [
    "### 10월 16일 "
   ]
  },
  {
   "cell_type": "code",
   "execution_count": 2,
   "id": "ddbcb732-eed1-4bb9-b4f6-3742974f1cad",
   "metadata": {},
   "outputs": [
    {
     "name": "stdout",
     "output_type": "stream",
     "text": [
      "[False  True  True False]\n"
     ]
    }
   ],
   "source": [
    "mask = np.array([0, 1, 1, 0], dtype=bool)\n",
    "print(mask)"
   ]
  },
  {
   "cell_type": "code",
   "execution_count": 3,
   "id": "89d28174-1715-468d-a5b2-fc1b10ff4dc6",
   "metadata": {},
   "outputs": [
    {
     "name": "stdout",
     "output_type": "stream",
     "text": [
      "[False  True  True False]\n",
      "\n",
      "data 출력\n",
      " [[-1.79559877 -0.37282862]\n",
      " [ 0.18247197 -0.0255961 ]\n",
      " [ 0.52965546  0.20242367]\n",
      " [-1.14207307  0.56518628]]\n",
      "\n",
      "마스킹된 데이터 출력\n",
      " [[ 0.18247197 -0.0255961 ]\n",
      " [ 0.52965546  0.20242367]]\n",
      "\n",
      "마스킹 역전된 데이터 출력\n",
      " [[-1.79559877 -0.37282862]\n",
      " [-1.14207307  0.56518628]]\n"
     ]
    }
   ],
   "source": [
    "mask = np.array([0, 1, 1, 0], dtype=bool)\n",
    "#dtype = 데이터 타입은 불리안 타입이다. \n",
    "# 불리안타입은 참인가 거짓인가 표현하라는말 \n",
    "print(mask)\n",
    "# 0은 항상 false , 1은 True\n",
    "\n",
    "data = np.random.randn(4,2)\n",
    "# 행이 4개이며 열이 2개인 데이터프레임 난수를 생성해줘\n",
    "\n",
    "print('\\ndata 출력\\n',data) #랜덤 데이터 배열 data는 책과 다르게 나타남\n",
    "\n",
    "\n",
    "\n",
    "print('\\n마스킹된 데이터 출력\\n',data[mask]) # True인 요소를 출력해줘\n",
    "print('\\n마스킹 역전된 데이터 출력\\n',data[~mask]) # False인 요소를 출력해줘"
   ]
  },
  {
   "cell_type": "code",
   "execution_count": 4,
   "id": "867a8b7d-3fe1-440b-a3f8-a4e459ec19f5",
   "metadata": {},
   "outputs": [
    {
     "name": "stdout",
     "output_type": "stream",
     "text": [
      "양수 데이터 출력 \n",
      " [0.18247197 0.52965546 0.20242367 0.56518628]\n",
      "두 번째 행의 양수 데이터 출력 \n",
      " [0.18247197]\n"
     ]
    }
   ],
   "source": [
    "#조건식 마스킹으로 데이터에서 기준보다 큰 값이나 작은값을 쉽게 찾는다.\n",
    "\n",
    "posit = data[data > 0] # data의 요소들중에서 요소들이 0보다 큰 요소들만 posit에 저장\n",
    "print('양수 데이터 출력', '\\n',posit)\n",
    "#다중 조건\n",
    "over1 = data[1][data[1] > 0] # data[1] : index행번호가 1인 행\n",
    "# 그중에서 0보다 큰 요소들을 보여줘\n",
    "print('두 번째 행의 양수 데이터 출력','\\n',over1)"
   ]
  },
  {
   "cell_type": "code",
   "execution_count": 5,
   "id": "67d70405-5e5f-43c5-9859-8d9d46f9d1f1",
   "metadata": {},
   "outputs": [
    {
     "data": {
      "text/plain": [
       "array([0.52965546, 0.20242367])"
      ]
     },
     "execution_count": 5,
     "metadata": {},
     "output_type": "execute_result"
    }
   ],
   "source": [
    "data[2][data[2]>0]"
   ]
  },
  {
   "cell_type": "markdown",
   "id": "d6fc6bb6-b7cc-4bdc-956c-3e92e1fdd797",
   "metadata": {},
   "source": [
    "####  유니버설 함수와 브로드캐스팅"
   ]
  },
  {
   "cell_type": "markdown",
   "id": "71118b10-54c8-4ca1-845e-9428a48d7f67",
   "metadata": {},
   "source": [
    "배열을 복사할 필요가 있다.   \n",
    "변수를 copy한다는건 배열의 값들을 copy한다는것인데,  \n",
    "얕은복사, 깊은복사가 있음  \n",
    "얕은 복사는 등호로 복제  \n",
    "깊은 복사 : copy()함수를 사용.  "
   ]
  },
  {
   "cell_type": "markdown",
   "id": "c821c07b-621c-4da6-a42a-ed5f16483552",
   "metadata": {},
   "source": [
    "##### 얕은 복사"
   ]
  },
  {
   "cell_type": "code",
   "execution_count": 7,
   "id": "ffef5918-0920-4e24-b3f2-ab2bb21414cb",
   "metadata": {},
   "outputs": [
    {
     "name": "stdout",
     "output_type": "stream",
     "text": [
      "[0 1 2 3 4 5]\n",
      "True\n",
      "[10  1  2  3  4  5]\n"
     ]
    }
   ],
   "source": [
    "a = np.arange(6) #0부터 5까지 6개의 요소를 1차원 배열 생성\n",
    "b = a\n",
    "print(a)\n",
    "print(b is a) #is는 논리연산자, 불리안 타입의 결과를 내뱉는다.\n",
    "b[0] = 10 #인덱스 번호가 0인 열에 있는 요소(여기선 0임)를 10으로 바꾼다.\n",
    "print(a) "
   ]
  },
  {
   "cell_type": "code",
   "execution_count": 8,
   "id": "42b76af2-c157-4129-a7b0-03cfed94e0be",
   "metadata": {},
   "outputs": [
    {
     "name": "stdout",
     "output_type": "stream",
     "text": [
      "A:  [0 1 2 3 4 5]\n",
      "C:  [20  1  2  3  4  5]\n"
     ]
    }
   ],
   "source": [
    "a = np.arange(6)\n",
    "c = a.copy( )\n",
    "c[0] = 20\n",
    "print('A: ', a)\n",
    "print('C: ', c)"
   ]
  },
  {
   "cell_type": "markdown",
   "id": "bc797e63-b152-4352-b1ae-a8ab01de3e26",
   "metadata": {},
   "source": [
    "copy 함수를 사용하면 복사본인 배열 c의 값을 수정해도 원본 a에 영향이 없음"
   ]
  },
  {
   "cell_type": "markdown",
   "id": "c3cf1118-be44-47e0-b11e-2d1deff1a21f",
   "metadata": {},
   "source": [
    "#### 배열 정렬"
   ]
  },
  {
   "cell_type": "code",
   "execution_count": 10,
   "id": "daabc88a-1b65-40b2-9f42-c68d4bfa132d",
   "metadata": {},
   "outputs": [
    {
     "name": "stdout",
     "output_type": "stream",
     "text": [
      "원본\n",
      " [3 2 5 1 4]\n",
      "정렬 후\n",
      " [1 2 3 4 5]\n",
      "원본\n",
      " [3 2 5 1 4]\n",
      "정렬한 인덱스\n",
      " [3 1 0 4 2]\n",
      "원본\n",
      " [1 2 3 4 5]\n"
     ]
    }
   ],
   "source": [
    "a = np.array([3, 2, 5, 1, 4])\n",
    "print('원본\\n',a)\n",
    "print('정렬 후\\n',np.sort(a))\n",
    "print('원본\\n',a)\n",
    "print('정렬한 인덱스\\n',np.argsort(a))\n",
    "a.sort( )\n",
    "print('원본\\n',a)"
   ]
  },
  {
   "cell_type": "markdown",
   "id": "2949fed3-de65-43ef-b2ff-353521afbd95",
   "metadata": {},
   "source": [
    "np.sort()와  배열.sort()의 차이?  \n",
    "np.sort()는 배열을 해도, 원본을 유지하지만,  \n",
    "배열.sort() 는 배열을 하게된다면, 원본도 정렬이 된다.  "
   ]
  },
  {
   "cell_type": "code",
   "execution_count": 13,
   "id": "20966418-bf73-4e93-b8f1-1e499e0d78a4",
   "metadata": {},
   "outputs": [
    {
     "name": "stdout",
     "output_type": "stream",
     "text": [
      "[1 2 3 4 5]\n",
      "[3 2 5 1 4]\n"
     ]
    }
   ],
   "source": [
    "a = np.array([3, 2, 5, 1, 4])\n",
    "cor_a = np.sort(a)\n",
    "print(cor_a)\n",
    "print(a)\n",
    "# np.sort는 원본을 훼손하지 않는다. "
   ]
  },
  {
   "cell_type": "code",
   "execution_count": 14,
   "id": "8c679a24-e0ef-4e65-b05f-06f4d2e9175a",
   "metadata": {},
   "outputs": [
    {
     "name": "stdout",
     "output_type": "stream",
     "text": [
      "[5 6 7]\n"
     ]
    }
   ],
   "source": [
    "a= np.array([1,2,3])\n",
    "b= np.array([4])\n",
    "c=a+b\n",
    "print(c)\n",
    "\n",
    "#시험문제내실때, 단답으로 낼수있을것같지만사지선다로 \n",
    "#a변수 , b변수일때 c의 변수는 4, 5, 6 이다 ->오답 : 이게 교수님 좋아하는 유형임"
   ]
  },
  {
   "cell_type": "code",
   "execution_count": 26,
   "id": "de48f0f4-fcec-466a-8177-012d426f9d24",
   "metadata": {},
   "outputs": [],
   "source": [
    "# 초콜릿\n",
    "import pandas as pd"
   ]
  },
  {
   "cell_type": "code",
   "execution_count": 1,
   "id": "be0bca9b-115d-4bf8-ba7d-fb54e8bb2ee9",
   "metadata": {},
   "outputs": [],
   "source": [
    "import numpy as np"
   ]
  },
  {
   "cell_type": "code",
   "execution_count": 2,
   "id": "fab11700-702b-454e-96b2-dab7342a393e",
   "metadata": {},
   "outputs": [
    {
     "data": {
      "text/plain": [
       "array([[1.000e+00, 2.016e+03, 6.300e-01, 3.750e+00],\n",
       "       [2.000e+00, 2.015e+03, 7.000e-01, 2.750e+00],\n",
       "       [3.000e+00, 2.015e+03, 7.000e-01, 3.000e+00],\n",
       "       ...,\n",
       "       [1.793e+03, 2.011e+03, 6.500e-01, 3.500e+00],\n",
       "       [1.794e+03, 2.011e+03, 6.200e-01, 3.250e+00],\n",
       "       [1.795e+03, 2.010e+03, 6.500e-01, 3.000e+00]])"
      ]
     },
     "execution_count": 2,
     "metadata": {},
     "output_type": "execute_result"
    }
   ],
   "source": [
    "data = np.loadtxt('C:\\\\sweet\\\\chocolate_ranking.csv', delimiter=',')\n",
    "data"
   ]
  },
  {
   "cell_type": "code",
   "execution_count": null,
   "id": "0f1771b5-6716-4963-be81-9ecd2c190b54",
   "metadata": {},
   "outputs": [],
   "source": []
  },
  {
   "cell_type": "code",
   "execution_count": null,
   "id": "a755b86b-a192-4eb0-9434-c9bc3c63020b",
   "metadata": {},
   "outputs": [],
   "source": []
  },
  {
   "cell_type": "code",
   "execution_count": null,
   "id": "87f7f534-63fb-4b58-ac99-32153f8fd110",
   "metadata": {},
   "outputs": [],
   "source": []
  },
  {
   "cell_type": "code",
   "execution_count": null,
   "id": "9086d38b-3eec-4969-b0cf-ff2e3b77fecc",
   "metadata": {},
   "outputs": [],
   "source": []
  },
  {
   "cell_type": "markdown",
   "id": "a0988dba-5e31-4c67-a028-578c95434c99",
   "metadata": {},
   "source": [
    "#### pandas"
   ]
  },
  {
   "cell_type": "markdown",
   "id": "ec16e36b-83e9-4887-bfb8-7536b1ce539a",
   "metadata": {},
   "source": [
    "가장 근본적인 차이는 칼럼갯수에 있다.  \n",
    "시리즈는 칼럼이 1개, 데이터프레임은 1개 이상이다.  \n",
    "출처: https://tbr74.tistory.com/entry/판다스-Dataframe과-Series의-차이점 [JayD:티스토리]  "
   ]
  },
  {
   "cell_type": "code",
   "execution_count": 11,
   "id": "af84f21a-2f27-4670-846f-933588b13c20",
   "metadata": {},
   "outputs": [
    {
     "name": "stdout",
     "output_type": "stream",
     "text": [
      "[[0 1 2 3 4]\n",
      " [5 6 7 8 9]]\n",
      "[[0 5]\n",
      " [1 6]\n",
      " [2 7]\n",
      " [3 8]\n",
      " [4 9]]\n"
     ]
    }
   ],
   "source": [
    "a = np.arange(0, 10)\n",
    "a.shape = (2, 5)\n",
    "print(a)\n",
    "a= a.T\n",
    "print(a)"
   ]
  },
  {
   "cell_type": "code",
   "execution_count": 15,
   "id": "fc12a76b-67be-4225-b17e-3b06859f56ce",
   "metadata": {},
   "outputs": [
    {
     "name": "stdout",
     "output_type": "stream",
     "text": [
      "data:\n",
      " [[-0.69983801  0.18915611]\n",
      " [ 0.82796902  0.63809345]\n",
      " [-0.36497387 -0.5550336 ]\n",
      " [-0.61155063  0.42391897]]\n",
      "\n",
      "mask:\n",
      " [[ True False]\n",
      " [ True False]\n",
      " [ True False]\n",
      " [ True False]]\n",
      "\n",
      "마스킹된 데이터 출력:\n",
      " [-0.69983801  0.82796902 -0.36497387 -0.61155063]\n",
      "\n",
      "마스킹 역전된 데이터 출력:\n",
      " [ 0.18915611  0.63809345 -0.5550336   0.42391897]\n"
     ]
    }
   ],
   "source": [
    "import numpy as np\n",
    "import pandas as pd\n",
    "# 예시 데이터 생성\n",
    "data = np.random.randn(4, 2)  # 4행 2열의 랜덤 데이터 생성\n",
    "print(\"data:\\n\", data)\n",
    "\n",
    "# 마스크 생성\n",
    "mask = np.array([[1, 0], [1, 0], [1, 0], [1, 0]])  # 4행 2열의 마스크 배열\n",
    "mask = mask.astype(bool)  # 불리언 타입으로 변환\n",
    "print(\"\\nmask:\\n\", mask)\n",
    "\n",
    "# 마스킹된 데이터\n",
    "masked_data = data[mask]  # True인 값의 데이터만 선택\n",
    "print(\"\\n마스킹된 데이터 출력:\\n\", masked_data)\n",
    "\n",
    "# 마스킹 역전된 데이터\n",
    "inverse_masked_data = data[~mask]  # False인 값의 데이터만 선택\n",
    "print(\"\\n마스킹 역전된 데이터 출력:\\n\", inverse_masked_data)"
   ]
  },
  {
   "cell_type": "code",
   "execution_count": 17,
   "id": "c1021c5c-b6a2-480d-9c03-1a85051bc3f3",
   "metadata": {},
   "outputs": [
    {
     "data": {
      "text/html": [
       "<div>\n",
       "<style scoped>\n",
       "    .dataframe tbody tr th:only-of-type {\n",
       "        vertical-align: middle;\n",
       "    }\n",
       "\n",
       "    .dataframe tbody tr th {\n",
       "        vertical-align: top;\n",
       "    }\n",
       "\n",
       "    .dataframe thead th {\n",
       "        text-align: right;\n",
       "    }\n",
       "</style>\n",
       "<table border=\"1\" class=\"dataframe\">\n",
       "  <thead>\n",
       "    <tr style=\"text-align: right;\">\n",
       "      <th></th>\n",
       "      <th>이름</th>\n",
       "      <th>성별</th>\n",
       "      <th>나이</th>\n",
       "      <th>키</th>\n",
       "    </tr>\n",
       "  </thead>\n",
       "  <tbody>\n",
       "    <tr>\n",
       "      <th>0</th>\n",
       "      <td>한빛</td>\n",
       "      <td>남자</td>\n",
       "      <td>20</td>\n",
       "      <td>180</td>\n",
       "    </tr>\n",
       "    <tr>\n",
       "      <th>1</th>\n",
       "      <td>한결</td>\n",
       "      <td>남자</td>\n",
       "      <td>21</td>\n",
       "      <td>177</td>\n",
       "    </tr>\n",
       "    <tr>\n",
       "      <th>2</th>\n",
       "      <td>한라</td>\n",
       "      <td>여자</td>\n",
       "      <td>20</td>\n",
       "      <td>160</td>\n",
       "    </tr>\n",
       "  </tbody>\n",
       "</table>\n",
       "</div>"
      ],
      "text/plain": [
       "   이름  성별  나이    키\n",
       "0  한빛  남자  20  180\n",
       "1  한결  남자  21  177\n",
       "2  한라  여자  20  160"
      ]
     },
     "execution_count": 17,
     "metadata": {},
     "output_type": "execute_result"
    }
   ],
   "source": [
    "dict1 = {'이름':{0:'한빛', 1:'한결', 2:'한라'},\n",
    " '성별':{0:'남자', 1:'남자', 2:'여자'},\n",
    " '나이':{0:'20', 1:'21', 2:'20'},\n",
    " '키':{0:'180', 1:'177', 2:'160'}}\n",
    "pd.DataFrame(dict1)"
   ]
  },
  {
   "cell_type": "code",
   "execution_count": null,
   "id": "c425a331-16c9-4f44-ac37-418d14795107",
   "metadata": {},
   "outputs": [],
   "source": []
  }
 ],
 "metadata": {
  "kernelspec": {
   "display_name": "Python 3 (ipykernel)",
   "language": "python",
   "name": "python3"
  },
  "language_info": {
   "codemirror_mode": {
    "name": "ipython",
    "version": 3
   },
   "file_extension": ".py",
   "mimetype": "text/x-python",
   "name": "python",
   "nbconvert_exporter": "python",
   "pygments_lexer": "ipython3",
   "version": "3.11.7"
  }
 },
 "nbformat": 4,
 "nbformat_minor": 5
}
